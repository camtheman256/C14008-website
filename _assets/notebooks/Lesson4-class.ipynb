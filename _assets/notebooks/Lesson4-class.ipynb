{
 "cells": [
  {
   "cell_type": "markdown",
   "metadata": {},
   "source": [
    "# C14008 Lesson 4: Julia Packages\n",
    "What's poppin' 💥 gang 👨‍🏫, Cameron is coming in <font color=red>**_HOT_**</font>🔥🚒🧯🧨 with a class 🏫 about packages 📦 and stuff 🙌. He wrote this whole notebook 📓, but I've snuck this little bit of text✍🏼 in right under ⬇️ his nose 👃🏼!"
   ]
  },
  {
   "cell_type": "markdown",
   "metadata": {},
   "source": [
    "## Presenting solutions\n",
    "\n",
    "Welcome back to class! Because there was no assigned homework, there are no assigned problems to present. So, solutions to any Euler problems completed over the past week are welcome to presented now. These include:\n",
    "\n",
    "- Euler 13\n",
    "- Euler 28\n",
    "- Euler 29\n",
    "- Euler 30\n",
    "- Euler 39"
   ]
  },
  {
   "cell_type": "markdown",
   "metadata": {},
   "source": [
    "## Associated files"
   ]
  },
  {
   "cell_type": "markdown",
   "metadata": {},
   "source": [
    "This file is used to read from in the notebook. In your notebook directory, make a text file called `p099_base_exp.txt` and save this text in it.\n",
    "\n",
    "`p099_base_exp.txt` from Euler 99"
   ]
  },
  {
   "cell_type": "raw",
   "metadata": {},
   "source": [
    "519432,525806\n",
    "632382,518061\n",
    "78864,613712\n",
    "466580,530130\n",
    "780495,510032\n",
    "525895,525320\n",
    "15991,714883\n",
    "960290,502358\n",
    "760018,511029\n",
    "166800,575487\n",
    "210884,564478\n",
    "555151,523163\n",
    "681146,515199\n",
    "563395,522587\n",
    "738250,512126\n",
    "923525,503780\n",
    "595148,520429\n",
    "177108,572629\n",
    "750923,511482\n",
    "440902,532446\n",
    "881418,505504\n",
    "422489,534197\n",
    "979858,501616\n",
    "685893,514935\n",
    "747477,511661\n",
    "167214,575367"
   ]
  },
  {
   "cell_type": "markdown",
   "metadata": {},
   "source": [
    "## File I/O in Julia\n",
    "Often in Julia, you'll need to read in files to have data to work with, and there's a number of methods we can use to accomplish this. First, let's create a file and put some information in it."
   ]
  },
  {
   "cell_type": "code",
   "execution_count": 4,
   "metadata": {},
   "outputs": [],
   "source": [
    "# Open a file for writing and write to it\n",
    "file = open(\"practice.txt\", \"w\")\n",
    "write(file, \"Cameron: Cool, Christian: drools\\nHi class!\")\n",
    "\n",
    "# Close the file so that changes are actually applied\n",
    "close(file)"
   ]
  },
  {
   "cell_type": "markdown",
   "metadata": {},
   "source": [
    "Now, open the file again with another handler to read from it."
   ]
  },
  {
   "cell_type": "code",
   "execution_count": 10,
   "metadata": {},
   "outputs": [
    {
     "name": "stdout",
     "output_type": "stream",
     "text": [
      "Cameron: Cool, Christian: drools\n"
     ]
    }
   ],
   "source": [
    "# opening the file with open\n",
    "file_read = open(\"practice.txt\")\n",
    "\n",
    "# calling read to read from the file\n",
    "# println(read(file_read))\n",
    "println(readline(file_read))"
   ]
  },
  {
   "cell_type": "markdown",
   "metadata": {},
   "source": [
    "In fact, we can actually shortcut this process just by calling `read()` directly. `read()` understands we're talking about a file path and opens it for us."
   ]
  },
  {
   "cell_type": "code",
   "execution_count": 21,
   "metadata": {},
   "outputs": [
    {
     "name": "stdout",
     "output_type": "stream",
     "text": [
      "Cameron: Cool, Christian: drools\n",
      "Hi class!\n",
      "Cameron: Cool, Christian: drools\n",
      "Cameron: Cool, Christian: drools\n",
      "Line is: Cameron: Cool, Christian: drools\n",
      "Line is: Hi class!\n"
     ]
    }
   ],
   "source": [
    "# using read to read the file directly\n",
    "# read(\"practice.txt\", String)\n",
    "\n",
    "# using readlines to read in lines as an array\n",
    "readlines(\"practice.txt\")\n",
    "\n",
    "# using readline to read one at a time\n",
    "file_obj = open(\"practice.txt\")\n",
    "println(readline(file_obj))\n",
    "println(readline(file_obj))\n",
    "\n",
    "println(readline(\"practice.txt\"))\n",
    "println(readline(\"practice.txt\"))\n",
    "\n",
    "# using eachline to create an interable\n",
    "for line in eachline(\"practice.txt\")\n",
    "    println(\"Line is: \" * line)\n",
    "end"
   ]
  },
  {
   "cell_type": "markdown",
   "metadata": {},
   "source": [
    "### Taking a moment to talk about Julia's `do` syntax\n",
    "\n",
    "Julia has a special syntax using a `do` block if you want to use a function as your first argument. Take the `map` function as an example, which takes an Array and a function to apply on that array."
   ]
  },
  {
   "cell_type": "code",
   "execution_count": 26,
   "metadata": {},
   "outputs": [
    {
     "data": {
      "text/plain": [
       "5-element Array{Int64,1}:\n",
       "  5\n",
       "  8\n",
       " 15\n",
       " 16\n",
       " 25"
      ]
     },
     "execution_count": 26,
     "metadata": {},
     "output_type": "execute_result"
    }
   ],
   "source": [
    "a = [1, 2, 3, 4, 5]\n",
    "\n",
    "# Applyng map function normally\n",
    "map(x -> x*5, a)\n",
    "\n",
    "# Applying map function with do syntax\n",
    "map(a) do x\n",
    "    if x % 2 == 0\n",
    "        x*4\n",
    "    else\n",
    "        x*5\n",
    "    end\n",
    "end"
   ]
  },
  {
   "cell_type": "markdown",
   "metadata": {},
   "source": [
    "This syntax actually works for any function with a `Function` as the first argument. Let's create a function below and use the `do` function to figure out what `f(5)` is."
   ]
  },
  {
   "cell_type": "code",
   "execution_count": 31,
   "metadata": {},
   "outputs": [
    {
     "data": {
      "text/plain": [
       "runSomeMath (generic function with 1 method)"
      ]
     },
     "execution_count": 31,
     "metadata": {},
     "output_type": "execute_result"
    }
   ],
   "source": [
    "function runSomeMath(f::Function)\n",
    "    println(\"Figuring out what f(5) is!\")\n",
    "    return f(5, 6)\n",
    "end"
   ]
  },
  {
   "cell_type": "code",
   "execution_count": 32,
   "metadata": {},
   "outputs": [
    {
     "name": "stdout",
     "output_type": "stream",
     "text": [
      "Figuring out what f(5) is!\n",
      "I'm inside the function argument\n"
     ]
    },
    {
     "data": {
      "text/plain": [
       "61"
      ]
     },
     "execution_count": 32,
     "metadata": {},
     "output_type": "execute_result"
    }
   ],
   "source": [
    "runSomeMath() do x, y\n",
    "    println(\"I'm inside the function argument\")\n",
    "    x*5 + y*6\n",
    "end"
   ]
  },
  {
   "cell_type": "markdown",
   "metadata": {},
   "source": [
    "### Using `open()` and `read()` with a `do` block\n",
    "The convenience of this method is that the file is automatically opened and closed for us within the block, giving us a scoped area to deal with the file and close it once we're done. This is similar to opening a file with a `with` statement in Python."
   ]
  },
  {
   "cell_type": "code",
   "execution_count": 41,
   "metadata": {},
   "outputs": [
    {
     "name": "stdout",
     "output_type": "stream",
     "text": [
      "Cameron: Cool, Christian: drools\n",
      "Hi class!\n"
     ]
    },
    {
     "data": {
      "text/plain": [
       "1000-element Array{String,1}:\n",
       " \"519432,525806\"\n",
       " \"632382,518061\"\n",
       " \"78864,613712\"\n",
       " \"466580,530130\"\n",
       " \"780495,510032\"\n",
       " \"525895,525320\"\n",
       " \"15991,714883\"\n",
       " \"960290,502358\"\n",
       " \"760018,511029\"\n",
       " \"166800,575487\"\n",
       " \"210884,564478\"\n",
       " \"555151,523163\"\n",
       " \"681146,515199\"\n",
       " ⋮\n",
       " \"203327,566155\"\n",
       " \"798176,509187\"\n",
       " \"667688,515963\"\n",
       " \"636120,517833\"\n",
       " \"137410,584913\"\n",
       " \"217615,563034\"\n",
       " \"556887,523038\"\n",
       " \"667229,515991\"\n",
       " \"672276,515708\"\n",
       " \"325361,545187\"\n",
       " \"172115,573985\"\n",
       " \"13846,725685\""
      ]
     },
     "execution_count": 41,
     "metadata": {},
     "output_type": "execute_result"
    }
   ],
   "source": [
    "# opening a file for writing with do\n",
    "open(\"practice.txt\") do f\n",
    "    println(readline(f))\n",
    "    println(readline(f))\n",
    "end\n",
    "\n",
    "# reading a file with do\n",
    "open(\"p099_base_exp.txt\") do f\n",
    "    global lines = readlines(f)\n",
    "end\n",
    "\n",
    "lines = readlines(\"p099_base_exp.txt\") # exactly the same as above"
   ]
  },
  {
   "cell_type": "markdown",
   "metadata": {},
   "source": [
    "## Briefly covering the `Random` module\n",
    "because it might come in handy at some point to you. One thing we can do with Random is generate random lists of numbers using the `rand(type or set[, dims])` function."
   ]
  },
  {
   "cell_type": "code",
   "execution_count": 47,
   "metadata": {},
   "outputs": [
    {
     "data": {
      "text/plain": [
       "\"Cameron\""
      ]
     },
     "execution_count": 47,
     "metadata": {},
     "output_type": "execute_result"
    }
   ],
   "source": [
    "using Random\n",
    "\n",
    "# generating random decimals\n",
    "rand(Float64)\n",
    "\n",
    "# generating a random list\n",
    "rand(Float64, 7)\n",
    "\n",
    "# generating a random value in a ranges\n",
    "rand(1:10, 10)\n",
    "\n",
    "rand([\"Cameron\", \"Christian\"])"
   ]
  },
  {
   "cell_type": "markdown",
   "metadata": {},
   "source": [
    "Another thing we can do with the `Random` module is shuffle lists."
   ]
  },
  {
   "cell_type": "code",
   "execution_count": 54,
   "metadata": {},
   "outputs": [
    {
     "data": {
      "text/plain": [
       "10-element Array{Int64,1}:\n",
       "  6\n",
       "  9\n",
       "  2\n",
       " 10\n",
       "  3\n",
       "  4\n",
       "  7\n",
       "  5\n",
       "  1\n",
       "  8"
      ]
     },
     "execution_count": 54,
     "metadata": {},
     "output_type": "execute_result"
    }
   ],
   "source": [
    "ajr = [\"Adam\", \"Jack\", \"Ryan\"] # or Aaron, Johnson, Rodger (no)\n",
    "\n",
    "# shuffling a list\n",
    "shuffle!(ajr)\n",
    "\n",
    "# shuffling a range\n",
    "shuffle(1:10)\n"
   ]
  },
  {
   "cell_type": "markdown",
   "metadata": {},
   "source": [
    "## How to log in Julia\n",
    "To write log messages, we're going to use the `Logging` module. Julia describes the `Logging` module as:\n",
    "> The `Logging` module provides a way to record the history and progress of a computation as a log of events.\n",
    "\n",
    "There's a couple different logging \"levels\" as defined by Julia that explain how serious a problem is, or what the purpose of the log message is:\n",
    "> The _log level_ is a broad category for the message that is used for early filtering. There are several standard levels of type [`LogLevel`](https://docs.julialang.org/en/v1/stdlib/Logging/#Logging.LogLevel); user-defined levels are also possible. Each is distinct in purpose:\n",
    ">\n",
    "> - `Debug` is information intended for the developer of the program. These events are disabled by default.\n",
    "> - `Info` is for general information to the user. Think of it as an alternative to using `println` directly.\n",
    "> - `Warn` means something is wrong and action is likely required but that for now the program is still working.\n",
    "> - `Error` means something is wrong and it is unlikely to be recovered, at least by this part of the code. Often this log-level is unneeded as throwing an exception can convey all the required information.\n",
    "\n",
    "For your purposes, you're probably going to want to use `@info` most of the time, or maybe `@warn` or `@error` if you wanted to catch someone's attention."
   ]
  },
  {
   "cell_type": "code",
   "execution_count": 62,
   "metadata": {},
   "outputs": [
    {
     "name": "stderr",
     "output_type": "stream",
     "text": [
      "┌ Info: yo what's up\n",
      "└ @ Main In[62]:4\n",
      "┌ Info: status of lists\n",
      "│   a = [1, 2, 3, 4]\n",
      "│   b = [3, 5, 7, 9]\n",
      "└ @ Main In[62]:9\n",
      "┌ Warning: Check something out here!\n",
      "└ @ Main In[62]:12\n",
      "┌ Error: Something is broken!\n",
      "└ @ Main In[62]:13\n"
     ]
    }
   ],
   "source": [
    "using Logging\n",
    "\n",
    "# Logging with @info\n",
    "@info \"yo what's up\"\n",
    "\n",
    "# Displaying variables and named parameters\n",
    "a = [1, 2, 3, 4]\n",
    "b = [3, 5, 7, 9]\n",
    "@info \"status of lists\" a b\n",
    "\n",
    "# Logging with @warn and @error\n",
    "@warn \"Check something out here!\"\n",
    "@error \"Something is broken!\""
   ]
  },
  {
   "cell_type": "markdown",
   "metadata": {},
   "source": [
    "## Writing and running tests in Julia\n",
    "\n",
    "Before we get to tests, there's one quick and dirty way in Julia to have code throw an error if something fails, which is `@assert`."
   ]
  },
  {
   "cell_type": "code",
   "execution_count": 66,
   "metadata": {},
   "outputs": [
    {
     "ename": "AssertionError",
     "evalue": "AssertionError: 5 + 5 == 11",
     "output_type": "error",
     "traceback": [
      "AssertionError: 5 + 5 == 11",
      "",
      "Stacktrace:",
      " [1] top-level scope at In[66]:3"
     ]
    }
   ],
   "source": [
    "# using @assert if true\n",
    "@assert typeof(5) == Int64\n",
    "\n",
    "# what happens when @assert is false\n",
    "@assert 5 + 5 == 11"
   ]
  },
  {
   "cell_type": "markdown",
   "metadata": {},
   "source": [
    "To write and run tests, we're going to use the `Test` module. Julia describes the `Test` module as:\n",
    "> The `Test` module provides simple _unit testing_ functionality. Unit testing is a way to see if your code is correct by checking that the results are what you expect. It can be helpful to ensure your code still works after you make changes, and can be used when developing as a way of specifying the behaviors your code should have when complete.\n",
    "\n",
    "First, let's import the `Test` module."
   ]
  },
  {
   "cell_type": "code",
   "execution_count": 67,
   "metadata": {},
   "outputs": [],
   "source": [
    "using Test"
   ]
  },
  {
   "cell_type": "markdown",
   "metadata": {},
   "source": [
    "The most basic thing we can do with the test module is check whether a statement is true or not by using the `@test` macro."
   ]
  },
  {
   "cell_type": "code",
   "execution_count": 71,
   "metadata": {},
   "outputs": [
    {
     "data": {
      "text/plain": [
       "\u001b[32m\u001b[1mTest Passed\u001b[22m\u001b[39m"
      ]
     },
     "execution_count": 71,
     "metadata": {},
     "output_type": "execute_result"
    }
   ],
   "source": [
    "# write @test\n",
    "@test typeof(5) == Int64\n",
    "@test 5 + 5 == 10"
   ]
  },
  {
   "cell_type": "markdown",
   "metadata": {},
   "source": [
    "We can also check whether a function under a set of conditions throws a specific error using `@test_throws Error function()`."
   ]
  },
  {
   "cell_type": "code",
   "execution_count": 72,
   "metadata": {},
   "outputs": [
    {
     "data": {
      "text/plain": [
       "\u001b[32m\u001b[1mTest Passed\u001b[22m\u001b[39m\n",
       "      Thrown: BoundsError"
      ]
     },
     "execution_count": 72,
     "metadata": {},
     "output_type": "execute_result"
    }
   ],
   "source": [
    "# write @test_throws\n",
    "a = [1, 2, 3]\n",
    "@test_throws BoundsError a[4]"
   ]
  },
  {
   "cell_type": "markdown",
   "metadata": {},
   "source": [
    "We can check that a function logs a certain message using a certain log level with `@test_logs (:level, \"message\") function()`."
   ]
  },
  {
   "cell_type": "code",
   "execution_count": 78,
   "metadata": {},
   "outputs": [],
   "source": [
    "function iLog(variable)\n",
    "    @info \"You gave me $variable\"\n",
    "end\n",
    "\n",
    "# write @test_logs\n",
    "@test_logs (:info, \"You gave me 7\") iLog(7)"
   ]
  },
  {
   "cell_type": "markdown",
   "metadata": {},
   "source": [
    "Now, let's create a function to check who won a game of TicTacToe, using a 3×3 matrix to represent a game. 1s will represent one player while 2s will represent the other. 0s represent unplayed spaces."
   ]
  },
  {
   "cell_type": "code",
   "execution_count": 79,
   "metadata": {},
   "outputs": [
    {
     "data": {
      "text/plain": [
       "ticTacToeCheck (generic function with 1 method)"
      ]
     },
     "execution_count": 79,
     "metadata": {},
     "output_type": "execute_result"
    }
   ],
   "source": [
    "using LinearAlgebra\n",
    "\n",
    "function ticTacToeCheck(board::Array{Int,2})\n",
    "    size(board) == (3,3) || throw(DimensionMismatch(\"Board size mismatch\"))\n",
    "    winSeqs = vcat([board[n, :] for n in 1:3], [board[:, n] for n in 1:3])  # check rows and columns\n",
    "    winSeqs = vcat(winSeqs, [diag(board)], [diag(board[:, end:-1:1])])  # add diagonals\n",
    "    if [1,1,1] in winSeqs\n",
    "        return 1\n",
    "    elseif [2,2,2] in winSeqs\n",
    "        return 2\n",
    "    else\n",
    "        return 0\n",
    "    end\n",
    "end"
   ]
  },
  {
   "cell_type": "markdown",
   "metadata": {},
   "source": [
    "Now, we're going to use the `@testset` functionality to check our ticTacToe checker to see if it works."
   ]
  },
  {
   "cell_type": "code",
   "execution_count": 82,
   "metadata": {},
   "outputs": [
    {
     "name": "stdout",
     "output_type": "stream",
     "text": [
      "\u001b[37m\u001b[1mTest Summary: | \u001b[22m\u001b[39m\u001b[32m\u001b[1mPass  \u001b[22m\u001b[39m\u001b[36m\u001b[1mTotal\u001b[22m\u001b[39m\n",
      "Tic Tac Toe   | \u001b[32m   4  \u001b[39m\u001b[36m    4\u001b[39m\n"
     ]
    },
    {
     "data": {
      "text/plain": [
       "Test.DefaultTestSet(\"Tic Tac Toe\", Any[], 4, false)"
      ]
     },
     "execution_count": 82,
     "metadata": {},
     "output_type": "execute_result"
    }
   ],
   "source": [
    "@testset \"Tic Tac Toe\" begin\n",
    "    win1 = [1 0 2\n",
    "            1 2 0\n",
    "            1 0 0]\n",
    "    win2 = [1 1 2\n",
    "            1 2 0\n",
    "            2 0 0]\n",
    "    nowin = [1 1 2\n",
    "             2 2 1\n",
    "             1 2 1]\n",
    "    breaks = [1 2 1\n",
    "              2 1 2]\n",
    "    # write tests here\n",
    "    @test ticTacToeCheck(win1) == 1\n",
    "    @test ticTacToeCheck(win2) == 2\n",
    "    @test ticTacToeCheck(nowin) == 0\n",
    "    @test_throws DimensionMismatch ticTacToeCheck(breaks)\n",
    "end"
   ]
  },
  {
   "cell_type": "markdown",
   "metadata": {},
   "source": [
    "## Using the Primes module\n",
    "While the previous modules may help you with general Julia development, the `Primes` module will specifically be useful for solving Euler problems. Many Euler problems ask you to calculate values from primes and you may want to check whether certain problems are primes.\n",
    "\n",
    "To generate primes, we can use the `primes(hi)` function:"
   ]
  },
  {
   "cell_type": "code",
   "execution_count": 86,
   "metadata": {},
   "outputs": [
    {
     "data": {
      "text/plain": [
       "78498-element Array{Int64,1}:\n",
       "      2\n",
       "      3\n",
       "      5\n",
       "      7\n",
       "     11\n",
       "     13\n",
       "     17\n",
       "     19\n",
       "     23\n",
       "     29\n",
       "     31\n",
       "     37\n",
       "     41\n",
       "      ⋮\n",
       " 999809\n",
       " 999853\n",
       " 999863\n",
       " 999883\n",
       " 999907\n",
       " 999917\n",
       " 999931\n",
       " 999953\n",
       " 999959\n",
       " 999961\n",
       " 999979\n",
       " 999983"
      ]
     },
     "execution_count": 86,
     "metadata": {},
     "output_type": "execute_result"
    }
   ],
   "source": [
    "using Primes\n",
    "\n",
    "# generating primes\n",
    "primes(1000000)"
   ]
  },
  {
   "cell_type": "markdown",
   "metadata": {},
   "source": [
    "If we want to check whether a number is prime, we can use the `isprime(num)` method. We can also factor numbers using `factor(num)`, which returns a `Factorization` type that functions a little like a dictionary."
   ]
  },
  {
   "cell_type": "code",
   "execution_count": 94,
   "metadata": {},
   "outputs": [
    {
     "data": {
      "text/plain": [
       "7 * 13"
      ]
     },
     "execution_count": 94,
     "metadata": {},
     "output_type": "execute_result"
    }
   ],
   "source": [
    "# checking isprime\n",
    "isprime(43)\n",
    "isprime(91)\n",
    "\n",
    "# checking factor\n",
    "factorization = factor(91)"
   ]
  },
  {
   "cell_type": "markdown",
   "metadata": {},
   "source": [
    "Sometimes it's useful to know the [_totient_](https://en.wikipedia.org/wiki/Totient) of a number, $\\phi(n)$, which is the number of positve integers less than $n$ that are [relatively prime](https://en.wikipedia.org/wiki/Coprime_integers) to $n$. `Primes` can do that for us."
   ]
  },
  {
   "cell_type": "code",
   "execution_count": 97,
   "metadata": {},
   "outputs": [
    {
     "name": "stdout",
     "output_type": "stream",
     "text": [
      "72\n"
     ]
    },
    {
     "data": {
      "text/plain": [
       "6"
      ]
     },
     "execution_count": 97,
     "metadata": {},
     "output_type": "execute_result"
    }
   ],
   "source": [
    "# passing factorization\n",
    "println(totient(factorization))\n",
    "\n",
    "# calling totient directly\n",
    "totient(9)"
   ]
  },
  {
   "cell_type": "markdown",
   "metadata": {},
   "source": [
    "## Homework\n",
    "\n",
    "This week, we'll be giving you some homework based on the packages we taught you this week."
   ]
  },
  {
   "cell_type": "markdown",
   "metadata": {},
   "source": [
    "### Project Euler Problem 22\n",
    "\n",
    "> https://projecteuler.net/problem=22\n",
    "\n",
    "> Using [names.txt](https://projecteuler.net/project/resources/p022_names.txt) (right click and 'Save Link/Target As...'), a 46K text file containing over five-thousand first names, begin by sorting it into alphabetical order. Then working out the alphabetical value for each name, multiply this value by its alphabetical position in the list to obtain a name score.\n",
    ">\n",
    "> For example, when the list is sorted into alphabetical order, COLIN, which is worth 3 + 15 + 12 + 9 + 14 = 53, is the 938th name in the list. So, COLIN would obtain a score of 938 × 53 = 49714.\n",
    ">\n",
    "> What is the total of all the name scores in the file?\n",
    "\n",
    "_Hint: make use of `read()`, `strip()`, and `map()` or the broadcast operator_"
   ]
  },
  {
   "cell_type": "code",
   "execution_count": null,
   "metadata": {},
   "outputs": [],
   "source": []
  },
  {
   "cell_type": "markdown",
   "metadata": {},
   "source": [
    "## Project Euler Problem 42\n",
    "> https://projecteuler.net/problem=42\n",
    "\n",
    "<blockquote>\n",
    "    <p>The <i>n</i><sup>th</sup> term of the sequence of triangle numbers is given by, <i>t<sub>n</sub></i> = ½<i>n</i>(<i>n</i>+1); so the first ten triangle numbers are:</p>\n",
    "<p style=\"text-align:center;\">1, 3, 6, 10, 15, 21, 28, 36, 45, 55, ...</p>\n",
    "<p>By converting each letter in a word to a number corresponding to its alphabetical position and adding these values we form a word value. For example, the word value for SKY is 19 + 11 + 25 = 55 = <i>t</i><sub>10</sub>. If the word value is a triangle number then we shall call the word a triangle word.</p>\n",
    "<p>Using <a href=\"https://projecteuler.net/project/resources/p042_words.txt\">words.txt</a> (right click and 'Save Link/Target As...'), a 16K text file containing nearly two-thousand common English words, how many are triangle words?</p>\n",
    "    </blockquote>"
   ]
  },
  {
   "cell_type": "code",
   "execution_count": null,
   "metadata": {},
   "outputs": [],
   "source": []
  },
  {
   "cell_type": "markdown",
   "metadata": {},
   "source": [
    "## Project Euler Problem 10\n",
    "\n",
    "> https://projecteuler.net/problem=10\n",
    "\n",
    "> The sum of the primes below 10 is 2 + 3 + 5 + 7 = 17.\n",
    ">\n",
    "> Find the sum of all the primes below two million.\n",
    "\n",
    "_With the `Primes` package, this one is pretty easy. For extra credit, build your own prime generator. [Here is one good method](https://en.wikipedia.org/wiki/Sieve_of_Eratosthenes)._"
   ]
  },
  {
   "cell_type": "code",
   "execution_count": null,
   "metadata": {},
   "outputs": [],
   "source": []
  },
  {
   "cell_type": "markdown",
   "metadata": {},
   "source": [
    "## Practicing satisfying tests\n",
    "\n",
    "For this exercise, you're going to provided with a 2D minesweeper board (a 2D matrix) of any given dimensions filled with `true`s and `false`s, where `true`s are **mines** and `false`s are **empty space**. It's your job to generate a minesweeper board from this matrix, replacing the `true`s with the character `'X'` to signify mines, and replacing the `false`s with the number of _nearby mines_. A mine is _nearby_ to a space if it is contained in the $3\\times 3$ square around the space.\n",
    "\n",
    "Your goal is to pass the `@testset` beneath the function below. Once you have done so, add another couple tests of your choosing with gameboards of your choice."
   ]
  },
  {
   "cell_type": "code",
   "execution_count": null,
   "metadata": {},
   "outputs": [],
   "source": [
    "using Test\n",
    "\n",
    "function generateMineBoard(board::Array{Bool, 2})::Array{Any, 2}\n",
    "    mineBoard = Array{Any, 2}(undef, size(board))\n",
    "    # fill in mineBoard with your code here\n",
    "end\n",
    "\n",
    "@testset \"Minesweeper Tests\" begin\n",
    "    X = 'X'\n",
    "    input    = [0 0 0 0 0 0\n",
    "                0 1 0 0 0 0\n",
    "                1 0 0 0 1 0\n",
    "                1 1 0 1 0 0]\n",
    "    expected = [1 1 1 0 0 0\n",
    "                2 X 1 1 1 1\n",
    "                X 4 3 2 X 1\n",
    "                X X 2 X 2 1]\n",
    "    @test generateMineBoard(convert(Array{Bool,2}, input)) == expected\n",
    "    input2    = [0  0  0  0  0  0  0  0  1  0\n",
    "                 0  0  0  1  0  1  0  0  0  0\n",
    "                 0  0  0  0  1  0  0  0  0  0\n",
    "                 1  0  0  0  0  0  0  0  0  0\n",
    "                 0  0  0  0  0  0  0  0  0  0\n",
    "                 0  0  0  0  1  0  0  0  1  0\n",
    "                 0  0  1  0  1  0  0  0  0  0\n",
    "                 0  0  0  0  0  0  0  0  0  0\n",
    "                 0  0  0  0  0  1  0  0  0  0]\n",
    "    expected2 = [0  0  1  1  2  1  1  1  X  1\n",
    "                 0  0  1  X  3  X  1  1  1  1\n",
    "                 1  1  1  2  X  2  1  0  0  0\n",
    "                 X  1  0  1  1  1  0  0  0  0\n",
    "                 1  1  0  1  1  1  0  1  1  1\n",
    "                 0  1  1  3  X  2  0  1  X  1\n",
    "                 0  1  X  3  X  2  0  1  1  1\n",
    "                 0  1  1  2  2  2  1  0  0  0\n",
    "                 0  0  0  0  1  X  1  0  0  0]\n",
    "    @test generateMineBoard(convert(Array{Bool, 2}, input2)) == expected2\n",
    "    @test generateMineBoard(convert(Array{Bool, 2}, [0 0 0; 1 1 1; 0 0 0])) == [2 3 2; X X X; 2 3 2]\n",
    "    @test generateMineBoard(convert(Array{Bool, 2}, [1 0; 0 0; 0 1])) == [X 1; 2 2; 1 X]\n",
    "    @test generateMineBoard(ones(Bool, (5,5))) == fill('X', (5,5))\n",
    "    @test generateMineBoard(zeros(Bool, (5,5))) == zeros(Bool, (5,5))\n",
    "end"
   ]
  }
 ],
 "metadata": {
  "kernelspec": {
   "display_name": "Julia 1.4.2",
   "language": "julia",
   "name": "julia-1.4"
  },
  "language_info": {
   "file_extension": ".jl",
   "mimetype": "application/julia",
   "name": "julia",
   "version": "1.4.2"
  }
 },
 "nbformat": 4,
 "nbformat_minor": 4
}
