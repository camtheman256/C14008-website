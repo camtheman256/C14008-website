{
 "cells": [
  {
   "cell_type": "markdown",
   "metadata": {},
   "source": [
    "# C14008 Lesson 5: Free Day\n",
    "\n",
    "Today, we're going to be teaching a bunch of random Julia concepts we think are interesting. Hopefully, you guys like it and find some of these concepts enjoyable. Because we're going to be dealing with more packages this week, use this block of code to instantiate packages if you're having issues loading them:"
   ]
  },
  {
   "cell_type": "code",
   "execution_count": null,
   "metadata": {},
   "outputs": [],
   "source": [
    "using Pkg; Pkg.instantiate()"
   ]
  },
  {
   "cell_type": "markdown",
   "metadata": {},
   "source": [
    "## Presentations\n",
    "\n",
    "First, let's present the problems for homework. These were:\n",
    "\n",
    "- Problem 22\n",
    "- Problem 42\n",
    "- Problem 10\n",
    "- Minesweeper"
   ]
  },
  {
   "cell_type": "markdown",
   "metadata": {},
   "source": [
    "## Writing Python in Julia\n",
    "> \"The kids will go nuts for this one\" - Christian\n",
    "\n",
    "Julia is great in that it provides the `PyCall` package. You can import the PyCall package and import Python packages and run Python code."
   ]
  },
  {
   "cell_type": "code",
   "execution_count": null,
   "metadata": {},
   "outputs": [],
   "source": [
    "using PyCall\n",
    "\n",
    "base64 = pyimport(\"base64\") # importing modules with pyimport\n",
    "\n",
    "# b64 encode a string"
   ]
  },
  {
   "cell_type": "code",
   "execution_count": null,
   "metadata": {},
   "outputs": [],
   "source": [
    "# b64 decode a string"
   ]
  },
  {
   "cell_type": "code",
   "execution_count": null,
   "metadata": {},
   "outputs": [],
   "source": [
    "# Import whatever modules you want (ex: math, hashlib, requests etc)\n",
    "\n",
    "# current XKCD comic: https://xkcd.com/info.0.json"
   ]
  },
  {
   "cell_type": "markdown",
   "metadata": {},
   "source": [
    "We can also run Python code in Julia with `py` strings. Triple quoted `py\"\"\"\"\"\"` strings are equivalent to an [`exec`](https://docs.python.org/3/library/functions.html#exec) call and **return nothing!** Single quoted `py\"\"` strings are equivalent to using [`eval`](https://docs.python.org/3/library/functions.html#eval) and allow you to call Python functions and access python variables."
   ]
  },
  {
   "cell_type": "code",
   "execution_count": null,
   "metadata": {},
   "outputs": [],
   "source": [
    "# writing a method using a triple quoted string\n",
    "\n",
    "# calling the method\n",
    "\n",
    "# evaluating stuff"
   ]
  },
  {
   "cell_type": "markdown",
   "metadata": {},
   "source": [
    "## Writing Julia in Python\n",
    "We can also write Julia in Python using the `julia` package in Python. You can sorta just import Julia modules into Python."
   ]
  },
  {
   "cell_type": "code",
   "execution_count": null,
   "metadata": {},
   "outputs": [],
   "source": [
    "# going to the terminal to run python-jl"
   ]
  },
  {
   "cell_type": "markdown",
   "metadata": {},
   "source": [
    "## Writing Julia in Julia\n",
    "Now we're going to be covering some more advanced Julia programming features. First up, Julia macros! A Julia macro returns a piece of code, wrapped in a `:( code )` that is executed when you call the macro. So, it's kinda like a function that returns a function, which then, when you call it, calls the code it returns."
   ]
  },
  {
   "cell_type": "code",
   "execution_count": null,
   "metadata": {},
   "outputs": [],
   "source": [
    "# Write sayhello macro\n",
    "\n",
    "# call sayhello"
   ]
  },
  {
   "cell_type": "markdown",
   "metadata": {},
   "source": [
    "We can also pass functions to our macros, so our macros can control how the functions execute, like Python decorators."
   ]
  },
  {
   "cell_type": "code",
   "execution_count": null,
   "metadata": {},
   "outputs": [],
   "source": [
    "isAllowed = false\n",
    "\n",
    "# Write security macro"
   ]
  },
  {
   "cell_type": "code",
   "execution_count": null,
   "metadata": {},
   "outputs": [],
   "source": [
    "# test security macro"
   ]
  },
  {
   "cell_type": "markdown",
   "metadata": {},
   "source": [
    "### Let's talk about `Symbol`s\n",
    "A `Symbol` in Julia is sort of in between a string, but they're treated similar to the names of functions or variables. Symbols start with a colon `:` and can have any name you want."
   ]
  },
  {
   "cell_type": "code",
   "execution_count": null,
   "metadata": {},
   "outputs": [],
   "source": [
    "# Defining some symbols"
   ]
  },
  {
   "cell_type": "markdown",
   "metadata": {},
   "source": [
    "We can use symbols to talk about functions or variables. Notice that if we `eval` a symbol, we get the thing it represents."
   ]
  },
  {
   "cell_type": "code",
   "execution_count": null,
   "metadata": {},
   "outputs": [],
   "source": [
    "# eval-ing some symbols"
   ]
  },
  {
   "cell_type": "markdown",
   "metadata": {},
   "source": [
    "So this gets really neat, because now we can use symbols as standins for function names, especially in common with the `@eval` macro, which does `eval(quote( code ))`. Say, we want to make a unit circle:"
   ]
  },
  {
   "cell_type": "code",
   "execution_count": null,
   "metadata": {},
   "outputs": [],
   "source": [
    "for n = 1:8, func = [:sin, :cos, :tan]\n",
    "    result = @eval $func($n*π/4)  # when you use a symbol with eval, you need to use the string interpolation syntax, because we're filling in variables in a code expression\n",
    "    \n",
    "    println(\"$func($n*π/4) is \" * string(result))\n",
    "end"
   ]
  },
  {
   "cell_type": "markdown",
   "metadata": {},
   "source": [
    "In short, `Symbol` &rarr; `eval` call &rarr; thing the symbol represents (function, variable). It's beyond the scope of this class, but `Symbol`s and `Expr`s allow you to generate Julia code really quickly, which is documented in the [Metaprogramming section of the Julia docs](https://docs.julialang.org/en/v1/manual/metaprogramming/)."
   ]
  },
  {
   "cell_type": "markdown",
   "metadata": {},
   "source": [
    "### Let's talk about `Expr`s"
   ]
  },
  {
   "cell_type": "markdown",
   "metadata": {},
   "source": [
    "An `Expr` in Julia is a piece of code that can be evaluated, kind of like an \"expanded\" Symbol. They're what a macro returns. If we want to get extra fancy, we can talk about `quote` blocks. They can contain code and we can call them with the `eval(code)` method."
   ]
  },
  {
   "cell_type": "code",
   "execution_count": null,
   "metadata": {},
   "outputs": [],
   "source": [
    "# Defining and calling a quote block\n",
    "\n",
    "# Writing a macro to return a quote"
   ]
  },
  {
   "cell_type": "markdown",
   "metadata": {},
   "source": [
    "## Data Science bits\n",
    "### DataFrames.jl\n",
    "\n",
    "The Julia DataFrames package is intended to be a little like the Python pandas DataFrames class, giving us easy access to our data. For this, I've pulled the class roster."
   ]
  },
  {
   "cell_type": "code",
   "execution_count": null,
   "metadata": {},
   "outputs": [],
   "source": [
    "using CSV, DataFrames\n",
    "\n",
    "# pulling in roster and setup\n",
    "students = DataFrame(CSV.File(\"C14008 Roster and Setup - Attendance Wk 2.csv\"))"
   ]
  },
  {
   "cell_type": "markdown",
   "metadata": {},
   "source": [
    "We access DataFrames similarly to Julia matrices, `df[rows, cols]`."
   ]
  },
  {
   "cell_type": "code",
   "execution_count": null,
   "metadata": {},
   "outputs": [],
   "source": [
    "# pull attendance for 1-Aug and Student Name"
   ]
  },
  {
   "cell_type": "markdown",
   "metadata": {},
   "source": [
    "We can use the `describe` method to learn overall information about our DataFrame, like the percentage of students that showed up to each class!"
   ]
  },
  {
   "cell_type": "code",
   "execution_count": null,
   "metadata": {},
   "outputs": [],
   "source": [
    "# describe students\n",
    "describe(students)[:, Not([\"min\", \"max\", \"nmissing\"])]"
   ]
  },
  {
   "cell_type": "markdown",
   "metadata": {},
   "source": [
    "We can also add conditions while we're picking which rows and columns we want, by specifying the \"1-Aug\" column in the `rows` parameter."
   ]
  },
  {
   "cell_type": "code",
   "execution_count": null,
   "metadata": {},
   "outputs": [],
   "source": [
    "# only pick students that showed up for class on August 1st\n"
   ]
  },
  {
   "cell_type": "code",
   "execution_count": null,
   "metadata": {},
   "outputs": [],
   "source": [
    "# A closer look at how this actually works\n"
   ]
  },
  {
   "cell_type": "markdown",
   "metadata": {},
   "source": [
    "### Plotting stuff with `Plots`\n",
    "\n",
    "Now, let's try and use the `Plots` package to visualize some of this data. First, we need to import the `Plots` package and tell it we're going to use the `GR` backend."
   ]
  },
  {
   "cell_type": "code",
   "execution_count": null,
   "metadata": {},
   "outputs": [],
   "source": [
    "using Plots\n",
    "gr()"
   ]
  },
  {
   "cell_type": "markdown",
   "metadata": {},
   "source": [
    "Now, let's just plot some mathematical functions, by using a function in place of `y`."
   ]
  },
  {
   "cell_type": "code",
   "execution_count": null,
   "metadata": {},
   "outputs": [],
   "source": [
    "# plotting functions"
   ]
  },
  {
   "cell_type": "markdown",
   "metadata": {},
   "source": [
    "Now, to plot some data out of our Data Frame, we can plot the number of students that showed up to class on each date:"
   ]
  },
  {
   "cell_type": "code",
   "execution_count": null,
   "metadata": {},
   "outputs": [],
   "source": [
    "dates = [\"18-Jul\", \"25-Jul\", \"1-Aug\"]\n",
    "bar([sum(col) for col in eachcol(students[:, dates])], xaxis=(\"date\"))"
   ]
  },
  {
   "cell_type": "markdown",
   "metadata": {},
   "source": [
    "Plotting daily weather data for the memes"
   ]
  },
  {
   "cell_type": "code",
   "execution_count": null,
   "metadata": {},
   "outputs": [],
   "source": [
    "# pull temp data\n",
    "using PyCall\n",
    "py\"\"\"\n",
    "import requests\n",
    "weather = requests.get(\"https://forecast.weather.gov/MapClick.php?lat=30.33&lon=-97.74&unit=0&lg=english&FcstType=json\").json()\n",
    "\"\"\"\n",
    "\n",
    "data = py\"weather\""
   ]
  },
  {
   "cell_type": "code",
   "execution_count": null,
   "metadata": {},
   "outputs": [],
   "source": [
    "# plot temperature data\n",
    "plot(parse.(Int, data[\"data\"][\"temperature\"]), yaxis=(\"temperature\", (75,100)))"
   ]
  },
  {
   "cell_type": "markdown",
   "metadata": {},
   "source": [
    "## Homework\n",
    "\n",
    "There's actually no homework! Today's lecture was just mostly for fun, and next lecture is challenge day. If you're itching for something to do, then go have some fun solving Euler problems.  Otherwise, sit back, relax, ask questions, and get ready for next week!"
   ]
  }
 ],
 "metadata": {
  "kernelspec": {
   "display_name": "Julia 1.4.2",
   "language": "julia",
   "name": "julia-1.4"
  },
  "language_info": {
   "file_extension": ".jl",
   "mimetype": "application/julia",
   "name": "julia",
   "version": "1.4.2"
  }
 },
 "nbformat": 4,
 "nbformat_minor": 4
}
