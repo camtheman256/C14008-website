{
 "cells": [
  {
   "cell_type": "markdown",
   "metadata": {},
   "source": [
    "# C14008 Lesson 3: One Liners"
   ]
  },
  {
   "cell_type": "markdown",
   "metadata": {},
   "source": [
    "What's up guys, it's ya bois Christian and Cameron comin' back at ya with another Julia lesson! Today we are discussing one-liners, so hold onto your socks (because they might just get blown off!), today is a pretty fun one."
   ]
  },
  {
   "cell_type": "markdown",
   "metadata": {},
   "source": [
    "## Warm Up\n",
    "### Euler 8 (Largest product in a series)\n",
    "\n",
    "> https://projecteuler.net/problem=8\n",
    "\n",
    "> The four adjacent digits in the 1000-digit number that have the greatest product are 9 × 9 × 8 × 9 = 5832.\n",
    "><pre style=\"text-align: center\">\n",
    "73167176531330624919225119674426574742355349194934\n",
    "96983520312774506326239578318016984801869478851843\n",
    "85861560789112949495459501737958331952853208805511\n",
    "12540698747158523863050715693290963295227443043557\n",
    "66896648950445244523161731856403098711121722383113\n",
    "62229893423380308135336276614282806444486645238749\n",
    "30358907296290491560440772390713810515859307960866\n",
    "70172427121883998797908792274921901699720888093776\n",
    "65727333001053367881220235421809751254540594752243\n",
    "52584907711670556013604839586446706324415722155397\n",
    "53697817977846174064955149290862569321978468622482\n",
    "83972241375657056057490261407972968652414535100474\n",
    "82166370484403199890008895243450658541227588666881\n",
    "16427171479924442928230863465674813919123162824586\n",
    "17866458359124566529476545682848912883142607690042\n",
    "24219022671055626321111109370544217506941658960408\n",
    "07198403850962455444362981230987879927244284909188\n",
    "84580156166097919133875499200524063689912560717606\n",
    "05886116467109405077541002256983155200055935729725\n",
    "71636269561882670428252483600823257530420752963450\n",
    "</pre>\n",
    ">\n",
    "> Find the thirteen adjacent digits in the 1000-digit number that have the greatest product. What is the value of this product?\n",
    "\n",
    "Hey, remember how y'all did this for the first class because I assigned it before you knew the cool Julia tricks? Well now you know the tricks, so it try again using the following:\n",
    "- `digits(int)` returns an array that is the digits of the inputed integer\n",
    "- `circshift(array, int)` shifts the inputed array int times, returns a shifted array\n",
    "- `array[startindex:endindex]` returns an array that all the elements of the original array inside (and including) the indices\n",
    "- `prod(array)` returns the product of the inputed array (we didn't explicitly teach y'all this, but it shouldn't be too hard to pick up)\n",
    "- `push!(array, element)` puts the element at the end of the input array\n",
    "- `maximum(array)` returns the highest number in array\n",
    "\n",
    "Note that these are the functions I used, and it took me about 7 lines. If you think of a different way to do it, go for it!"
   ]
  },
  {
   "cell_type": "code",
   "execution_count": 47,
   "metadata": {},
   "outputs": [
    {
     "data": {
      "text/plain": [
       "7316717653133062491922511967442657474235534919493496983520312774506326239578318016984801869478851843858615607891129494954595017379583319528532088055111254069874715852386305071569329096329522744304355766896648950445244523161731856403098711121722383113622298934233803081353362766142828064444866452387493035890729629049156044077239071381051585930796086670172427121883998797908792274921901699720888093776657273330010533678812202354218097512545405947522435258490771167055601360483958644670632441572215539753697817977846174064955149290862569321978468622482839722413756570560574902614079729686524145351004748216637048440319989000889524345065854122758866688116427171479924442928230863465674813919123162824586178664583591245665294765456828489128831426076900422421902267105562632111110937054421750694165896040807198403850962455444362981230987879927244284909188845801561660979191338754992005240636899125607176060588611646710940507754100225698315520005593572972571636269561882670428252483600823257530420752963450"
      ]
     },
     "execution_count": 47,
     "metadata": {},
     "output_type": "execute_result"
    }
   ],
   "source": [
    "# I pasted in the number for you, you are welcome :)\n",
    "num = 7316717653133062491922511967442657474235534919493496983520312774506326239578318016984801869478851843858615607891129494954595017379583319528532088055111254069874715852386305071569329096329522744304355766896648950445244523161731856403098711121722383113622298934233803081353362766142828064444866452387493035890729629049156044077239071381051585930796086670172427121883998797908792274921901699720888093776657273330010533678812202354218097512545405947522435258490771167055601360483958644670632441572215539753697817977846174064955149290862569321978468622482839722413756570560574902614079729686524145351004748216637048440319989000889524345065854122758866688116427171479924442928230863465674813919123162824586178664583591245665294765456828489128831426076900422421902267105562632111110937054421750694165896040807198403850962455444362981230987879927244284909188845801561660979191338754992005240636899125607176060588611646710940507754100225698315520005593572972571636269561882670428252483600823257530420752963450\n",
    "\n",
    "\n"
   ]
  },
  {
   "cell_type": "markdown",
   "metadata": {},
   "source": [
    "## A Quick Introduction to Shortening Code\n",
    "Below I have a pretty lengthy solution to Euler 1. Let's see what we can shorten (there are about 3 to 4 things).\n",
    "\n",
    "### Euler 1 (Mulitples of 3 and 5)\n",
    "> https://projecteuler.net/problem=1\n",
    "\n",
    "> If we list all the natural numbers below 10 that are multiples of 3 or 5, we get 3, 5, 6 and 9. The sum of these multiples is 23.\n",
    ">\n",
    "> Find the sum of all the multiples of 3 or 5 below 1000."
   ]
  },
  {
   "cell_type": "code",
   "execution_count": 33,
   "metadata": {},
   "outputs": [
    {
     "data": {
      "text/plain": [
       "233168"
      ]
     },
     "execution_count": 33,
     "metadata": {},
     "output_type": "execute_result"
    }
   ],
   "source": [
    "# Euler 1 extended code\n",
    "total = 0\n",
    "\n",
    "for n in 1:999\n",
    "    if n % 3 == 0\n",
    "        total = total + n\n",
    "    elseif n % 5 == 0\n",
    "        total = total + n\n",
    "    end\n",
    "end\n",
    "\n",
    "total"
   ]
  },
  {
   "cell_type": "markdown",
   "metadata": {},
   "source": [
    "## Homework Presentations"
   ]
  },
  {
   "cell_type": "markdown",
   "metadata": {},
   "source": [
    "Last week we assigned Euler 35 and Euler 11 as homework, can we see some presentations? Don't worry if you struggled with it (especially Euler 11), we expected some people to not get a solution."
   ]
  },
  {
   "cell_type": "markdown",
   "metadata": {},
   "source": [
    "## Shortening Code"
   ]
  },
  {
   "cell_type": "markdown",
   "metadata": {},
   "source": [
    "Below I will paste the beginnings of a solution to Euler 11 that I came up with, and as a class we can work on condensing it down."
   ]
  },
  {
   "cell_type": "code",
   "execution_count": 5,
   "metadata": {},
   "outputs": [],
   "source": [
    "# Euler 11 code goes here"
   ]
  },
  {
   "cell_type": "markdown",
   "metadata": {},
   "source": [
    "## Exercises\n",
    "\n",
    "Here are some Euler problems, some of which we have done before. Let's see if you guys can write them in one line!\n",
    "\n",
    "Some things to remember:\n",
    "- You may not see the one line solution right away. You guys are new to this language, so it will take a while before you can write these solutions in one line first go. \n",
    "- It might be best to first write _a_ solution, and then work on shortening it.\n",
    "- Ask for help if you need it!"
   ]
  },
  {
   "cell_type": "markdown",
   "metadata": {},
   "source": [
    "### Euler 4 (Largest palindrome product)\n",
    "> https://projecteuler.net/problem=4\n",
    "\n",
    "> A palindromic number reads the same both ways. The largest palindrome made from the product of two 2-digit numbers is 9009 = 91 × 99.\n",
    "> Find the largest palindrome made from the product of two 3-digit numbers."
   ]
  },
  {
   "cell_type": "code",
   "execution_count": null,
   "metadata": {},
   "outputs": [],
   "source": [
    "# Euler 2 code goes here"
   ]
  },
  {
   "cell_type": "markdown",
   "metadata": {},
   "source": [
    "### Euler 6 (Sum square difference)\n",
    "> https://projecteuler.net/problem=6\n",
    "\n",
    "> The sum of the squares of the first ten natural numbers is, $$1^2 +2^2 + ... + 10^2 = 385$$\n",
    "> The square of the sum of the first ten natural numbers is, $$(1+2+...+10)^2 = 55^2 = 3025$$\n",
    "> Hence the difference between the sum of the squares of the first ten natural numbers and the square of the sum is $3025−385=2640$.\n",
    "> Find the difference between the sum of the squares of the first one hundred natural numbers and the square of the sum."
   ]
  },
  {
   "cell_type": "code",
   "execution_count": null,
   "metadata": {},
   "outputs": [],
   "source": [
    "# Euler 6 code goes here"
   ]
  },
  {
   "cell_type": "markdown",
   "metadata": {},
   "source": [
    "### Euler 20 (Factorial digit sum)\n",
    "\n",
    "> https://projecteuler.net/problem=20\n",
    "\n",
    "> $n!$ means $n$ × ($n$ − 1) × ... × 3 × 2 × 1\n",
    "> For example, 10! = 10 × 9 × ... × 3 × 2 × 1 = 3628800,\n",
    "> and the sum of the digits in the number 10! is 3 + 6 + 2 + 8 + 8 + 0 + 0 = 27.\n",
    "> Find the sum of the digits in the number 100!\n",
    "\n",
    "_Hint: use the `factorial(int)` function_"
   ]
  },
  {
   "cell_type": "code",
   "execution_count": 45,
   "metadata": {},
   "outputs": [],
   "source": [
    "# Euler 20 code goes here"
   ]
  },
  {
   "cell_type": "markdown",
   "metadata": {},
   "source": [
    "### Euler 29 (Distinct powers)\n",
    "\n",
    "> https://projecteuler.net/problem=29\n",
    "\n",
    "> Consider all integer combinations of $a^b$ for $2 \\leq a \\leq 5$ and $2 \\leq b \\leq 5$:\n",
    ">\n",
    "> $2^2=4$, $2^3=8$, $2^4=16$, $2^5=32$\n",
    ">\n",
    "> $3^2=9$, $3^3=27$, $3^4=81$, $3^5=243$\n",
    ">\n",
    "> $4^2=16$, $4^3=64$, $4^4=256$, $4^5=1024$\n",
    ">\n",
    "> $5^2=25$, $5^3=125$, $5^4=625$, $5^5=3125$\n",
    ">\n",
    ">If they are then placed in numerical order, with any repeats removed, we get the following sequence of 15 distinct terms:\n",
    ">\n",
    ">$4, 8, 9, 16, 25, 27, 32, 64, 81, 125, 243, 256, 625, 1024, 3125$\n",
    ">\n",
    ">How many distinct terms are in the sequence generated by ab for $2 \\leq a \\leq 100$ and $2 \\leq b \\leq 100$?\n",
    "\n",
    "_Hint: `unique(array)` returns an array of only the unique elements in the original array and `length(array)` returns the length of a given array. Also, use `BigInt`s._"
   ]
  },
  {
   "cell_type": "code",
   "execution_count": null,
   "metadata": {},
   "outputs": [],
   "source": [
    "# Euler 29 code goes here"
   ]
  },
  {
   "cell_type": "markdown",
   "metadata": {},
   "source": [
    "### Euler 28 (Number spiral diagonals)\n",
    "\n",
    "> https://projecteuler.net/problem=28\n",
    "\n",
    "> Starting with the number 1 and moving to the right in a clockwise direction a 5 by 5 spiral is formed as follows:\n",
    "><pre style=\"text-align: center\">\n",
    "<font color=red>21</font> 22 23 24 <font color=red>25</font>\n",
    "20  <font color=red>7</font>  8  <font color=red>9</font> 10\n",
    "19  6  <font color=red>1</font>  2 11\n",
    "18  <font color=red>5</font>  4  <font color=red>3</font> 12\n",
    "<font color=red>17</font> 16 15 14 <font color=red>13</font>\n",
    "</pre>\n",
    ">\n",
    "> It can be verified that the sum of the numbers on the diagonals is 101.\n",
    "> What is the sum of the numbers on the diagonals in a 1001 by 1001 spiral formed in the same way?\n",
    "\n",
    "_Hint: what do the numbers 1, 9, and 25 have in common?_\n"
   ]
  },
  {
   "cell_type": "code",
   "execution_count": null,
   "metadata": {},
   "outputs": [],
   "source": [
    "# Euler 28 code goes here"
   ]
  },
  {
   "cell_type": "markdown",
   "metadata": {},
   "source": [
    "## Homework\n",
    "\n",
    "Woah! No homework this time. Next time we are going to pivot into packages and other more advanced Julia topics. If you feel so inclined, taking a look at the `Primes`, `Random`, and `Testing` packages may prove helpful for next time!\n",
    "\n",
    "Otherwise, I encourage anyone who is up for the challenge to finish the exercises we didn't get to and/or do any other Euler problems they find intresting. I personally think Euler 13, Euler 30, and Euler 39 are good places to start, but do whichever ones you want!"
   ]
  }
 ],
 "metadata": {
  "kernelspec": {
   "display_name": "Julia 1.4.2",
   "language": "julia",
   "name": "julia-1.4"
  },
  "language_info": {
   "file_extension": ".jl",
   "mimetype": "application/julia",
   "name": "julia",
   "version": "1.4.2"
  }
 },
 "nbformat": 4,
 "nbformat_minor": 4
}
