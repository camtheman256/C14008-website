{
 "cells": [
  {
   "cell_type": "markdown",
   "metadata": {},
   "source": [
    "# C14008 Lesson 5: Free Day\n",
    "\n",
    "Today, we're going to be teaching a bunch of random Julia concepts we think are interesting. Hopefully, you guys like it and find some of these concepts enjoyable. Because we're going to be dealing with more packages this week, use this block of code to instantiate packages if you're having issues loading them:"
   ]
  },
  {
   "cell_type": "code",
   "execution_count": 1,
   "metadata": {},
   "outputs": [],
   "source": [
    "using Pkg; Pkg.instantiate()"
   ]
  },
  {
   "cell_type": "markdown",
   "metadata": {},
   "source": [
    "## Presentations\n",
    "\n",
    "First, let's present the problems for homework. These were:\n",
    "\n",
    "- Problem 22\n",
    "- Problem 42\n",
    "- Problem 10\n",
    "- Minesweeper"
   ]
  },
  {
   "cell_type": "markdown",
   "metadata": {},
   "source": [
    "## Writing Python in Julia\n",
    "> \"The kids will go nuts for this one\" - Christian\n",
    "\n",
    "Julia is great in that it provides the `PyCall` package. You can import the PyCall package and import Python packages and run Python code."
   ]
  },
  {
   "cell_type": "code",
   "execution_count": 3,
   "metadata": {},
   "outputs": [
    {
     "data": {
      "text/plain": [
       "\"SGkgY2xhc3Mh\""
      ]
     },
     "execution_count": 3,
     "metadata": {},
     "output_type": "execute_result"
    }
   ],
   "source": [
    "using PyCall\n",
    "\n",
    "base64 = pyimport(\"base64\") # importing modules with pyimport\n",
    "\n",
    "# b64 encode a string\n",
    "base64.b64encode(b\"Hi class!\")"
   ]
  },
  {
   "cell_type": "code",
   "execution_count": 4,
   "metadata": {},
   "outputs": [
    {
     "data": {
      "text/plain": [
       "\"Hi class!\""
      ]
     },
     "execution_count": 4,
     "metadata": {},
     "output_type": "execute_result"
    }
   ],
   "source": [
    "# b64 decode a string\n",
    "base64.b64decode(b\"SGkgY2xhc3Mh\")"
   ]
  },
  {
   "cell_type": "code",
   "execution_count": 13,
   "metadata": {},
   "outputs": [
    {
     "data": {
      "text/plain": [
       "\"Oh no, a musician just burst in through the door confidently twirling a treble clef.\""
      ]
     },
     "execution_count": 13,
     "metadata": {},
     "output_type": "execute_result"
    }
   ],
   "source": [
    "# Import whatever modules you want (ex: math, hashlib, requests etc)\n",
    "hl = pyimport(\"hashlib\")\n",
    "hl.sha256(b\"hi class!\").hexdigest()\n",
    "\n",
    "# current XKCD comic: https://xkcd.com/info.0.json\n",
    "requests = pyimport(\"requests\")\n",
    "\n",
    "requests.get(\"https://xkcd.com/info.0.json\").json()[\"alt\"]\n"
   ]
  },
  {
   "cell_type": "markdown",
   "metadata": {},
   "source": [
    "We can also run Python code in Julia with `py` strings. Triple quoted `py\"\"\"\"\"\"` strings are equivalent to an [`exec`](https://docs.python.org/3/library/functions.html#exec) call and **return nothing!** Single quoted `py\"\"` strings are equivalent to using [`eval`](https://docs.python.org/3/library/functions.html#eval) and allow you to call Python functions and access python variables."
   ]
  },
  {
   "cell_type": "code",
   "execution_count": 16,
   "metadata": {},
   "outputs": [
    {
     "data": {
      "text/plain": [
       "10"
      ]
     },
     "execution_count": 16,
     "metadata": {},
     "output_type": "execute_result"
    }
   ],
   "source": [
    "# writing a method using a triple quoted string\n",
    "py\"\"\"\n",
    "\n",
    "def hello_world():\n",
    "    return \"Hello world!\"\n",
    "\"\"\"\n",
    "\n",
    "# calling the method\n",
    "py\"hello_world\"()\n",
    "\n",
    "# evaluating stuff\n",
    "py\"5+5\""
   ]
  },
  {
   "cell_type": "markdown",
   "metadata": {},
   "source": [
    "## Writing Julia in Python\n",
    "We can also write Julia in Python using the `julia` package in Python. You can sorta just import Julia modules into Python."
   ]
  },
  {
   "cell_type": "code",
   "execution_count": null,
   "metadata": {},
   "outputs": [],
   "source": [
    "# going to the terminal to run python-jl"
   ]
  },
  {
   "cell_type": "markdown",
   "metadata": {},
   "source": [
    "## Writing Julia in Julia\n",
    "Now we're going to be covering some more advanced Julia programming features. First up, Julia macros! A Julia macro returns a piece of code, wrapped in a `:( code )` that is executed when you call the macro. So, it's kinda like a function that returns a function, which then, when you call it, calls the code it returns."
   ]
  },
  {
   "cell_type": "code",
   "execution_count": 18,
   "metadata": {},
   "outputs": [
    {
     "name": "stdout",
     "output_type": "stream",
     "text": [
      "hi class!\n"
     ]
    }
   ],
   "source": [
    "# Write sayhello macro\n",
    "macro sayhello()\n",
    "    return :( println(\"hi class!\") )\n",
    "end\n",
    "\n",
    "# call sayhello\n",
    "@sayhello"
   ]
  },
  {
   "cell_type": "markdown",
   "metadata": {},
   "source": [
    "We can also pass functions to our macros, so our macros can control how the functions execute, like Python decorators."
   ]
  },
  {
   "cell_type": "code",
   "execution_count": 19,
   "metadata": {},
   "outputs": [
    {
     "data": {
      "text/plain": [
       "@security (macro with 1 method)"
      ]
     },
     "execution_count": 19,
     "metadata": {},
     "output_type": "execute_result"
    }
   ],
   "source": [
    "isAllowed = false\n",
    "\n",
    "# Write security macro\n",
    "macro security(e::Expr)\n",
    "    if isAllowed\n",
    "        return e\n",
    "    end\n",
    "    return \"You aren't allowed to do that!\"\n",
    "end"
   ]
  },
  {
   "cell_type": "code",
   "execution_count": 21,
   "metadata": {},
   "outputs": [
    {
     "data": {
      "text/plain": [
       "\"You aren't allowed to do that!\""
      ]
     },
     "execution_count": 21,
     "metadata": {},
     "output_type": "execute_result"
    }
   ],
   "source": [
    "# test security macro\n",
    "@security println(\"Hello!\")"
   ]
  },
  {
   "cell_type": "markdown",
   "metadata": {},
   "source": [
    "### Let's talk about `Symbol`s\n",
    "A `Symbol` in Julia is sort of in between a string, but they're treated similar to the names of functions or variables. Symbols start with a colon `:` and can have any name you want."
   ]
  },
  {
   "cell_type": "code",
   "execution_count": 22,
   "metadata": {},
   "outputs": [
    {
     "data": {
      "text/plain": [
       ":sin"
      ]
     },
     "execution_count": 22,
     "metadata": {},
     "output_type": "execute_result"
    }
   ],
   "source": [
    "# Defining some symbols\n",
    "sinsymb = :sin"
   ]
  },
  {
   "cell_type": "markdown",
   "metadata": {},
   "source": [
    "We can use symbols to talk about functions or variables. Notice that if we `eval` a symbol, we get the thing it represents."
   ]
  },
  {
   "cell_type": "code",
   "execution_count": 24,
   "metadata": {},
   "outputs": [
    {
     "data": {
      "text/plain": [
       "1.2246467991473532e-16"
      ]
     },
     "execution_count": 24,
     "metadata": {},
     "output_type": "execute_result"
    }
   ],
   "source": [
    "# eval-ing some symbols\n",
    "eval(sinsymb)(π)"
   ]
  },
  {
   "cell_type": "markdown",
   "metadata": {},
   "source": [
    "So this gets really neat, because now we can use symbols as standins for function names, especially in common with the `@eval` macro, which does `eval(quote( code ))`. Say, we want to make a unit circle:"
   ]
  },
  {
   "cell_type": "code",
   "execution_count": 31,
   "metadata": {},
   "outputs": [],
   "source": [
    "for funcname = [:fun1, :fun2, :fun3]\n",
    "    @eval $funcname(x) = \"I am $($funcname) with param $x\"\n",
    "end"
   ]
  },
  {
   "cell_type": "code",
   "execution_count": 34,
   "metadata": {},
   "outputs": [
    {
     "data": {
      "text/plain": [
       "\"I am fun3 with param 5\""
      ]
     },
     "execution_count": 34,
     "metadata": {},
     "output_type": "execute_result"
    }
   ],
   "source": [
    "fun3(5)"
   ]
  },
  {
   "cell_type": "markdown",
   "metadata": {},
   "source": [
    "In short, `Symbol` &rarr; `eval` call &rarr; thing the symbol represents (function, variable). It's beyond the scope of this class, but `Symbol`s and `Expr`s allow you to generate Julia code really quickly, which is documented in the [Metaprogramming section of the Julia docs](https://docs.julialang.org/en/v1/manual/metaprogramming/)."
   ]
  },
  {
   "cell_type": "markdown",
   "metadata": {},
   "source": [
    "### Let's talk about `Expr`s"
   ]
  },
  {
   "cell_type": "markdown",
   "metadata": {},
   "source": [
    "An `Expr` in Julia is a piece of code that can be evaluated, kind of like an \"expanded\" Symbol. They're what a macro returns. If we want to get extra fancy, we can talk about `quote` blocks. They can contain code and we can call them with the `eval(code)` method."
   ]
  },
  {
   "cell_type": "code",
   "execution_count": 38,
   "metadata": {},
   "outputs": [
    {
     "data": {
      "text/plain": [
       "@doExpression (macro with 1 method)"
      ]
     },
     "execution_count": 38,
     "metadata": {},
     "output_type": "execute_result"
    }
   ],
   "source": [
    "# Defining and calling a quote block\n",
    "code = quote\n",
    "    num = 5+5\n",
    "    string = \"hello\"\n",
    "    println(num, string)\n",
    "end\n",
    "\n",
    "# Writing a macro to return a quote\n",
    "macro doExpression()\n",
    "    return code\n",
    "end"
   ]
  },
  {
   "cell_type": "code",
   "execution_count": 39,
   "metadata": {},
   "outputs": [
    {
     "name": "stdout",
     "output_type": "stream",
     "text": [
      "10hello\n"
     ]
    }
   ],
   "source": [
    "@doExpression"
   ]
  },
  {
   "cell_type": "markdown",
   "metadata": {},
   "source": [
    "## Data Science bits\n",
    "### DataFrames.jl\n",
    "\n",
    "The Julia DataFrames package is intended to be a little like the Python pandas DataFrames class, giving us easy access to our data. For this, I've pulled the class roster."
   ]
  },
  {
   "cell_type": "code",
   "execution_count": 40,
   "metadata": {},
   "outputs": [
    {
     "data": {
      "text/html": [
       "<table class=\"data-frame\"><thead><tr><th></th><th>Student Name</th><th>Student Grade</th><th>School</th></tr><tr><th></th><th>String</th><th>Int64</th><th>String</th></tr></thead><tbody><p>48 rows × 8 columns (omitted printing of 5 columns)</p><tr><th>1</th><td>Aaron Huang</td><td>10</td><td>Boston College High in Dorchester, MA</td></tr><tr><th>2</th><td>Advika Agrawal</td><td>11</td><td>Hopkinton High School in Contoocook, NH</td></tr><tr><th>3</th><td>Akshika Chawade</td><td>10</td><td>Braintree High School in Braintree, MA</td></tr><tr><th>4</th><td>Alexander Sholl</td><td>9</td><td>California Academy of Mathematics and Science</td></tr><tr><th>5</th><td>Amos Batalden</td><td>9</td><td>Meridian Academy</td></tr><tr><th>6</th><td>Andrew Sparks</td><td>10</td><td>Roxbury Latin in West Roxbury, MA</td></tr><tr><th>7</th><td>Annanta Budhathoki</td><td>11</td><td>Bedford High in Bedford, MA</td></tr><tr><th>8</th><td>Anthony Mundy</td><td>9</td><td>BAXTER ACADEMY FOR SCIENCE AND TECHNOLOGY</td></tr><tr><th>9</th><td>Arthur Lee</td><td>10</td><td>Winchester High School</td></tr><tr><th>10</th><td>Chloe Chan</td><td>10</td><td>None</td></tr><tr><th>11</th><td>Christopher Hunt</td><td>10</td><td>Medford High in Medford, MA</td></tr><tr><th>12</th><td>Daniel Cho</td><td>9</td><td>Belmont Hill</td></tr><tr><th>13</th><td>Danya Rose</td><td>10</td><td>Garden Spot High School</td></tr><tr><th>14</th><td>Emily Campos</td><td>10</td><td>Everett High in Everett, MA</td></tr><tr><th>15</th><td>Evan Johnston</td><td>9</td><td>NuVu</td></tr><tr><th>16</th><td>Fazil Uskuplu</td><td>10</td><td>CLASSICAL HIGH SCHOOL in PROVIDENCE, RI</td></tr><tr><th>17</th><td>Grace Ou</td><td>9</td><td>Lexington High in Lexington, MA</td></tr><tr><th>18</th><td>Hubert Huang</td><td>10</td><td>Boston Latin in Boston, MA</td></tr><tr><th>19</th><td>Janie Wu</td><td>9</td><td>Andover High in Andover, MA</td></tr><tr><th>20</th><td>Jeremiah Hugo</td><td>10</td><td>None</td></tr><tr><th>21</th><td>Jiayi Liu</td><td>10</td><td>Forest Hills High School</td></tr><tr><th>22</th><td>Joseph Stocke</td><td>9</td><td>The Grayson School</td></tr><tr><th>23</th><td>Julia Sun</td><td>9</td><td>Horace Greeley</td></tr><tr><th>24</th><td>Junwoo Kim</td><td>9</td><td>Winston Churchill High School</td></tr><tr><th>25</th><td>Kashish Sethi</td><td>10</td><td>Sharon Middle in Sharon, MA</td></tr><tr><th>26</th><td>Krishnan Shankar</td><td>9</td><td>None</td></tr><tr><th>27</th><td>Lara Scaria</td><td>12</td><td>Framingham H S in Framingham, MA</td></tr><tr><th>28</th><td>Lauren Hall</td><td>9</td><td>Hanover High School in Hanover, NH</td></tr><tr><th>29</th><td>Leah Maciel</td><td>11</td><td>Rising Tide Charter School in Plymouth, MA</td></tr><tr><th>30</th><td>Manavi Vajhallya</td><td>9</td><td>Andover High in Andover, MA</td></tr><tr><th>&vellip;</th><td>&vellip;</td><td>&vellip;</td><td>&vellip;</td></tr></tbody></table>"
      ],
      "text/latex": [
       "\\begin{tabular}{r|cccc}\n",
       "\t& Student Name & Student Grade & School & \\\\\n",
       "\t\\hline\n",
       "\t& String & Int64 & String & \\\\\n",
       "\t\\hline\n",
       "\t1 & Aaron Huang & 10 & Boston College High in Dorchester, MA & $\\dots$ \\\\\n",
       "\t2 & Advika Agrawal & 11 & Hopkinton High School in Contoocook, NH & $\\dots$ \\\\\n",
       "\t3 & Akshika Chawade & 10 & Braintree High School in Braintree, MA & $\\dots$ \\\\\n",
       "\t4 & Alexander Sholl & 9 & California Academy of Mathematics and Science & $\\dots$ \\\\\n",
       "\t5 & Amos Batalden & 9 & Meridian Academy & $\\dots$ \\\\\n",
       "\t6 & Andrew Sparks & 10 & Roxbury Latin in West Roxbury, MA & $\\dots$ \\\\\n",
       "\t7 & Annanta Budhathoki & 11 & Bedford High in Bedford, MA & $\\dots$ \\\\\n",
       "\t8 & Anthony Mundy & 9 & BAXTER ACADEMY FOR SCIENCE AND TECHNOLOGY & $\\dots$ \\\\\n",
       "\t9 & Arthur Lee & 10 & Winchester High School & $\\dots$ \\\\\n",
       "\t10 & Chloe Chan & 10 & None & $\\dots$ \\\\\n",
       "\t11 & Christopher Hunt & 10 & Medford High in Medford, MA & $\\dots$ \\\\\n",
       "\t12 & Daniel Cho & 9 & Belmont Hill & $\\dots$ \\\\\n",
       "\t13 & Danya Rose & 10 & Garden Spot High School & $\\dots$ \\\\\n",
       "\t14 & Emily Campos & 10 & Everett High in Everett, MA & $\\dots$ \\\\\n",
       "\t15 & Evan Johnston & 9 & NuVu & $\\dots$ \\\\\n",
       "\t16 & Fazil Uskuplu & 10 & CLASSICAL HIGH SCHOOL in PROVIDENCE, RI & $\\dots$ \\\\\n",
       "\t17 & Grace Ou & 9 & Lexington High in Lexington, MA & $\\dots$ \\\\\n",
       "\t18 & Hubert Huang & 10 & Boston Latin in Boston, MA & $\\dots$ \\\\\n",
       "\t19 & Janie Wu & 9 & Andover High in Andover, MA & $\\dots$ \\\\\n",
       "\t20 & Jeremiah Hugo & 10 & None & $\\dots$ \\\\\n",
       "\t21 & Jiayi Liu & 10 & Forest Hills High School & $\\dots$ \\\\\n",
       "\t22 & Joseph Stocke & 9 & The Grayson School & $\\dots$ \\\\\n",
       "\t23 & Julia Sun & 9 & Horace Greeley & $\\dots$ \\\\\n",
       "\t24 & Junwoo Kim & 9 & Winston Churchill High School & $\\dots$ \\\\\n",
       "\t25 & Kashish Sethi & 10 & Sharon Middle in Sharon, MA & $\\dots$ \\\\\n",
       "\t26 & Krishnan Shankar & 9 & None & $\\dots$ \\\\\n",
       "\t27 & Lara Scaria & 12 & Framingham H S in Framingham, MA & $\\dots$ \\\\\n",
       "\t28 & Lauren Hall & 9 & Hanover High School in Hanover, NH & $\\dots$ \\\\\n",
       "\t29 & Leah Maciel & 11 & Rising Tide Charter School in Plymouth, MA & $\\dots$ \\\\\n",
       "\t30 & Manavi Vajhallya & 9 & Andover High in Andover, MA & $\\dots$ \\\\\n",
       "\t$\\dots$ & $\\dots$ & $\\dots$ & $\\dots$ &  \\\\\n",
       "\\end{tabular}\n"
      ],
      "text/plain": [
       "48×8 DataFrame. Omitted printing of 6 columns\n",
       "│ Row │ Student Name          │ Student Grade │\n",
       "│     │ \u001b[90mString\u001b[39m                │ \u001b[90mInt64\u001b[39m         │\n",
       "├─────┼───────────────────────┼───────────────┤\n",
       "│ 1   │ Aaron Huang           │ 10            │\n",
       "│ 2   │ Advika Agrawal        │ 11            │\n",
       "│ 3   │ Akshika Chawade       │ 10            │\n",
       "│ 4   │ Alexander Sholl       │ 9             │\n",
       "│ 5   │ Amos Batalden         │ 9             │\n",
       "│ 6   │ Andrew Sparks         │ 10            │\n",
       "│ 7   │ Annanta Budhathoki    │ 11            │\n",
       "│ 8   │ Anthony Mundy         │ 9             │\n",
       "│ 9   │ Arthur Lee            │ 10            │\n",
       "│ 10  │ Chloe Chan            │ 10            │\n",
       "⋮\n",
       "│ 38  │ Phuc Duong            │ 11            │\n",
       "│ 39  │ Quinn Armentrout      │ 11            │\n",
       "│ 40  │ Ramakrishnan Gopinath │ 9             │\n",
       "│ 41  │ Sean Balbale          │ 9             │\n",
       "│ 42  │ Sean Williams         │ 9             │\n",
       "│ 43  │ Sebastian Molina      │ 11            │\n",
       "│ 44  │ Suman Samanta         │ 10            │\n",
       "│ 45  │ Tess Wolossow         │ 12            │\n",
       "│ 46  │ Tyler Pham            │ 9             │\n",
       "│ 47  │ Varun S               │ 12            │\n",
       "│ 48  │ keyaan Wells          │ 9             │"
      ]
     },
     "execution_count": 40,
     "metadata": {},
     "output_type": "execute_result"
    }
   ],
   "source": [
    "using CSV, DataFrames\n",
    "\n",
    "# pulling in roster and setup\n",
    "students = DataFrame(CSV.File(\"C14008 Roster and Setup - Attendance Wk 2.csv\"))"
   ]
  },
  {
   "cell_type": "markdown",
   "metadata": {},
   "source": [
    "We access DataFrames similarly to Julia matrices, `df[rows, cols]`."
   ]
  },
  {
   "cell_type": "code",
   "execution_count": 43,
   "metadata": {},
   "outputs": [
    {
     "data": {
      "text/html": [
       "<table class=\"data-frame\"><thead><tr><th></th><th>25-Jul</th><th>1-Aug</th></tr><tr><th></th><th>Bool</th><th>Bool</th></tr></thead><tbody><p>48 rows × 2 columns</p><tr><th>1</th><td>1</td><td>1</td></tr><tr><th>2</th><td>1</td><td>1</td></tr><tr><th>3</th><td>1</td><td>1</td></tr><tr><th>4</th><td>1</td><td>1</td></tr><tr><th>5</th><td>1</td><td>1</td></tr><tr><th>6</th><td>1</td><td>0</td></tr><tr><th>7</th><td>1</td><td>1</td></tr><tr><th>8</th><td>1</td><td>1</td></tr><tr><th>9</th><td>1</td><td>0</td></tr><tr><th>10</th><td>1</td><td>1</td></tr><tr><th>11</th><td>1</td><td>0</td></tr><tr><th>12</th><td>1</td><td>1</td></tr><tr><th>13</th><td>1</td><td>1</td></tr><tr><th>14</th><td>1</td><td>1</td></tr><tr><th>15</th><td>0</td><td>1</td></tr><tr><th>16</th><td>1</td><td>1</td></tr><tr><th>17</th><td>1</td><td>0</td></tr><tr><th>18</th><td>1</td><td>1</td></tr><tr><th>19</th><td>1</td><td>1</td></tr><tr><th>20</th><td>1</td><td>1</td></tr><tr><th>21</th><td>0</td><td>0</td></tr><tr><th>22</th><td>1</td><td>1</td></tr><tr><th>23</th><td>1</td><td>1</td></tr><tr><th>24</th><td>1</td><td>1</td></tr><tr><th>25</th><td>1</td><td>1</td></tr><tr><th>26</th><td>1</td><td>1</td></tr><tr><th>27</th><td>1</td><td>0</td></tr><tr><th>28</th><td>1</td><td>1</td></tr><tr><th>29</th><td>1</td><td>1</td></tr><tr><th>30</th><td>1</td><td>1</td></tr><tr><th>&vellip;</th><td>&vellip;</td><td>&vellip;</td></tr></tbody></table>"
      ],
      "text/latex": [
       "\\begin{tabular}{r|cc}\n",
       "\t& 25-Jul & 1-Aug\\\\\n",
       "\t\\hline\n",
       "\t& Bool & Bool\\\\\n",
       "\t\\hline\n",
       "\t1 & 1 & 1 \\\\\n",
       "\t2 & 1 & 1 \\\\\n",
       "\t3 & 1 & 1 \\\\\n",
       "\t4 & 1 & 1 \\\\\n",
       "\t5 & 1 & 1 \\\\\n",
       "\t6 & 1 & 0 \\\\\n",
       "\t7 & 1 & 1 \\\\\n",
       "\t8 & 1 & 1 \\\\\n",
       "\t9 & 1 & 0 \\\\\n",
       "\t10 & 1 & 1 \\\\\n",
       "\t11 & 1 & 0 \\\\\n",
       "\t12 & 1 & 1 \\\\\n",
       "\t13 & 1 & 1 \\\\\n",
       "\t14 & 1 & 1 \\\\\n",
       "\t15 & 0 & 1 \\\\\n",
       "\t16 & 1 & 1 \\\\\n",
       "\t17 & 1 & 0 \\\\\n",
       "\t18 & 1 & 1 \\\\\n",
       "\t19 & 1 & 1 \\\\\n",
       "\t20 & 1 & 1 \\\\\n",
       "\t21 & 0 & 0 \\\\\n",
       "\t22 & 1 & 1 \\\\\n",
       "\t23 & 1 & 1 \\\\\n",
       "\t24 & 1 & 1 \\\\\n",
       "\t25 & 1 & 1 \\\\\n",
       "\t26 & 1 & 1 \\\\\n",
       "\t27 & 1 & 0 \\\\\n",
       "\t28 & 1 & 1 \\\\\n",
       "\t29 & 1 & 1 \\\\\n",
       "\t30 & 1 & 1 \\\\\n",
       "\t$\\dots$ & $\\dots$ & $\\dots$ \\\\\n",
       "\\end{tabular}\n"
      ],
      "text/plain": [
       "48×2 DataFrame\n",
       "│ Row │ 25-Jul │ 1-Aug │\n",
       "│     │ \u001b[90mBool\u001b[39m   │ \u001b[90mBool\u001b[39m  │\n",
       "├─────┼────────┼───────┤\n",
       "│ 1   │ 1      │ 1     │\n",
       "│ 2   │ 1      │ 1     │\n",
       "│ 3   │ 1      │ 1     │\n",
       "│ 4   │ 1      │ 1     │\n",
       "│ 5   │ 1      │ 1     │\n",
       "│ 6   │ 1      │ 0     │\n",
       "│ 7   │ 1      │ 1     │\n",
       "│ 8   │ 1      │ 1     │\n",
       "│ 9   │ 1      │ 0     │\n",
       "│ 10  │ 1      │ 1     │\n",
       "⋮\n",
       "│ 38  │ 1      │ 0     │\n",
       "│ 39  │ 1      │ 1     │\n",
       "│ 40  │ 1      │ 1     │\n",
       "│ 41  │ 0      │ 0     │\n",
       "│ 42  │ 1      │ 1     │\n",
       "│ 43  │ 1      │ 1     │\n",
       "│ 44  │ 1      │ 1     │\n",
       "│ 45  │ 1      │ 1     │\n",
       "│ 46  │ 1      │ 1     │\n",
       "│ 47  │ 0      │ 0     │\n",
       "│ 48  │ 0      │ 0     │"
      ]
     },
     "execution_count": 43,
     "metadata": {},
     "output_type": "execute_result"
    }
   ],
   "source": [
    "# pull attendance for 1-Aug and Student Name\n",
    "students[:, [\"25-Jul\",\"1-Aug\"]]"
   ]
  },
  {
   "cell_type": "markdown",
   "metadata": {},
   "source": [
    "We can use the `describe` method to learn overall information about our DataFrame, like the percentage of students that showed up to each class!"
   ]
  },
  {
   "cell_type": "code",
   "execution_count": 44,
   "metadata": {},
   "outputs": [
    {
     "data": {
      "text/html": [
       "<table class=\"data-frame\"><thead><tr><th></th><th>variable</th><th>mean</th><th>median</th><th>nunique</th><th>eltype</th></tr><tr><th></th><th>Symbol</th><th>Union…</th><th>Union…</th><th>Union…</th><th>DataType</th></tr></thead><tbody><p>8 rows × 5 columns</p><tr><th>1</th><td>Student Name</td><td></td><td></td><td>48</td><td>String</td></tr><tr><th>2</th><td>Student Grade</td><td>9.97917</td><td>10.0</td><td></td><td>Int64</td></tr><tr><th>3</th><td>School</td><td></td><td></td><td>40</td><td>String</td></tr><tr><th>4</th><td>18-Jul</td><td>0.854167</td><td>1.0</td><td></td><td>Bool</td></tr><tr><th>5</th><td>25-Jul</td><td>0.854167</td><td>1.0</td><td></td><td>Bool</td></tr><tr><th>6</th><td>1-Aug</td><td>0.729167</td><td>1.0</td><td></td><td>Bool</td></tr><tr><th>7</th><td>8-Aug</td><td>0.0</td><td>0.0</td><td></td><td>Bool</td></tr><tr><th>8</th><td>15-Aug</td><td>0.0</td><td>0.0</td><td></td><td>Bool</td></tr></tbody></table>"
      ],
      "text/latex": [
       "\\begin{tabular}{r|ccccc}\n",
       "\t& variable & mean & median & nunique & eltype\\\\\n",
       "\t\\hline\n",
       "\t& Symbol & Union… & Union… & Union… & DataType\\\\\n",
       "\t\\hline\n",
       "\t1 & Student Name &  &  & 48 & String \\\\\n",
       "\t2 & Student Grade & 9.97917 & 10.0 &  & Int64 \\\\\n",
       "\t3 & School &  &  & 40 & String \\\\\n",
       "\t4 & 18-Jul & 0.854167 & 1.0 &  & Bool \\\\\n",
       "\t5 & 25-Jul & 0.854167 & 1.0 &  & Bool \\\\\n",
       "\t6 & 1-Aug & 0.729167 & 1.0 &  & Bool \\\\\n",
       "\t7 & 8-Aug & 0.0 & 0.0 &  & Bool \\\\\n",
       "\t8 & 15-Aug & 0.0 & 0.0 &  & Bool \\\\\n",
       "\\end{tabular}\n"
      ],
      "text/plain": [
       "8×5 DataFrame\n",
       "│ Row │ variable      │ mean     │ median │ nunique │ eltype   │\n",
       "│     │ \u001b[90mSymbol\u001b[39m        │ \u001b[90mUnion…\u001b[39m   │ \u001b[90mUnion…\u001b[39m │ \u001b[90mUnion…\u001b[39m  │ \u001b[90mDataType\u001b[39m │\n",
       "├─────┼───────────────┼──────────┼────────┼─────────┼──────────┤\n",
       "│ 1   │ Student Name  │          │        │ 48      │ String   │\n",
       "│ 2   │ Student Grade │ 9.97917  │ 10.0   │         │ Int64    │\n",
       "│ 3   │ School        │          │        │ 40      │ String   │\n",
       "│ 4   │ 18-Jul        │ 0.854167 │ 1.0    │         │ Bool     │\n",
       "│ 5   │ 25-Jul        │ 0.854167 │ 1.0    │         │ Bool     │\n",
       "│ 6   │ 1-Aug         │ 0.729167 │ 1.0    │         │ Bool     │\n",
       "│ 7   │ 8-Aug         │ 0.0      │ 0.0    │         │ Bool     │\n",
       "│ 8   │ 15-Aug        │ 0.0      │ 0.0    │         │ Bool     │"
      ]
     },
     "execution_count": 44,
     "metadata": {},
     "output_type": "execute_result"
    }
   ],
   "source": [
    "# describe students\n",
    "describe(students)[:, Not([\"min\", \"max\", \"nmissing\"])]"
   ]
  },
  {
   "cell_type": "markdown",
   "metadata": {},
   "source": [
    "We can also add conditions while we're picking which rows and columns we want, by specifying the \"1-Aug\" column in the `rows` parameter."
   ]
  },
  {
   "cell_type": "code",
   "execution_count": 46,
   "metadata": {},
   "outputs": [
    {
     "data": {
      "text/html": [
       "<table class=\"data-frame\"><thead><tr><th></th><th>Student Name</th><th>Student Grade</th><th>School</th></tr><tr><th></th><th>String</th><th>Int64</th><th>String</th></tr></thead><tbody><p>35 rows × 8 columns (omitted printing of 5 columns)</p><tr><th>1</th><td>Aaron Huang</td><td>10</td><td>Boston College High in Dorchester, MA</td></tr><tr><th>2</th><td>Advika Agrawal</td><td>11</td><td>Hopkinton High School in Contoocook, NH</td></tr><tr><th>3</th><td>Akshika Chawade</td><td>10</td><td>Braintree High School in Braintree, MA</td></tr><tr><th>4</th><td>Alexander Sholl</td><td>9</td><td>California Academy of Mathematics and Science</td></tr><tr><th>5</th><td>Amos Batalden</td><td>9</td><td>Meridian Academy</td></tr><tr><th>6</th><td>Annanta Budhathoki</td><td>11</td><td>Bedford High in Bedford, MA</td></tr><tr><th>7</th><td>Anthony Mundy</td><td>9</td><td>BAXTER ACADEMY FOR SCIENCE AND TECHNOLOGY</td></tr><tr><th>8</th><td>Chloe Chan</td><td>10</td><td>None</td></tr><tr><th>9</th><td>Daniel Cho</td><td>9</td><td>Belmont Hill</td></tr><tr><th>10</th><td>Danya Rose</td><td>10</td><td>Garden Spot High School</td></tr><tr><th>11</th><td>Emily Campos</td><td>10</td><td>Everett High in Everett, MA</td></tr><tr><th>12</th><td>Evan Johnston</td><td>9</td><td>NuVu</td></tr><tr><th>13</th><td>Fazil Uskuplu</td><td>10</td><td>CLASSICAL HIGH SCHOOL in PROVIDENCE, RI</td></tr><tr><th>14</th><td>Hubert Huang</td><td>10</td><td>Boston Latin in Boston, MA</td></tr><tr><th>15</th><td>Janie Wu</td><td>9</td><td>Andover High in Andover, MA</td></tr><tr><th>16</th><td>Jeremiah Hugo</td><td>10</td><td>None</td></tr><tr><th>17</th><td>Joseph Stocke</td><td>9</td><td>The Grayson School</td></tr><tr><th>18</th><td>Julia Sun</td><td>9</td><td>Horace Greeley</td></tr><tr><th>19</th><td>Junwoo Kim</td><td>9</td><td>Winston Churchill High School</td></tr><tr><th>20</th><td>Kashish Sethi</td><td>10</td><td>Sharon Middle in Sharon, MA</td></tr><tr><th>21</th><td>Krishnan Shankar</td><td>9</td><td>None</td></tr><tr><th>22</th><td>Lauren Hall</td><td>9</td><td>Hanover High School in Hanover, NH</td></tr><tr><th>23</th><td>Leah Maciel</td><td>11</td><td>Rising Tide Charter School in Plymouth, MA</td></tr><tr><th>24</th><td>Manavi Vajhallya</td><td>9</td><td>Andover High in Andover, MA</td></tr><tr><th>25</th><td>Maxime Malaussena</td><td>10</td><td>Montclair High School</td></tr><tr><th>26</th><td>Megan Santamore</td><td>11</td><td>Notre Dame Preparatory High School in Fitchburg, MA</td></tr><tr><th>27</th><td>Michael Mo</td><td>10</td><td>Staten Island Tech high school</td></tr><tr><th>28</th><td>Neel Joshi</td><td>11</td><td>Westford Academy in Westford, MA</td></tr><tr><th>29</th><td>Quinn Armentrout</td><td>11</td><td>The Nueva School</td></tr><tr><th>30</th><td>Ramakrishnan Gopinath</td><td>9</td><td>None</td></tr><tr><th>&vellip;</th><td>&vellip;</td><td>&vellip;</td><td>&vellip;</td></tr></tbody></table>"
      ],
      "text/latex": [
       "\\begin{tabular}{r|cccc}\n",
       "\t& Student Name & Student Grade & School & \\\\\n",
       "\t\\hline\n",
       "\t& String & Int64 & String & \\\\\n",
       "\t\\hline\n",
       "\t1 & Aaron Huang & 10 & Boston College High in Dorchester, MA & $\\dots$ \\\\\n",
       "\t2 & Advika Agrawal & 11 & Hopkinton High School in Contoocook, NH & $\\dots$ \\\\\n",
       "\t3 & Akshika Chawade & 10 & Braintree High School in Braintree, MA & $\\dots$ \\\\\n",
       "\t4 & Alexander Sholl & 9 & California Academy of Mathematics and Science & $\\dots$ \\\\\n",
       "\t5 & Amos Batalden & 9 & Meridian Academy & $\\dots$ \\\\\n",
       "\t6 & Annanta Budhathoki & 11 & Bedford High in Bedford, MA & $\\dots$ \\\\\n",
       "\t7 & Anthony Mundy & 9 & BAXTER ACADEMY FOR SCIENCE AND TECHNOLOGY & $\\dots$ \\\\\n",
       "\t8 & Chloe Chan & 10 & None & $\\dots$ \\\\\n",
       "\t9 & Daniel Cho & 9 & Belmont Hill & $\\dots$ \\\\\n",
       "\t10 & Danya Rose & 10 & Garden Spot High School & $\\dots$ \\\\\n",
       "\t11 & Emily Campos & 10 & Everett High in Everett, MA & $\\dots$ \\\\\n",
       "\t12 & Evan Johnston & 9 & NuVu & $\\dots$ \\\\\n",
       "\t13 & Fazil Uskuplu & 10 & CLASSICAL HIGH SCHOOL in PROVIDENCE, RI & $\\dots$ \\\\\n",
       "\t14 & Hubert Huang & 10 & Boston Latin in Boston, MA & $\\dots$ \\\\\n",
       "\t15 & Janie Wu & 9 & Andover High in Andover, MA & $\\dots$ \\\\\n",
       "\t16 & Jeremiah Hugo & 10 & None & $\\dots$ \\\\\n",
       "\t17 & Joseph Stocke & 9 & The Grayson School & $\\dots$ \\\\\n",
       "\t18 & Julia Sun & 9 & Horace Greeley & $\\dots$ \\\\\n",
       "\t19 & Junwoo Kim & 9 & Winston Churchill High School & $\\dots$ \\\\\n",
       "\t20 & Kashish Sethi & 10 & Sharon Middle in Sharon, MA & $\\dots$ \\\\\n",
       "\t21 & Krishnan Shankar & 9 & None & $\\dots$ \\\\\n",
       "\t22 & Lauren Hall & 9 & Hanover High School in Hanover, NH & $\\dots$ \\\\\n",
       "\t23 & Leah Maciel & 11 & Rising Tide Charter School in Plymouth, MA & $\\dots$ \\\\\n",
       "\t24 & Manavi Vajhallya & 9 & Andover High in Andover, MA & $\\dots$ \\\\\n",
       "\t25 & Maxime Malaussena & 10 & Montclair High School & $\\dots$ \\\\\n",
       "\t26 & Megan Santamore & 11 & Notre Dame Preparatory High School in Fitchburg, MA & $\\dots$ \\\\\n",
       "\t27 & Michael Mo & 10 & Staten Island Tech high school & $\\dots$ \\\\\n",
       "\t28 & Neel Joshi & 11 & Westford Academy in Westford, MA & $\\dots$ \\\\\n",
       "\t29 & Quinn Armentrout & 11 & The Nueva School & $\\dots$ \\\\\n",
       "\t30 & Ramakrishnan Gopinath & 9 & None & $\\dots$ \\\\\n",
       "\t$\\dots$ & $\\dots$ & $\\dots$ & $\\dots$ &  \\\\\n",
       "\\end{tabular}\n"
      ],
      "text/plain": [
       "35×8 DataFrame. Omitted printing of 6 columns\n",
       "│ Row │ Student Name          │ Student Grade │\n",
       "│     │ \u001b[90mString\u001b[39m                │ \u001b[90mInt64\u001b[39m         │\n",
       "├─────┼───────────────────────┼───────────────┤\n",
       "│ 1   │ Aaron Huang           │ 10            │\n",
       "│ 2   │ Advika Agrawal        │ 11            │\n",
       "│ 3   │ Akshika Chawade       │ 10            │\n",
       "│ 4   │ Alexander Sholl       │ 9             │\n",
       "│ 5   │ Amos Batalden         │ 9             │\n",
       "│ 6   │ Annanta Budhathoki    │ 11            │\n",
       "│ 7   │ Anthony Mundy         │ 9             │\n",
       "│ 8   │ Chloe Chan            │ 10            │\n",
       "│ 9   │ Daniel Cho            │ 9             │\n",
       "│ 10  │ Danya Rose            │ 10            │\n",
       "⋮\n",
       "│ 25  │ Maxime Malaussena     │ 10            │\n",
       "│ 26  │ Megan Santamore       │ 11            │\n",
       "│ 27  │ Michael Mo            │ 10            │\n",
       "│ 28  │ Neel Joshi            │ 11            │\n",
       "│ 29  │ Quinn Armentrout      │ 11            │\n",
       "│ 30  │ Ramakrishnan Gopinath │ 9             │\n",
       "│ 31  │ Sean Williams         │ 9             │\n",
       "│ 32  │ Sebastian Molina      │ 11            │\n",
       "│ 33  │ Suman Samanta         │ 10            │\n",
       "│ 34  │ Tess Wolossow         │ 12            │\n",
       "│ 35  │ Tyler Pham            │ 9             │"
      ]
     },
     "execution_count": 46,
     "metadata": {},
     "output_type": "execute_result"
    }
   ],
   "source": [
    "# only pick students that showed up for class on August 1st\n",
    "students[students[:, \"1-Aug\"], :]"
   ]
  },
  {
   "cell_type": "code",
   "execution_count": 47,
   "metadata": {},
   "outputs": [
    {
     "data": {
      "text/plain": [
       "48-element Array{Bool,1}:\n",
       " 1\n",
       " 1\n",
       " 1\n",
       " 1\n",
       " 1\n",
       " 0\n",
       " 1\n",
       " 1\n",
       " 0\n",
       " 1\n",
       " 0\n",
       " 1\n",
       " 1\n",
       " ⋮\n",
       " 0\n",
       " 0\n",
       " 1\n",
       " 1\n",
       " 0\n",
       " 1\n",
       " 1\n",
       " 1\n",
       " 1\n",
       " 1\n",
       " 0\n",
       " 0"
      ]
     },
     "execution_count": 47,
     "metadata": {},
     "output_type": "execute_result"
    }
   ],
   "source": [
    "# A closer look at how this actually works\n",
    "students[:, \"1-Aug\"]"
   ]
  },
  {
   "cell_type": "markdown",
   "metadata": {},
   "source": [
    "### Plotting stuff with `Plots`\n",
    "\n",
    "Now, let's try and use the `Plots` package to visualize some of this data. First, we need to import the `Plots` package and tell it we're going to use the `GR` backend."
   ]
  },
  {
   "cell_type": "code",
   "execution_count": 48,
   "metadata": {},
   "outputs": [
    {
     "data": {
      "text/plain": [
       "Plots.GRBackend()"
      ]
     },
     "execution_count": 48,
     "metadata": {},
     "output_type": "execute_result"
    }
   ],
   "source": [
    "using Plots\n",
    "gr()"
   ]
  },
  {
   "cell_type": "markdown",
   "metadata": {},
   "source": [
    "Now, let's just plot some mathematical functions, by using a function in place of `y`."
   ]
  },
  {
   "cell_type": "code",
   "execution_count": 52,
   "metadata": {},
   "outputs": [
    {
     "data": {
      "image/svg+xml": [
       "<?xml version=\"1.0\" encoding=\"utf-8\"?>\n",
       "<svg xmlns=\"http://www.w3.org/2000/svg\" xmlns:xlink=\"http://www.w3.org/1999/xlink\" width=\"600\" height=\"400\" viewBox=\"0 0 2400 1600\">\n",
       "<defs>\n",
       "  <clipPath id=\"clip220\">\n",
       "    <rect x=\"0\" y=\"0\" width=\"2400\" height=\"1600\"/>\n",
       "  </clipPath>\n",
       "</defs>\n",
       "<path clip-path=\"url(#clip220)\" d=\"\n",
       "M0 1600 L2400 1600 L2400 0 L0 0  Z\n",
       "  \" fill=\"#ffffff\" fill-rule=\"evenodd\" fill-opacity=\"1\"/>\n",
       "<defs>\n",
       "  <clipPath id=\"clip221\">\n",
       "    <rect x=\"480\" y=\"0\" width=\"1681\" height=\"1600\"/>\n",
       "  </clipPath>\n",
       "</defs>\n",
       "<path clip-path=\"url(#clip220)\" d=\"\n",
       "M161.598 1486.45 L2352.76 1486.45 L2352.76 47.2441 L161.598 47.2441  Z\n",
       "  \" fill=\"#ffffff\" fill-rule=\"evenodd\" fill-opacity=\"1\"/>\n",
       "<defs>\n",
       "  <clipPath id=\"clip222\">\n",
       "    <rect x=\"161\" y=\"47\" width=\"2192\" height=\"1440\"/>\n",
       "  </clipPath>\n",
       "</defs>\n",
       "<polyline clip-path=\"url(#clip222)\" style=\"stroke:#000000; stroke-width:2; stroke-opacity:0.1; fill:none\" points=\"\n",
       "  430.325,1486.45 430.325,47.2441 \n",
       "  \"/>\n",
       "<polyline clip-path=\"url(#clip222)\" style=\"stroke:#000000; stroke-width:2; stroke-opacity:0.1; fill:none\" points=\"\n",
       "  843.751,1486.45 843.751,47.2441 \n",
       "  \"/>\n",
       "<polyline clip-path=\"url(#clip222)\" style=\"stroke:#000000; stroke-width:2; stroke-opacity:0.1; fill:none\" points=\"\n",
       "  1257.18,1486.45 1257.18,47.2441 \n",
       "  \"/>\n",
       "<polyline clip-path=\"url(#clip222)\" style=\"stroke:#000000; stroke-width:2; stroke-opacity:0.1; fill:none\" points=\"\n",
       "  1670.6,1486.45 1670.6,47.2441 \n",
       "  \"/>\n",
       "<polyline clip-path=\"url(#clip222)\" style=\"stroke:#000000; stroke-width:2; stroke-opacity:0.1; fill:none\" points=\"\n",
       "  2084.03,1486.45 2084.03,47.2441 \n",
       "  \"/>\n",
       "<polyline clip-path=\"url(#clip222)\" style=\"stroke:#000000; stroke-width:2; stroke-opacity:0.1; fill:none\" points=\"\n",
       "  161.598,1445.78 2352.76,1445.78 \n",
       "  \"/>\n",
       "<polyline clip-path=\"url(#clip222)\" style=\"stroke:#000000; stroke-width:2; stroke-opacity:0.1; fill:none\" points=\"\n",
       "  161.598,988.338 2352.76,988.338 \n",
       "  \"/>\n",
       "<polyline clip-path=\"url(#clip222)\" style=\"stroke:#000000; stroke-width:2; stroke-opacity:0.1; fill:none\" points=\"\n",
       "  161.598,530.898 2352.76,530.898 \n",
       "  \"/>\n",
       "<polyline clip-path=\"url(#clip222)\" style=\"stroke:#000000; stroke-width:2; stroke-opacity:0.1; fill:none\" points=\"\n",
       "  161.598,73.4586 2352.76,73.4586 \n",
       "  \"/>\n",
       "<polyline clip-path=\"url(#clip220)\" style=\"stroke:#000000; stroke-width:4; stroke-opacity:1; fill:none\" points=\"\n",
       "  161.598,1486.45 2352.76,1486.45 \n",
       "  \"/>\n",
       "<polyline clip-path=\"url(#clip220)\" style=\"stroke:#000000; stroke-width:4; stroke-opacity:1; fill:none\" points=\"\n",
       "  161.598,1486.45 161.598,47.2441 \n",
       "  \"/>\n",
       "<polyline clip-path=\"url(#clip220)\" style=\"stroke:#000000; stroke-width:4; stroke-opacity:1; fill:none\" points=\"\n",
       "  430.325,1486.45 430.325,1469.18 \n",
       "  \"/>\n",
       "<polyline clip-path=\"url(#clip220)\" style=\"stroke:#000000; stroke-width:4; stroke-opacity:1; fill:none\" points=\"\n",
       "  843.751,1486.45 843.751,1469.18 \n",
       "  \"/>\n",
       "<polyline clip-path=\"url(#clip220)\" style=\"stroke:#000000; stroke-width:4; stroke-opacity:1; fill:none\" points=\"\n",
       "  1257.18,1486.45 1257.18,1469.18 \n",
       "  \"/>\n",
       "<polyline clip-path=\"url(#clip220)\" style=\"stroke:#000000; stroke-width:4; stroke-opacity:1; fill:none\" points=\"\n",
       "  1670.6,1486.45 1670.6,1469.18 \n",
       "  \"/>\n",
       "<polyline clip-path=\"url(#clip220)\" style=\"stroke:#000000; stroke-width:4; stroke-opacity:1; fill:none\" points=\"\n",
       "  2084.03,1486.45 2084.03,1469.18 \n",
       "  \"/>\n",
       "<polyline clip-path=\"url(#clip220)\" style=\"stroke:#000000; stroke-width:4; stroke-opacity:1; fill:none\" points=\"\n",
       "  161.598,1445.78 187.892,1445.78 \n",
       "  \"/>\n",
       "<polyline clip-path=\"url(#clip220)\" style=\"stroke:#000000; stroke-width:4; stroke-opacity:1; fill:none\" points=\"\n",
       "  161.598,988.338 187.892,988.338 \n",
       "  \"/>\n",
       "<polyline clip-path=\"url(#clip220)\" style=\"stroke:#000000; stroke-width:4; stroke-opacity:1; fill:none\" points=\"\n",
       "  161.598,530.898 187.892,530.898 \n",
       "  \"/>\n",
       "<polyline clip-path=\"url(#clip220)\" style=\"stroke:#000000; stroke-width:4; stroke-opacity:1; fill:none\" points=\"\n",
       "  161.598,73.4586 187.892,73.4586 \n",
       "  \"/>\n",
       "<path clip-path=\"url(#clip220)\" d=\"M 0 0 M410.337 1525.04 L422.814 1525.04 L422.814 1528.83 L410.337 1528.83 L410.337 1525.04 Z\" fill=\"#000000\" fill-rule=\"evenodd\" fill-opacity=\"1\" /><path clip-path=\"url(#clip220)\" d=\"M 0 0 M440.73 1509.43 L428.925 1527.88 L440.73 1527.88 L440.73 1509.43 M439.503 1505.36 L445.383 1505.36 L445.383 1527.88 L450.313 1527.88 L450.313 1531.77 L445.383 1531.77 L445.383 1539.92 L440.73 1539.92 L440.73 1531.77 L425.128 1531.77 L425.128 1527.26 L439.503 1505.36 Z\" fill=\"#000000\" fill-rule=\"evenodd\" fill-opacity=\"1\" /><path clip-path=\"url(#clip220)\" d=\"M 0 0 M824.804 1525.04 L837.281 1525.04 L837.281 1528.83 L824.804 1528.83 L824.804 1525.04 Z\" fill=\"#000000\" fill-rule=\"evenodd\" fill-opacity=\"1\" /><path clip-path=\"url(#clip220)\" d=\"M 0 0 M846.378 1535.98 L862.698 1535.98 L862.698 1539.92 L840.753 1539.92 L840.753 1535.98 Q843.415 1533.23 847.999 1528.6 Q852.605 1523.95 853.786 1522.61 Q856.031 1520.08 856.911 1518.35 Q857.814 1516.59 857.814 1514.9 Q857.814 1512.14 855.869 1510.41 Q853.948 1508.67 850.846 1508.67 Q848.647 1508.67 846.193 1509.43 Q843.763 1510.2 840.985 1511.75 L840.985 1507.03 Q843.809 1505.89 846.263 1505.31 Q848.716 1504.73 850.753 1504.73 Q856.124 1504.73 859.318 1507.42 Q862.513 1510.11 862.513 1514.6 Q862.513 1516.73 861.702 1518.65 Q860.915 1520.54 858.809 1523.14 Q858.23 1523.81 855.128 1527.03 Q852.026 1530.22 846.378 1535.98 Z\" fill=\"#000000\" fill-rule=\"evenodd\" fill-opacity=\"1\" /><path clip-path=\"url(#clip220)\" d=\"M 0 0 M1257.18 1508.44 Q1253.57 1508.44 1251.74 1512 Q1249.93 1515.55 1249.93 1522.67 Q1249.93 1529.78 1251.74 1533.35 Q1253.57 1536.89 1257.18 1536.89 Q1260.81 1536.89 1262.62 1533.35 Q1264.45 1529.78 1264.45 1522.67 Q1264.45 1515.55 1262.62 1512 Q1260.81 1508.44 1257.18 1508.44 M1257.18 1504.73 Q1262.99 1504.73 1266.04 1509.34 Q1269.12 1513.92 1269.12 1522.67 Q1269.12 1531.4 1266.04 1536.01 Q1262.99 1540.59 1257.18 1540.59 Q1251.37 1540.59 1248.29 1536.01 Q1245.23 1531.4 1245.23 1522.67 Q1245.23 1513.92 1248.29 1509.34 Q1251.37 1504.73 1257.18 1504.73 Z\" fill=\"#000000\" fill-rule=\"evenodd\" fill-opacity=\"1\" /><path clip-path=\"url(#clip220)\" d=\"M 0 0 M1665.26 1535.98 L1681.58 1535.98 L1681.58 1539.92 L1659.63 1539.92 L1659.63 1535.98 Q1662.29 1533.23 1666.88 1528.6 Q1671.48 1523.95 1672.66 1522.61 Q1674.91 1520.08 1675.79 1518.35 Q1676.69 1516.59 1676.69 1514.9 Q1676.69 1512.14 1674.75 1510.41 Q1672.83 1508.67 1669.72 1508.67 Q1667.52 1508.67 1665.07 1509.43 Q1662.64 1510.2 1659.86 1511.75 L1659.86 1507.03 Q1662.69 1505.89 1665.14 1505.31 Q1667.59 1504.73 1669.63 1504.73 Q1675 1504.73 1678.2 1507.42 Q1681.39 1510.11 1681.39 1514.6 Q1681.39 1516.73 1680.58 1518.65 Q1679.79 1520.54 1677.69 1523.14 Q1677.11 1523.81 1674.01 1527.03 Q1670.9 1530.22 1665.26 1535.98 Z\" fill=\"#000000\" fill-rule=\"evenodd\" fill-opacity=\"1\" /><path clip-path=\"url(#clip220)\" d=\"M 0 0 M2087.04 1509.43 L2075.23 1527.88 L2087.04 1527.88 L2087.04 1509.43 M2085.81 1505.36 L2091.69 1505.36 L2091.69 1527.88 L2096.62 1527.88 L2096.62 1531.77 L2091.69 1531.77 L2091.69 1539.92 L2087.04 1539.92 L2087.04 1531.77 L2071.44 1531.77 L2071.44 1527.26 L2085.81 1505.36 Z\" fill=\"#000000\" fill-rule=\"evenodd\" fill-opacity=\"1\" /><path clip-path=\"url(#clip220)\" d=\"M 0 0 M125.654 1431.58 Q122.043 1431.58 120.214 1435.14 Q118.408 1438.68 118.408 1445.81 Q118.408 1452.92 120.214 1456.48 Q122.043 1460.02 125.654 1460.02 Q129.288 1460.02 131.094 1456.48 Q132.922 1452.92 132.922 1445.81 Q132.922 1438.68 131.094 1435.14 Q129.288 1431.58 125.654 1431.58 M125.654 1427.87 Q131.464 1427.87 134.52 1432.48 Q137.598 1437.06 137.598 1445.81 Q137.598 1454.54 134.52 1459.15 Q131.464 1463.73 125.654 1463.73 Q119.844 1463.73 116.765 1459.15 Q113.709 1454.54 113.709 1445.81 Q113.709 1437.06 116.765 1432.48 Q119.844 1427.87 125.654 1427.87 Z\" fill=\"#000000\" fill-rule=\"evenodd\" fill-opacity=\"1\" /><path clip-path=\"url(#clip220)\" d=\"M 0 0 M89.6818 971.058 L108.038 971.058 L108.038 974.993 L93.9642 974.993 L93.9642 983.465 Q94.9827 983.118 96.0012 982.956 Q97.0197 982.771 98.0382 982.771 Q103.825 982.771 107.205 985.942 Q110.584 989.113 110.584 994.53 Q110.584 1000.11 107.112 1003.21 Q103.64 1006.29 97.3206 1006.29 Q95.1447 1006.29 92.8762 1005.92 Q90.6309 1005.55 88.2235 1004.81 L88.2235 1000.11 Q90.3068 1001.24 92.529 1001.8 Q94.7512 1002.35 97.2281 1002.35 Q101.233 1002.35 103.571 1000.25 Q105.909 998.141 105.909 994.53 Q105.909 990.919 103.571 988.812 Q101.233 986.706 97.2281 986.706 Q95.3531 986.706 93.4781 987.122 Q91.6262 987.539 89.6818 988.419 L89.6818 971.058 Z\" fill=\"#000000\" fill-rule=\"evenodd\" fill-opacity=\"1\" /><path clip-path=\"url(#clip220)\" d=\"M 0 0 M125.654 974.136 Q122.043 974.136 120.214 977.701 Q118.408 981.243 118.408 988.372 Q118.408 995.479 120.214 999.044 Q122.043 1002.59 125.654 1002.59 Q129.288 1002.59 131.094 999.044 Q132.922 995.479 132.922 988.372 Q132.922 981.243 131.094 977.701 Q129.288 974.136 125.654 974.136 M125.654 970.433 Q131.464 970.433 134.52 975.039 Q137.598 979.623 137.598 988.372 Q137.598 997.099 134.52 1001.71 Q131.464 1006.29 125.654 1006.29 Q119.844 1006.29 116.765 1001.71 Q113.709 997.099 113.709 988.372 Q113.709 979.623 116.765 975.039 Q119.844 970.433 125.654 970.433 Z\" fill=\"#000000\" fill-rule=\"evenodd\" fill-opacity=\"1\" /><path clip-path=\"url(#clip220)\" d=\"M 0 0 M63.6634 544.243 L71.3023 544.243 L71.3023 517.877 L62.9921 519.544 L62.9921 515.285 L71.256 513.618 L75.9319 513.618 L75.9319 544.243 L83.5707 544.243 L83.5707 548.178 L63.6634 548.178 L63.6634 544.243 Z\" fill=\"#000000\" fill-rule=\"evenodd\" fill-opacity=\"1\" /><path clip-path=\"url(#clip220)\" d=\"M 0 0 M98.6401 516.697 Q95.029 516.697 93.2003 520.262 Q91.3948 523.803 91.3948 530.933 Q91.3948 538.039 93.2003 541.604 Q95.029 545.146 98.6401 545.146 Q102.274 545.146 104.08 541.604 Q105.909 538.039 105.909 530.933 Q105.909 523.803 104.08 520.262 Q102.274 516.697 98.6401 516.697 M98.6401 512.993 Q104.45 512.993 107.506 517.6 Q110.584 522.183 110.584 530.933 Q110.584 539.66 107.506 544.266 Q104.45 548.849 98.6401 548.849 Q92.8299 548.849 89.7512 544.266 Q86.6957 539.66 86.6957 530.933 Q86.6957 522.183 89.7512 517.6 Q92.8299 512.993 98.6401 512.993 Z\" fill=\"#000000\" fill-rule=\"evenodd\" fill-opacity=\"1\" /><path clip-path=\"url(#clip220)\" d=\"M 0 0 M125.654 516.697 Q122.043 516.697 120.214 520.262 Q118.408 523.803 118.408 530.933 Q118.408 538.039 120.214 541.604 Q122.043 545.146 125.654 545.146 Q129.288 545.146 131.094 541.604 Q132.922 538.039 132.922 530.933 Q132.922 523.803 131.094 520.262 Q129.288 516.697 125.654 516.697 M125.654 512.993 Q131.464 512.993 134.52 517.6 Q137.598 522.183 137.598 530.933 Q137.598 539.66 134.52 544.266 Q131.464 548.849 125.654 548.849 Q119.844 548.849 116.765 544.266 Q113.709 539.66 113.709 530.933 Q113.709 522.183 116.765 517.6 Q119.844 512.993 125.654 512.993 Z\" fill=\"#000000\" fill-rule=\"evenodd\" fill-opacity=\"1\" /><path clip-path=\"url(#clip220)\" d=\"M 0 0 M64.6588 86.8034 L72.2976 86.8034 L72.2976 60.4378 L63.9875 62.1045 L63.9875 57.8453 L72.2513 56.1786 L76.9272 56.1786 L76.9272 86.8034 L84.5661 86.8034 L84.5661 90.7386 L64.6588 90.7386 L64.6588 86.8034 Z\" fill=\"#000000\" fill-rule=\"evenodd\" fill-opacity=\"1\" /><path clip-path=\"url(#clip220)\" d=\"M 0 0 M89.6818 56.1786 L108.038 56.1786 L108.038 60.1138 L93.9642 60.1138 L93.9642 68.5859 Q94.9827 68.2387 96.0012 68.0767 Q97.0197 67.8915 98.0382 67.8915 Q103.825 67.8915 107.205 71.0628 Q110.584 74.2341 110.584 79.6507 Q110.584 85.2294 107.112 88.3312 Q103.64 91.4099 97.3206 91.4099 Q95.1447 91.4099 92.8762 91.0395 Q90.6309 90.6692 88.2235 89.9284 L88.2235 85.2294 Q90.3068 86.3636 92.529 86.9192 Q94.7512 87.4747 97.2281 87.4747 Q101.233 87.4747 103.571 85.3683 Q105.909 83.2618 105.909 79.6507 Q105.909 76.0396 103.571 73.9331 Q101.233 71.8267 97.2281 71.8267 Q95.3531 71.8267 93.4781 72.2433 Q91.6262 72.66 89.6818 73.5396 L89.6818 56.1786 Z\" fill=\"#000000\" fill-rule=\"evenodd\" fill-opacity=\"1\" /><path clip-path=\"url(#clip220)\" d=\"M 0 0 M125.654 59.2573 Q122.043 59.2573 120.214 62.8221 Q118.408 66.3637 118.408 73.4933 Q118.408 80.5998 120.214 84.1646 Q122.043 87.7062 125.654 87.7062 Q129.288 87.7062 131.094 84.1646 Q132.922 80.5998 132.922 73.4933 Q132.922 66.3637 131.094 62.8221 Q129.288 59.2573 125.654 59.2573 M125.654 55.5536 Q131.464 55.5536 134.52 60.1601 Q137.598 64.7434 137.598 73.4933 Q137.598 82.2201 134.52 86.8266 Q131.464 91.4099 125.654 91.4099 Q119.844 91.4099 116.765 86.8266 Q113.709 82.2201 113.709 73.4933 Q113.709 64.7434 116.765 60.1601 Q119.844 55.5536 125.654 55.5536 Z\" fill=\"#000000\" fill-rule=\"evenodd\" fill-opacity=\"1\" /><polyline clip-path=\"url(#clip222)\" style=\"stroke:#009af9; stroke-width:4; stroke-opacity:1; fill:none\" points=\"\n",
       "  223.612,1445.72 243.799,1445.71 430.459,1445.61 542.634,1445.49 637.477,1445.32 740.502,1445.03 835.482,1444.59 937.311,1443.83 1055.29,1442.33 1160.14,1440.06 \n",
       "  1252.08,1436.85 1352.32,1431.28 1453.15,1422.17 1564.64,1405.29 1670.71,1378.14 1725.86,1357.46 1781.01,1330.46 1827.43,1301.42 1873.85,1265.07 1902.19,1238.52 \n",
       "  1930.53,1208.07 1958.87,1173.14 1987.21,1133.08 2013.84,1090.07 2040.48,1041.15 2067.12,985.498 2093.76,922.191 2115.1,865.254 2136.44,802.125 2157.78,732.131 \n",
       "  2179.12,654.526 2200.45,568.481 2221.79,473.08 2243.13,367.304 2264.47,250.025 2271.04,211.423 2277.61,171.574 2284.17,130.439 2290.74,87.9763 \n",
       "  \"/>\n",
       "<path clip-path=\"url(#clip220)\" d=\"\n",
       "M1985.24 216.178 L2279.72 216.178 L2279.72 95.2176 L1985.24 95.2176  Z\n",
       "  \" fill=\"#ffffff\" fill-rule=\"evenodd\" fill-opacity=\"1\"/>\n",
       "<polyline clip-path=\"url(#clip220)\" style=\"stroke:#000000; stroke-width:4; stroke-opacity:1; fill:none\" points=\"\n",
       "  1985.24,216.178 2279.72,216.178 2279.72,95.2176 1985.24,95.2176 1985.24,216.178 \n",
       "  \"/>\n",
       "<polyline clip-path=\"url(#clip220)\" style=\"stroke:#009af9; stroke-width:4; stroke-opacity:1; fill:none\" points=\"\n",
       "  2009.58,155.698 2155.66,155.698 \n",
       "  \"/>\n",
       "<path clip-path=\"url(#clip220)\" d=\"M 0 0 M2193.85 175.385 Q2192.04 180.015 2190.33 181.427 Q2188.62 182.839 2185.75 182.839 L2182.34 182.839 L2182.34 179.274 L2184.84 179.274 Q2186.6 179.274 2187.58 178.44 Q2188.55 177.607 2189.73 174.505 L2190.49 172.561 L2180.01 147.052 L2184.52 147.052 L2192.62 167.329 L2200.72 147.052 L2205.24 147.052 L2193.85 175.385 Z\" fill=\"#000000\" fill-rule=\"evenodd\" fill-opacity=\"1\" /><path clip-path=\"url(#clip220)\" d=\"M 0 0 M2211.12 169.042 L2218.76 169.042 L2218.76 142.677 L2210.45 144.343 L2210.45 140.084 L2218.71 138.418 L2223.39 138.418 L2223.39 169.042 L2231.02 169.042 L2231.02 172.978 L2211.12 172.978 L2211.12 169.042 Z\" fill=\"#000000\" fill-rule=\"evenodd\" fill-opacity=\"1\" /></svg>\n"
      ]
     },
     "execution_count": 52,
     "metadata": {},
     "output_type": "execute_result"
    }
   ],
   "source": [
    "# plotting functions\n",
    "plot(x=0:5, x -> ℯ^x)"
   ]
  },
  {
   "cell_type": "markdown",
   "metadata": {},
   "source": [
    "Now, to plot some data out of our Data Frame, we can plot the number of students that showed up to class on each date:"
   ]
  },
  {
   "cell_type": "code",
   "execution_count": 53,
   "metadata": {},
   "outputs": [
    {
     "data": {
      "image/svg+xml": [
       "<?xml version=\"1.0\" encoding=\"utf-8\"?>\n",
       "<svg xmlns=\"http://www.w3.org/2000/svg\" xmlns:xlink=\"http://www.w3.org/1999/xlink\" width=\"600\" height=\"400\" viewBox=\"0 0 2400 1600\">\n",
       "<defs>\n",
       "  <clipPath id=\"clip260\">\n",
       "    <rect x=\"0\" y=\"0\" width=\"2400\" height=\"1600\"/>\n",
       "  </clipPath>\n",
       "</defs>\n",
       "<path clip-path=\"url(#clip260)\" d=\"\n",
       "M0 1600 L2400 1600 L2400 0 L0 0  Z\n",
       "  \" fill=\"#ffffff\" fill-rule=\"evenodd\" fill-opacity=\"1\"/>\n",
       "<defs>\n",
       "  <clipPath id=\"clip261\">\n",
       "    <rect x=\"480\" y=\"0\" width=\"1681\" height=\"1600\"/>\n",
       "  </clipPath>\n",
       "</defs>\n",
       "<path clip-path=\"url(#clip260)\" d=\"\n",
       "M139.191 1423.18 L2352.76 1423.18 L2352.76 47.2441 L139.191 47.2441  Z\n",
       "  \" fill=\"#ffffff\" fill-rule=\"evenodd\" fill-opacity=\"1\"/>\n",
       "<defs>\n",
       "  <clipPath id=\"clip262\">\n",
       "    <rect x=\"139\" y=\"47\" width=\"2215\" height=\"1377\"/>\n",
       "  </clipPath>\n",
       "</defs>\n",
       "<polyline clip-path=\"url(#clip262)\" style=\"stroke:#000000; stroke-width:2; stroke-opacity:0.1; fill:none\" points=\"\n",
       "  190.581,1423.18 190.581,47.2441 \n",
       "  \"/>\n",
       "<polyline clip-path=\"url(#clip262)\" style=\"stroke:#000000; stroke-width:2; stroke-opacity:0.1; fill:none\" points=\"\n",
       "  542.379,1423.18 542.379,47.2441 \n",
       "  \"/>\n",
       "<polyline clip-path=\"url(#clip262)\" style=\"stroke:#000000; stroke-width:2; stroke-opacity:0.1; fill:none\" points=\"\n",
       "  894.176,1423.18 894.176,47.2441 \n",
       "  \"/>\n",
       "<polyline clip-path=\"url(#clip262)\" style=\"stroke:#000000; stroke-width:2; stroke-opacity:0.1; fill:none\" points=\"\n",
       "  1245.97,1423.18 1245.97,47.2441 \n",
       "  \"/>\n",
       "<polyline clip-path=\"url(#clip262)\" style=\"stroke:#000000; stroke-width:2; stroke-opacity:0.1; fill:none\" points=\"\n",
       "  1597.77,1423.18 1597.77,47.2441 \n",
       "  \"/>\n",
       "<polyline clip-path=\"url(#clip262)\" style=\"stroke:#000000; stroke-width:2; stroke-opacity:0.1; fill:none\" points=\"\n",
       "  1949.57,1423.18 1949.57,47.2441 \n",
       "  \"/>\n",
       "<polyline clip-path=\"url(#clip262)\" style=\"stroke:#000000; stroke-width:2; stroke-opacity:0.1; fill:none\" points=\"\n",
       "  2301.37,1423.18 2301.37,47.2441 \n",
       "  \"/>\n",
       "<polyline clip-path=\"url(#clip262)\" style=\"stroke:#000000; stroke-width:2; stroke-opacity:0.1; fill:none\" points=\"\n",
       "  139.191,1384.24 2352.76,1384.24 \n",
       "  \"/>\n",
       "<polyline clip-path=\"url(#clip262)\" style=\"stroke:#000000; stroke-width:2; stroke-opacity:0.1; fill:none\" points=\"\n",
       "  139.191,1067.64 2352.76,1067.64 \n",
       "  \"/>\n",
       "<polyline clip-path=\"url(#clip262)\" style=\"stroke:#000000; stroke-width:2; stroke-opacity:0.1; fill:none\" points=\"\n",
       "  139.191,751.042 2352.76,751.042 \n",
       "  \"/>\n",
       "<polyline clip-path=\"url(#clip262)\" style=\"stroke:#000000; stroke-width:2; stroke-opacity:0.1; fill:none\" points=\"\n",
       "  139.191,434.444 2352.76,434.444 \n",
       "  \"/>\n",
       "<polyline clip-path=\"url(#clip262)\" style=\"stroke:#000000; stroke-width:2; stroke-opacity:0.1; fill:none\" points=\"\n",
       "  139.191,117.845 2352.76,117.845 \n",
       "  \"/>\n",
       "<polyline clip-path=\"url(#clip260)\" style=\"stroke:#000000; stroke-width:4; stroke-opacity:1; fill:none\" points=\"\n",
       "  139.191,1423.18 2352.76,1423.18 \n",
       "  \"/>\n",
       "<polyline clip-path=\"url(#clip260)\" style=\"stroke:#000000; stroke-width:4; stroke-opacity:1; fill:none\" points=\"\n",
       "  139.191,1423.18 139.191,47.2441 \n",
       "  \"/>\n",
       "<polyline clip-path=\"url(#clip260)\" style=\"stroke:#000000; stroke-width:4; stroke-opacity:1; fill:none\" points=\"\n",
       "  190.581,1423.18 190.581,1406.67 \n",
       "  \"/>\n",
       "<polyline clip-path=\"url(#clip260)\" style=\"stroke:#000000; stroke-width:4; stroke-opacity:1; fill:none\" points=\"\n",
       "  542.379,1423.18 542.379,1406.67 \n",
       "  \"/>\n",
       "<polyline clip-path=\"url(#clip260)\" style=\"stroke:#000000; stroke-width:4; stroke-opacity:1; fill:none\" points=\"\n",
       "  894.176,1423.18 894.176,1406.67 \n",
       "  \"/>\n",
       "<polyline clip-path=\"url(#clip260)\" style=\"stroke:#000000; stroke-width:4; stroke-opacity:1; fill:none\" points=\"\n",
       "  1245.97,1423.18 1245.97,1406.67 \n",
       "  \"/>\n",
       "<polyline clip-path=\"url(#clip260)\" style=\"stroke:#000000; stroke-width:4; stroke-opacity:1; fill:none\" points=\"\n",
       "  1597.77,1423.18 1597.77,1406.67 \n",
       "  \"/>\n",
       "<polyline clip-path=\"url(#clip260)\" style=\"stroke:#000000; stroke-width:4; stroke-opacity:1; fill:none\" points=\"\n",
       "  1949.57,1423.18 1949.57,1406.67 \n",
       "  \"/>\n",
       "<polyline clip-path=\"url(#clip260)\" style=\"stroke:#000000; stroke-width:4; stroke-opacity:1; fill:none\" points=\"\n",
       "  2301.37,1423.18 2301.37,1406.67 \n",
       "  \"/>\n",
       "<polyline clip-path=\"url(#clip260)\" style=\"stroke:#000000; stroke-width:4; stroke-opacity:1; fill:none\" points=\"\n",
       "  139.191,1384.24 165.754,1384.24 \n",
       "  \"/>\n",
       "<polyline clip-path=\"url(#clip260)\" style=\"stroke:#000000; stroke-width:4; stroke-opacity:1; fill:none\" points=\"\n",
       "  139.191,1067.64 165.754,1067.64 \n",
       "  \"/>\n",
       "<polyline clip-path=\"url(#clip260)\" style=\"stroke:#000000; stroke-width:4; stroke-opacity:1; fill:none\" points=\"\n",
       "  139.191,751.042 165.754,751.042 \n",
       "  \"/>\n",
       "<polyline clip-path=\"url(#clip260)\" style=\"stroke:#000000; stroke-width:4; stroke-opacity:1; fill:none\" points=\"\n",
       "  139.191,434.444 165.754,434.444 \n",
       "  \"/>\n",
       "<polyline clip-path=\"url(#clip260)\" style=\"stroke:#000000; stroke-width:4; stroke-opacity:1; fill:none\" points=\"\n",
       "  139.191,117.845 165.754,117.845 \n",
       "  \"/>\n",
       "<path clip-path=\"url(#clip260)\" d=\"M 0 0 M172.595 1445.17 Q168.984 1445.17 167.156 1448.74 Q165.35 1452.28 165.35 1459.41 Q165.35 1466.51 167.156 1470.08 Q168.984 1473.62 172.595 1473.62 Q176.23 1473.62 178.035 1470.08 Q179.864 1466.51 179.864 1459.41 Q179.864 1452.28 178.035 1448.74 Q176.23 1445.17 172.595 1445.17 M172.595 1441.47 Q178.406 1441.47 181.461 1446.07 Q184.54 1450.66 184.54 1459.41 Q184.54 1468.13 181.461 1472.74 Q178.406 1477.32 172.595 1477.32 Q166.785 1477.32 163.707 1472.74 Q160.651 1468.13 160.651 1459.41 Q160.651 1450.66 163.707 1446.07 Q166.785 1441.47 172.595 1441.47 Z\" fill=\"#000000\" fill-rule=\"evenodd\" fill-opacity=\"1\" /><path clip-path=\"url(#clip260)\" d=\"M 0 0 M189.609 1470.77 L194.493 1470.77 L194.493 1476.65 L189.609 1476.65 L189.609 1470.77 Z\" fill=\"#000000\" fill-rule=\"evenodd\" fill-opacity=\"1\" /><path clip-path=\"url(#clip260)\" d=\"M 0 0 M199.609 1442.09 L217.966 1442.09 L217.966 1446.03 L203.892 1446.03 L203.892 1454.5 Q204.91 1454.15 205.929 1453.99 Q206.947 1453.8 207.966 1453.8 Q213.753 1453.8 217.132 1456.98 Q220.512 1460.15 220.512 1465.56 Q220.512 1471.14 217.04 1474.24 Q213.567 1477.32 207.248 1477.32 Q205.072 1477.32 202.804 1476.95 Q200.558 1476.58 198.151 1475.84 L198.151 1471.14 Q200.234 1472.28 202.456 1472.83 Q204.679 1473.39 207.155 1473.39 Q211.16 1473.39 213.498 1471.28 Q215.836 1469.18 215.836 1465.56 Q215.836 1461.95 213.498 1459.85 Q211.16 1457.74 207.155 1457.74 Q205.28 1457.74 203.405 1458.16 Q201.554 1458.57 199.609 1459.45 L199.609 1442.09 Z\" fill=\"#000000\" fill-rule=\"evenodd\" fill-opacity=\"1\" /><path clip-path=\"url(#clip260)\" d=\"M 0 0 M514.277 1472.72 L521.916 1472.72 L521.916 1446.35 L513.606 1448.02 L513.606 1443.76 L521.87 1442.09 L526.546 1442.09 L526.546 1472.72 L534.184 1472.72 L534.184 1476.65 L514.277 1476.65 L514.277 1472.72 Z\" fill=\"#000000\" fill-rule=\"evenodd\" fill-opacity=\"1\" /><path clip-path=\"url(#clip260)\" d=\"M 0 0 M539.254 1470.77 L544.138 1470.77 L544.138 1476.65 L539.254 1476.65 L539.254 1470.77 Z\" fill=\"#000000\" fill-rule=\"evenodd\" fill-opacity=\"1\" /><path clip-path=\"url(#clip260)\" d=\"M 0 0 M559.207 1445.17 Q555.596 1445.17 553.768 1448.74 Q551.962 1452.28 551.962 1459.41 Q551.962 1466.51 553.768 1470.08 Q555.596 1473.62 559.207 1473.62 Q562.842 1473.62 564.647 1470.08 Q566.476 1466.51 566.476 1459.41 Q566.476 1452.28 564.647 1448.74 Q562.842 1445.17 559.207 1445.17 M559.207 1441.47 Q565.018 1441.47 568.073 1446.07 Q571.152 1450.66 571.152 1459.41 Q571.152 1468.13 568.073 1472.74 Q565.018 1477.32 559.207 1477.32 Q553.397 1477.32 550.319 1472.74 Q547.263 1468.13 547.263 1459.41 Q547.263 1450.66 550.319 1446.07 Q553.397 1441.47 559.207 1441.47 Z\" fill=\"#000000\" fill-rule=\"evenodd\" fill-opacity=\"1\" /><path clip-path=\"url(#clip260)\" d=\"M 0 0 M866.572 1472.72 L874.211 1472.72 L874.211 1446.35 L865.901 1448.02 L865.901 1443.76 L874.165 1442.09 L878.841 1442.09 L878.841 1472.72 L886.479 1472.72 L886.479 1476.65 L866.572 1476.65 L866.572 1472.72 Z\" fill=\"#000000\" fill-rule=\"evenodd\" fill-opacity=\"1\" /><path clip-path=\"url(#clip260)\" d=\"M 0 0 M891.549 1470.77 L896.433 1470.77 L896.433 1476.65 L891.549 1476.65 L891.549 1470.77 Z\" fill=\"#000000\" fill-rule=\"evenodd\" fill-opacity=\"1\" /><path clip-path=\"url(#clip260)\" d=\"M 0 0 M901.549 1442.09 L919.905 1442.09 L919.905 1446.03 L905.831 1446.03 L905.831 1454.5 Q906.85 1454.15 907.868 1453.99 Q908.887 1453.8 909.905 1453.8 Q915.692 1453.8 919.072 1456.98 Q922.451 1460.15 922.451 1465.56 Q922.451 1471.14 918.979 1474.24 Q915.507 1477.32 909.188 1477.32 Q907.012 1477.32 904.743 1476.95 Q902.498 1476.58 900.09 1475.84 L900.09 1471.14 Q902.174 1472.28 904.396 1472.83 Q906.618 1473.39 909.095 1473.39 Q913.1 1473.39 915.438 1471.28 Q917.776 1469.18 917.776 1465.56 Q917.776 1461.95 915.438 1459.85 Q913.1 1457.74 909.095 1457.74 Q907.22 1457.74 905.345 1458.16 Q903.493 1458.57 901.549 1459.45 L901.549 1442.09 Z\" fill=\"#000000\" fill-rule=\"evenodd\" fill-opacity=\"1\" /><path clip-path=\"url(#clip260)\" d=\"M 0 0 M1222.14 1472.72 L1238.46 1472.72 L1238.46 1476.65 L1216.52 1476.65 L1216.52 1472.72 Q1219.18 1469.96 1223.76 1465.33 Q1228.37 1460.68 1229.55 1459.34 Q1231.8 1456.81 1232.67 1455.08 Q1233.58 1453.32 1233.58 1451.63 Q1233.58 1448.87 1231.63 1447.14 Q1229.71 1445.4 1226.61 1445.4 Q1224.41 1445.4 1221.96 1446.17 Q1219.53 1446.93 1216.75 1448.48 L1216.75 1443.76 Q1219.57 1442.62 1222.03 1442.05 Q1224.48 1441.47 1226.52 1441.47 Q1231.89 1441.47 1235.08 1444.15 Q1238.28 1446.84 1238.28 1451.33 Q1238.28 1453.46 1237.47 1455.38 Q1236.68 1457.28 1234.57 1459.87 Q1233.99 1460.54 1230.89 1463.76 Q1227.79 1466.95 1222.14 1472.72 Z\" fill=\"#000000\" fill-rule=\"evenodd\" fill-opacity=\"1\" /><path clip-path=\"url(#clip260)\" d=\"M 0 0 M1243.53 1470.77 L1248.42 1470.77 L1248.42 1476.65 L1243.53 1476.65 L1243.53 1470.77 Z\" fill=\"#000000\" fill-rule=\"evenodd\" fill-opacity=\"1\" /><path clip-path=\"url(#clip260)\" d=\"M 0 0 M1263.48 1445.17 Q1259.87 1445.17 1258.05 1448.74 Q1256.24 1452.28 1256.24 1459.41 Q1256.24 1466.51 1258.05 1470.08 Q1259.87 1473.62 1263.48 1473.62 Q1267.12 1473.62 1268.92 1470.08 Q1270.75 1466.51 1270.75 1459.41 Q1270.75 1452.28 1268.92 1448.74 Q1267.12 1445.17 1263.48 1445.17 M1263.48 1441.47 Q1269.3 1441.47 1272.35 1446.07 Q1275.43 1450.66 1275.43 1459.41 Q1275.43 1468.13 1272.35 1472.74 Q1269.3 1477.32 1263.48 1477.32 Q1257.67 1477.32 1254.6 1472.74 Q1251.54 1468.13 1251.54 1459.41 Q1251.54 1450.66 1254.6 1446.07 Q1257.67 1441.47 1263.48 1441.47 Z\" fill=\"#000000\" fill-rule=\"evenodd\" fill-opacity=\"1\" /><path clip-path=\"url(#clip260)\" d=\"M 0 0 M1574.44 1472.72 L1590.76 1472.72 L1590.76 1476.65 L1568.81 1476.65 L1568.81 1472.72 Q1571.47 1469.96 1576.06 1465.33 Q1580.66 1460.68 1581.84 1459.34 Q1584.09 1456.81 1584.97 1455.08 Q1585.87 1453.32 1585.87 1451.63 Q1585.87 1448.87 1583.93 1447.14 Q1582.01 1445.4 1578.91 1445.4 Q1576.71 1445.4 1574.25 1446.17 Q1571.82 1446.93 1569.04 1448.48 L1569.04 1443.76 Q1571.87 1442.62 1574.32 1442.05 Q1576.78 1441.47 1578.81 1441.47 Q1584.18 1441.47 1587.38 1444.15 Q1590.57 1446.84 1590.57 1451.33 Q1590.57 1453.46 1589.76 1455.38 Q1588.97 1457.28 1586.87 1459.87 Q1586.29 1460.54 1583.19 1463.76 Q1580.09 1466.95 1574.44 1472.72 Z\" fill=\"#000000\" fill-rule=\"evenodd\" fill-opacity=\"1\" /><path clip-path=\"url(#clip260)\" d=\"M 0 0 M1595.83 1470.77 L1600.71 1470.77 L1600.71 1476.65 L1595.83 1476.65 L1595.83 1470.77 Z\" fill=\"#000000\" fill-rule=\"evenodd\" fill-opacity=\"1\" /><path clip-path=\"url(#clip260)\" d=\"M 0 0 M1605.83 1442.09 L1624.18 1442.09 L1624.18 1446.03 L1610.11 1446.03 L1610.11 1454.5 Q1611.13 1454.15 1612.15 1453.99 Q1613.16 1453.8 1614.18 1453.8 Q1619.97 1453.8 1623.35 1456.98 Q1626.73 1460.15 1626.73 1465.56 Q1626.73 1471.14 1623.26 1474.24 Q1619.78 1477.32 1613.47 1477.32 Q1611.29 1477.32 1609.02 1476.95 Q1606.78 1476.58 1604.37 1475.84 L1604.37 1471.14 Q1606.45 1472.28 1608.67 1472.83 Q1610.9 1473.39 1613.37 1473.39 Q1617.38 1473.39 1619.72 1471.28 Q1622.05 1469.18 1622.05 1465.56 Q1622.05 1461.95 1619.72 1459.85 Q1617.38 1457.74 1613.37 1457.74 Q1611.5 1457.74 1609.62 1458.16 Q1607.77 1458.57 1605.83 1459.45 L1605.83 1442.09 Z\" fill=\"#000000\" fill-rule=\"evenodd\" fill-opacity=\"1\" /><path clip-path=\"url(#clip260)\" d=\"M 0 0 M1935.33 1458.02 Q1938.69 1458.74 1940.56 1461 Q1942.46 1463.27 1942.46 1466.61 Q1942.46 1471.72 1938.94 1474.52 Q1935.42 1477.32 1928.94 1477.32 Q1926.77 1477.32 1924.45 1476.88 Q1922.16 1476.47 1919.71 1475.61 L1919.71 1471.1 Q1921.65 1472.23 1923.97 1472.81 Q1926.28 1473.39 1928.8 1473.39 Q1933.2 1473.39 1935.49 1471.65 Q1937.81 1469.92 1937.81 1466.61 Q1937.81 1463.55 1935.66 1461.84 Q1933.53 1460.1 1929.71 1460.1 L1925.68 1460.1 L1925.68 1456.26 L1929.89 1456.26 Q1933.34 1456.26 1935.17 1454.89 Q1937 1453.5 1937 1450.91 Q1937 1448.25 1935.1 1446.84 Q1933.23 1445.4 1929.71 1445.4 Q1927.79 1445.4 1925.59 1445.82 Q1923.39 1446.24 1920.75 1447.11 L1920.75 1442.95 Q1923.41 1442.21 1925.73 1441.84 Q1928.06 1441.47 1930.12 1441.47 Q1935.45 1441.47 1938.55 1443.9 Q1941.65 1446.3 1941.65 1450.43 Q1941.65 1453.3 1940.01 1455.29 Q1938.36 1457.25 1935.33 1458.02 Z\" fill=\"#000000\" fill-rule=\"evenodd\" fill-opacity=\"1\" /><path clip-path=\"url(#clip260)\" d=\"M 0 0 M1947.53 1470.77 L1952.42 1470.77 L1952.42 1476.65 L1947.53 1476.65 L1947.53 1470.77 Z\" fill=\"#000000\" fill-rule=\"evenodd\" fill-opacity=\"1\" /><path clip-path=\"url(#clip260)\" d=\"M 0 0 M1967.48 1445.17 Q1963.87 1445.17 1962.04 1448.74 Q1960.24 1452.28 1960.24 1459.41 Q1960.24 1466.51 1962.04 1470.08 Q1963.87 1473.62 1967.48 1473.62 Q1971.12 1473.62 1972.92 1470.08 Q1974.75 1466.51 1974.75 1459.41 Q1974.75 1452.28 1972.92 1448.74 Q1971.12 1445.17 1967.48 1445.17 M1967.48 1441.47 Q1973.29 1441.47 1976.35 1446.07 Q1979.43 1450.66 1979.43 1459.41 Q1979.43 1468.13 1976.35 1472.74 Q1973.29 1477.32 1967.48 1477.32 Q1961.67 1477.32 1958.6 1472.74 Q1955.54 1468.13 1955.54 1459.41 Q1955.54 1450.66 1958.6 1446.07 Q1961.67 1441.47 1967.48 1441.47 Z\" fill=\"#000000\" fill-rule=\"evenodd\" fill-opacity=\"1\" /><path clip-path=\"url(#clip260)\" d=\"M 0 0 M2287.63 1458.02 Q2290.98 1458.74 2292.86 1461 Q2294.76 1463.27 2294.76 1466.61 Q2294.76 1471.72 2291.24 1474.52 Q2287.72 1477.32 2281.24 1477.32 Q2279.06 1477.32 2276.75 1476.88 Q2274.46 1476.47 2272 1475.61 L2272 1471.1 Q2273.95 1472.23 2276.26 1472.81 Q2278.58 1473.39 2281.1 1473.39 Q2285.5 1473.39 2287.79 1471.65 Q2290.1 1469.92 2290.1 1466.61 Q2290.1 1463.55 2287.95 1461.84 Q2285.82 1460.1 2282 1460.1 L2277.97 1460.1 L2277.97 1456.26 L2282.19 1456.26 Q2285.64 1456.26 2287.46 1454.89 Q2289.29 1453.5 2289.29 1450.91 Q2289.29 1448.25 2287.4 1446.84 Q2285.52 1445.4 2282 1445.4 Q2280.08 1445.4 2277.88 1445.82 Q2275.68 1446.24 2273.04 1447.11 L2273.04 1442.95 Q2275.71 1442.21 2278.02 1441.84 Q2280.36 1441.47 2282.42 1441.47 Q2287.74 1441.47 2290.84 1443.9 Q2293.95 1446.3 2293.95 1450.43 Q2293.95 1453.3 2292.3 1455.29 Q2290.66 1457.25 2287.63 1458.02 Z\" fill=\"#000000\" fill-rule=\"evenodd\" fill-opacity=\"1\" /><path clip-path=\"url(#clip260)\" d=\"M 0 0 M2299.83 1470.77 L2304.71 1470.77 L2304.71 1476.65 L2299.83 1476.65 L2299.83 1470.77 Z\" fill=\"#000000\" fill-rule=\"evenodd\" fill-opacity=\"1\" /><path clip-path=\"url(#clip260)\" d=\"M 0 0 M2309.83 1442.09 L2328.18 1442.09 L2328.18 1446.03 L2314.11 1446.03 L2314.11 1454.5 Q2315.13 1454.15 2316.15 1453.99 Q2317.16 1453.8 2318.18 1453.8 Q2323.97 1453.8 2327.35 1456.98 Q2330.73 1460.15 2330.73 1465.56 Q2330.73 1471.14 2327.26 1474.24 Q2323.78 1477.32 2317.46 1477.32 Q2315.29 1477.32 2313.02 1476.95 Q2310.78 1476.58 2308.37 1475.84 L2308.37 1471.14 Q2310.45 1472.28 2312.67 1472.83 Q2314.9 1473.39 2317.37 1473.39 Q2321.38 1473.39 2323.71 1471.28 Q2326.05 1469.18 2326.05 1465.56 Q2326.05 1461.95 2323.71 1459.85 Q2321.38 1457.74 2317.37 1457.74 Q2315.5 1457.74 2313.62 1458.16 Q2311.77 1458.57 2309.83 1459.45 L2309.83 1442.09 Z\" fill=\"#000000\" fill-rule=\"evenodd\" fill-opacity=\"1\" /><path clip-path=\"url(#clip260)\" d=\"M 0 0 M103.247 1370.04 Q99.6354 1370.04 97.8068 1373.6 Q96.0012 1377.14 96.0012 1384.27 Q96.0012 1391.38 97.8068 1394.94 Q99.6354 1398.49 103.247 1398.49 Q106.881 1398.49 108.686 1394.94 Q110.515 1391.38 110.515 1384.27 Q110.515 1377.14 108.686 1373.6 Q106.881 1370.04 103.247 1370.04 M103.247 1366.33 Q109.057 1366.33 112.112 1370.94 Q115.191 1375.52 115.191 1384.27 Q115.191 1393 112.112 1397.61 Q109.057 1402.19 103.247 1402.19 Q97.4364 1402.19 94.3577 1397.61 Q91.3022 1393 91.3022 1384.27 Q91.3022 1375.52 94.3577 1370.94 Q97.4364 1366.33 103.247 1366.33 Z\" fill=\"#000000\" fill-rule=\"evenodd\" fill-opacity=\"1\" /><path clip-path=\"url(#clip260)\" d=\"M 0 0 M68.2699 1080.98 L75.9087 1080.98 L75.9087 1054.62 L67.5986 1056.29 L67.5986 1052.03 L75.8624 1050.36 L80.5383 1050.36 L80.5383 1080.98 L88.1772 1080.98 L88.1772 1084.92 L68.2699 1084.92 L68.2699 1080.98 Z\" fill=\"#000000\" fill-rule=\"evenodd\" fill-opacity=\"1\" /><path clip-path=\"url(#clip260)\" d=\"M 0 0 M103.247 1053.44 Q99.6354 1053.44 97.8068 1057 Q96.0012 1060.55 96.0012 1067.67 Q96.0012 1074.78 97.8068 1078.35 Q99.6354 1081.89 103.247 1081.89 Q106.881 1081.89 108.686 1078.35 Q110.515 1074.78 110.515 1067.67 Q110.515 1060.55 108.686 1057 Q106.881 1053.44 103.247 1053.44 M103.247 1049.74 Q109.057 1049.74 112.112 1054.34 Q115.191 1058.92 115.191 1067.67 Q115.191 1076.4 112.112 1081.01 Q109.057 1085.59 103.247 1085.59 Q97.4364 1085.59 94.3577 1081.01 Q91.3022 1076.4 91.3022 1067.67 Q91.3022 1058.92 94.3577 1054.34 Q97.4364 1049.74 103.247 1049.74 Z\" fill=\"#000000\" fill-rule=\"evenodd\" fill-opacity=\"1\" /><path clip-path=\"url(#clip260)\" d=\"M 0 0 M71.8578 764.387 L88.1772 764.387 L88.1772 768.322 L66.2328 768.322 L66.2328 764.387 Q68.8949 761.632 73.4782 757.002 Q78.0846 752.35 79.2652 751.007 Q81.5105 748.484 82.3902 746.748 Q83.2929 744.989 83.2929 743.299 Q83.2929 740.544 81.3485 738.808 Q79.4272 737.072 76.3254 737.072 Q74.1263 737.072 71.6726 737.836 Q69.2421 738.6 66.4643 740.151 L66.4643 735.429 Q69.2884 734.294 71.7421 733.716 Q74.1958 733.137 76.2328 733.137 Q81.6031 733.137 84.7976 735.822 Q87.992 738.507 87.992 742.998 Q87.992 745.128 87.1818 747.049 Q86.3948 748.947 84.2883 751.54 Q83.7096 752.211 80.6078 755.428 Q77.5059 758.623 71.8578 764.387 Z\" fill=\"#000000\" fill-rule=\"evenodd\" fill-opacity=\"1\" /><path clip-path=\"url(#clip260)\" d=\"M 0 0 M103.247 736.841 Q99.6354 736.841 97.8068 740.405 Q96.0012 743.947 96.0012 751.077 Q96.0012 758.183 97.8068 761.748 Q99.6354 765.289 103.247 765.289 Q106.881 765.289 108.686 761.748 Q110.515 758.183 110.515 751.077 Q110.515 743.947 108.686 740.405 Q106.881 736.841 103.247 736.841 M103.247 733.137 Q109.057 733.137 112.112 737.743 Q115.191 742.327 115.191 751.077 Q115.191 759.803 112.112 764.41 Q109.057 768.993 103.247 768.993 Q97.4364 768.993 94.3577 764.41 Q91.3022 759.803 91.3022 751.077 Q91.3022 742.327 94.3577 737.743 Q97.4364 733.137 103.247 733.137 Z\" fill=\"#000000\" fill-rule=\"evenodd\" fill-opacity=\"1\" /><path clip-path=\"url(#clip260)\" d=\"M 0 0 M81.0476 433.09 Q84.404 433.807 86.279 436.076 Q88.1772 438.344 88.1772 441.677 Q88.1772 446.793 84.6587 449.594 Q81.1402 452.395 74.6587 452.395 Q72.4828 452.395 70.168 451.955 Q67.8764 451.539 65.4227 450.682 L65.4227 446.168 Q67.3671 447.302 69.6819 447.881 Q71.9967 448.46 74.5198 448.46 Q78.918 448.46 81.2096 446.724 Q83.5244 444.988 83.5244 441.677 Q83.5244 438.622 81.3717 436.909 Q79.242 435.173 75.4226 435.173 L71.3949 435.173 L71.3949 431.33 L75.6078 431.33 Q79.0569 431.33 80.8855 429.965 Q82.7142 428.576 82.7142 425.983 Q82.7142 423.321 80.8161 421.909 Q78.9411 420.474 75.4226 420.474 Q73.5013 420.474 71.3023 420.891 Q69.1032 421.307 66.4643 422.187 L66.4643 418.02 Q69.1264 417.279 71.4412 416.909 Q73.7791 416.539 75.8393 416.539 Q81.1633 416.539 84.2652 418.969 Q87.367 421.377 87.367 425.497 Q87.367 428.367 85.7235 430.358 Q84.08 432.326 81.0476 433.09 Z\" fill=\"#000000\" fill-rule=\"evenodd\" fill-opacity=\"1\" /><path clip-path=\"url(#clip260)\" d=\"M 0 0 M103.247 420.242 Q99.6354 420.242 97.8068 423.807 Q96.0012 427.349 96.0012 434.478 Q96.0012 441.585 97.8068 445.15 Q99.6354 448.691 103.247 448.691 Q106.881 448.691 108.686 445.15 Q110.515 441.585 110.515 434.478 Q110.515 427.349 108.686 423.807 Q106.881 420.242 103.247 420.242 M103.247 416.539 Q109.057 416.539 112.112 421.145 Q115.191 425.728 115.191 434.478 Q115.191 443.205 112.112 447.812 Q109.057 452.395 103.247 452.395 Q97.4364 452.395 94.3577 447.812 Q91.3022 443.205 91.3022 434.478 Q91.3022 425.728 94.3577 421.145 Q97.4364 416.539 103.247 416.539 Z\" fill=\"#000000\" fill-rule=\"evenodd\" fill-opacity=\"1\" /><path clip-path=\"url(#clip260)\" d=\"M 0 0 M78.5939 104.64 L66.7884 123.089 L78.5939 123.089 L78.5939 104.64 M77.367 100.565 L83.2466 100.565 L83.2466 123.089 L88.1772 123.089 L88.1772 126.977 L83.2466 126.977 L83.2466 135.125 L78.5939 135.125 L78.5939 126.977 L62.9921 126.977 L62.9921 122.464 L77.367 100.565 Z\" fill=\"#000000\" fill-rule=\"evenodd\" fill-opacity=\"1\" /><path clip-path=\"url(#clip260)\" d=\"M 0 0 M103.247 103.644 Q99.6354 103.644 97.8068 107.209 Q96.0012 110.751 96.0012 117.88 Q96.0012 124.987 97.8068 128.551 Q99.6354 132.093 103.247 132.093 Q106.881 132.093 108.686 128.551 Q110.515 124.987 110.515 117.88 Q110.515 110.751 108.686 107.209 Q106.881 103.644 103.247 103.644 M103.247 99.9405 Q109.057 99.9405 112.112 104.547 Q115.191 109.13 115.191 117.88 Q115.191 126.607 112.112 131.213 Q109.057 135.797 103.247 135.797 Q97.4364 135.797 94.3577 131.213 Q91.3022 126.607 91.3022 117.88 Q91.3022 109.13 94.3577 104.547 Q97.4364 99.9405 103.247 99.9405 Z\" fill=\"#000000\" fill-rule=\"evenodd\" fill-opacity=\"1\" /><path clip-path=\"url(#clip260)\" d=\"M 0 0 M1208.72 1525.81 L1208.72 1506.52 L1214.57 1506.52 L1214.57 1556.04 L1208.72 1556.04 L1208.72 1550.7 Q1206.87 1553.88 1204.04 1555.44 Q1201.24 1556.97 1197.29 1556.97 Q1190.83 1556.97 1186.76 1551.81 Q1182.71 1546.65 1182.71 1538.25 Q1182.71 1529.85 1186.76 1524.69 Q1190.83 1519.54 1197.29 1519.54 Q1201.24 1519.54 1204.04 1521.1 Q1206.87 1522.62 1208.72 1525.81 M1188.76 1538.25 Q1188.76 1544.71 1191.4 1548.4 Q1194.08 1552.07 1198.72 1552.07 Q1203.37 1552.07 1206.04 1548.4 Q1208.72 1544.71 1208.72 1538.25 Q1208.72 1531.79 1206.04 1528.13 Q1203.37 1524.44 1198.72 1524.44 Q1194.08 1524.44 1191.4 1528.13 Q1188.76 1531.79 1188.76 1538.25 Z\" fill=\"#000000\" fill-rule=\"evenodd\" fill-opacity=\"1\" /><path clip-path=\"url(#clip260)\" d=\"M 0 0 M1236.92 1538.12 Q1229.82 1538.12 1227.08 1539.75 Q1224.35 1541.37 1224.35 1545.29 Q1224.35 1548.4 1226.38 1550.25 Q1228.45 1552.07 1231.98 1552.07 Q1236.85 1552.07 1239.78 1548.63 Q1242.74 1545.16 1242.74 1539.43 L1242.74 1538.12 L1236.92 1538.12 M1248.6 1535.71 L1248.6 1556.04 L1242.74 1556.04 L1242.74 1550.63 Q1240.74 1553.88 1237.75 1555.44 Q1234.75 1556.97 1230.43 1556.97 Q1224.95 1556.97 1221.7 1553.91 Q1218.49 1550.82 1218.49 1545.67 Q1218.49 1539.65 1222.5 1536.6 Q1226.54 1533.54 1234.53 1533.54 L1242.74 1533.54 L1242.74 1532.97 Q1242.74 1528.93 1240.07 1526.73 Q1237.43 1524.5 1232.62 1524.5 Q1229.57 1524.5 1226.67 1525.23 Q1223.77 1525.97 1221.1 1527.43 L1221.1 1522.02 Q1224.31 1520.78 1227.34 1520.17 Q1230.36 1519.54 1233.23 1519.54 Q1240.96 1519.54 1244.78 1523.55 Q1248.6 1527.56 1248.6 1535.71 Z\" fill=\"#000000\" fill-rule=\"evenodd\" fill-opacity=\"1\" /><path clip-path=\"url(#clip260)\" d=\"M 0 0 M1260.53 1510.27 L1260.53 1520.4 L1272.6 1520.4 L1272.6 1524.95 L1260.53 1524.95 L1260.53 1544.3 Q1260.53 1548.66 1261.71 1549.9 Q1262.92 1551.14 1266.58 1551.14 L1272.6 1551.14 L1272.6 1556.04 L1266.58 1556.04 Q1259.8 1556.04 1257.22 1553.53 Q1254.65 1550.98 1254.65 1544.3 L1254.65 1524.95 L1250.35 1524.95 L1250.35 1520.4 L1254.65 1520.4 L1254.65 1510.27 L1260.53 1510.27 Z\" fill=\"#000000\" fill-rule=\"evenodd\" fill-opacity=\"1\" /><path clip-path=\"url(#clip260)\" d=\"M 0 0 M1309.23 1536.76 L1309.23 1539.62 L1282.31 1539.62 Q1282.69 1545.67 1285.93 1548.85 Q1289.21 1552 1295.04 1552 Q1298.41 1552 1301.56 1551.17 Q1304.74 1550.35 1307.86 1548.69 L1307.86 1554.23 Q1304.71 1555.57 1301.4 1556.27 Q1298.09 1556.97 1294.69 1556.97 Q1286.16 1556.97 1281.16 1552 Q1276.19 1547.04 1276.19 1538.57 Q1276.19 1529.82 1280.91 1524.69 Q1285.65 1519.54 1293.67 1519.54 Q1300.86 1519.54 1305.03 1524.18 Q1309.23 1528.8 1309.23 1536.76 M1303.38 1535.04 Q1303.31 1530.23 1300.67 1527.37 Q1298.06 1524.5 1293.73 1524.5 Q1288.83 1524.5 1285.87 1527.27 Q1282.94 1530.04 1282.5 1535.07 L1303.38 1535.04 Z\" fill=\"#000000\" fill-rule=\"evenodd\" fill-opacity=\"1\" /><path clip-path=\"url(#clip262)\" d=\"\n",
       "M260.941 86.1857 L260.941 1384.24 L823.817 1384.24 L823.817 86.1857 L260.941 86.1857 L260.941 86.1857  Z\n",
       "  \" fill=\"#009af9\" fill-rule=\"evenodd\" fill-opacity=\"1\"/>\n",
       "<polyline clip-path=\"url(#clip262)\" style=\"stroke:#000000; stroke-width:4; stroke-opacity:1; fill:none\" points=\"\n",
       "  260.941,86.1857 260.941,1384.24 823.817,1384.24 823.817,86.1857 260.941,86.1857 \n",
       "  \"/>\n",
       "<path clip-path=\"url(#clip262)\" d=\"\n",
       "M964.536 86.1857 L964.536 1384.24 L1527.41 1384.24 L1527.41 86.1857 L964.536 86.1857 L964.536 86.1857  Z\n",
       "  \" fill=\"#009af9\" fill-rule=\"evenodd\" fill-opacity=\"1\"/>\n",
       "<polyline clip-path=\"url(#clip262)\" style=\"stroke:#000000; stroke-width:4; stroke-opacity:1; fill:none\" points=\"\n",
       "  964.536,86.1857 964.536,1384.24 1527.41,1384.24 1527.41,86.1857 964.536,86.1857 \n",
       "  \"/>\n",
       "<path clip-path=\"url(#clip262)\" d=\"\n",
       "M1668.13 276.145 L1668.13 1384.24 L2231.01 1384.24 L2231.01 276.145 L1668.13 276.145 L1668.13 276.145  Z\n",
       "  \" fill=\"#009af9\" fill-rule=\"evenodd\" fill-opacity=\"1\"/>\n",
       "<polyline clip-path=\"url(#clip262)\" style=\"stroke:#000000; stroke-width:4; stroke-opacity:1; fill:none\" points=\"\n",
       "  1668.13,276.145 1668.13,1384.24 2231.01,1384.24 2231.01,276.145 1668.13,276.145 \n",
       "  \"/>\n",
       "<path clip-path=\"url(#clip260)\" d=\"\n",
       "M1982 214.069 L2278.97 214.069 L2278.97 93.1086 L1982 93.1086  Z\n",
       "  \" fill=\"#ffffff\" fill-rule=\"evenodd\" fill-opacity=\"1\"/>\n",
       "<polyline clip-path=\"url(#clip260)\" style=\"stroke:#000000; stroke-width:4; stroke-opacity:1; fill:none\" points=\"\n",
       "  1982,214.069 2278.97,214.069 2278.97,93.1086 1982,93.1086 1982,214.069 \n",
       "  \"/>\n",
       "<path clip-path=\"url(#clip260)\" d=\"\n",
       "M2006.6 177.781 L2154.17 177.781 L2154.17 129.397 L2006.6 129.397 L2006.6 177.781  Z\n",
       "  \" fill=\"#009af9\" fill-rule=\"evenodd\" fill-opacity=\"1\"/>\n",
       "<polyline clip-path=\"url(#clip260)\" style=\"stroke:#000000; stroke-width:4; stroke-opacity:1; fill:none\" points=\"\n",
       "  2006.6,177.781 2154.17,177.781 2154.17,129.397 2006.6,129.397 2006.6,177.781 \n",
       "  \"/>\n",
       "<path clip-path=\"url(#clip260)\" d=\"M 0 0 M2192.6 173.276 Q2190.8 177.906 2189.09 179.318 Q2187.37 180.73 2184.5 180.73 L2181.1 180.73 L2181.1 177.165 L2183.6 177.165 Q2185.36 177.165 2186.33 176.332 Q2187.3 175.498 2188.48 172.396 L2189.25 170.452 L2178.76 144.943 L2183.28 144.943 L2191.38 165.221 L2199.48 144.943 L2203.99 144.943 L2192.6 173.276 Z\" fill=\"#000000\" fill-rule=\"evenodd\" fill-opacity=\"1\" /><path clip-path=\"url(#clip260)\" d=\"M 0 0 M2209.87 166.933 L2217.51 166.933 L2217.51 140.568 L2209.2 142.235 L2209.2 137.975 L2217.47 136.309 L2222.14 136.309 L2222.14 166.933 L2229.78 166.933 L2229.78 170.869 L2209.87 170.869 L2209.87 166.933 Z\" fill=\"#000000\" fill-rule=\"evenodd\" fill-opacity=\"1\" /></svg>\n"
      ]
     },
     "execution_count": 53,
     "metadata": {},
     "output_type": "execute_result"
    }
   ],
   "source": [
    "dates = [\"18-Jul\", \"25-Jul\", \"1-Aug\"]\n",
    "bar([sum(col) for col in eachcol(students[:, dates])], xaxis=(\"date\"))"
   ]
  },
  {
   "cell_type": "markdown",
   "metadata": {},
   "source": [
    "Plotting daily weather data for the memes"
   ]
  },
  {
   "cell_type": "code",
   "execution_count": 54,
   "metadata": {},
   "outputs": [
    {
     "data": {
      "text/plain": [
       "Dict{Any,Any} with 11 entries:\n",
       "  \"time\"               => Dict{Any,Any}(\"layoutKey\"=>\"k-p12h-n13-1\",\"startPerio…\n",
       "  \"data\"               => Dict{Any,Any}(\"hazardUrl\"=>Any[],\"hazard\"=>Any[],\"pop…\n",
       "  \"creationDateLocal\"  => \"8 Aug 12:51 pm CDT\"\n",
       "  \"location\"           => Dict{Any,Any}(\"zone\"=>\"TXZ192\",\"county\"=>\"TXC453\",\"me…\n",
       "  \"productionCenter\"   => \"Austin/San Antonio, TX\"\n",
       "  \"srsName\"            => \"WGS 1984\"\n",
       "  \"moreInformation\"    => \"http://weather.gov\"\n",
       "  \"operationalMode\"    => \"Production\"\n",
       "  \"credit\"             => \"https://www.weather.gov/ewx\"\n",
       "  \"currentobservation\" => Dict{Any,Any}(\"Date\"=>\"8 Aug 12:51 pm CDT\",\"timezone\"…\n",
       "  \"creationDate\"       => \"2020-08-08T11:51:46-05:00\""
      ]
     },
     "execution_count": 54,
     "metadata": {},
     "output_type": "execute_result"
    }
   ],
   "source": [
    "# pull temp data\n",
    "using PyCall\n",
    "py\"\"\"\n",
    "import requests\n",
    "weather = requests.get(\"https://forecast.weather.gov/MapClick.php?lat=30.33&lon=-97.74&unit=0&lg=english&FcstType=json\").json()\n",
    "\"\"\"\n",
    "\n",
    "data = py\"weather\""
   ]
  },
  {
   "cell_type": "code",
   "execution_count": 56,
   "metadata": {},
   "outputs": [
    {
     "data": {
      "image/svg+xml": [
       "<?xml version=\"1.0\" encoding=\"utf-8\"?>\n",
       "<svg xmlns=\"http://www.w3.org/2000/svg\" xmlns:xlink=\"http://www.w3.org/1999/xlink\" width=\"600\" height=\"400\" viewBox=\"0 0 2400 1600\">\n",
       "<defs>\n",
       "  <clipPath id=\"clip340\">\n",
       "    <rect x=\"0\" y=\"0\" width=\"2400\" height=\"1600\"/>\n",
       "  </clipPath>\n",
       "</defs>\n",
       "<path clip-path=\"url(#clip340)\" d=\"\n",
       "M0 1600 L2400 1600 L2400 0 L0 0  Z\n",
       "  \" fill=\"#ffffff\" fill-rule=\"evenodd\" fill-opacity=\"1\"/>\n",
       "<defs>\n",
       "  <clipPath id=\"clip341\">\n",
       "    <rect x=\"480\" y=\"0\" width=\"1681\" height=\"1600\"/>\n",
       "  </clipPath>\n",
       "</defs>\n",
       "<path clip-path=\"url(#clip340)\" d=\"\n",
       "M224.866 1486.45 L2352.76 1486.45 L2352.76 47.2441 L224.866 47.2441  Z\n",
       "  \" fill=\"#ffffff\" fill-rule=\"evenodd\" fill-opacity=\"1\"/>\n",
       "<defs>\n",
       "  <clipPath id=\"clip342\">\n",
       "    <rect x=\"224\" y=\"47\" width=\"2129\" height=\"1440\"/>\n",
       "  </clipPath>\n",
       "</defs>\n",
       "<polyline clip-path=\"url(#clip342)\" style=\"stroke:#000000; stroke-width:2; stroke-opacity:0.1; fill:none\" points=\"\n",
       "  536.02,1486.45 536.02,47.2441 \n",
       "  \"/>\n",
       "<polyline clip-path=\"url(#clip342)\" style=\"stroke:#000000; stroke-width:2; stroke-opacity:0.1; fill:none\" points=\"\n",
       "  954.237,1486.45 954.237,47.2441 \n",
       "  \"/>\n",
       "<polyline clip-path=\"url(#clip342)\" style=\"stroke:#000000; stroke-width:2; stroke-opacity:0.1; fill:none\" points=\"\n",
       "  1372.45,1486.45 1372.45,47.2441 \n",
       "  \"/>\n",
       "<polyline clip-path=\"url(#clip342)\" style=\"stroke:#000000; stroke-width:2; stroke-opacity:0.1; fill:none\" points=\"\n",
       "  1790.67,1486.45 1790.67,47.2441 \n",
       "  \"/>\n",
       "<polyline clip-path=\"url(#clip342)\" style=\"stroke:#000000; stroke-width:2; stroke-opacity:0.1; fill:none\" points=\"\n",
       "  2208.89,1486.45 2208.89,47.2441 \n",
       "  \"/>\n",
       "<polyline clip-path=\"url(#clip342)\" style=\"stroke:#000000; stroke-width:2; stroke-opacity:0.1; fill:none\" points=\"\n",
       "  224.866,1486.45 2352.76,1486.45 \n",
       "  \"/>\n",
       "<polyline clip-path=\"url(#clip342)\" style=\"stroke:#000000; stroke-width:2; stroke-opacity:0.1; fill:none\" points=\"\n",
       "  224.866,1246.58 2352.76,1246.58 \n",
       "  \"/>\n",
       "<polyline clip-path=\"url(#clip342)\" style=\"stroke:#000000; stroke-width:2; stroke-opacity:0.1; fill:none\" points=\"\n",
       "  224.866,1006.71 2352.76,1006.71 \n",
       "  \"/>\n",
       "<polyline clip-path=\"url(#clip342)\" style=\"stroke:#000000; stroke-width:2; stroke-opacity:0.1; fill:none\" points=\"\n",
       "  224.866,766.846 2352.76,766.846 \n",
       "  \"/>\n",
       "<polyline clip-path=\"url(#clip342)\" style=\"stroke:#000000; stroke-width:2; stroke-opacity:0.1; fill:none\" points=\"\n",
       "  224.866,526.979 2352.76,526.979 \n",
       "  \"/>\n",
       "<polyline clip-path=\"url(#clip342)\" style=\"stroke:#000000; stroke-width:2; stroke-opacity:0.1; fill:none\" points=\"\n",
       "  224.866,287.111 2352.76,287.111 \n",
       "  \"/>\n",
       "<polyline clip-path=\"url(#clip342)\" style=\"stroke:#000000; stroke-width:2; stroke-opacity:0.1; fill:none\" points=\"\n",
       "  224.866,47.2441 2352.76,47.2441 \n",
       "  \"/>\n",
       "<polyline clip-path=\"url(#clip340)\" style=\"stroke:#000000; stroke-width:4; stroke-opacity:1; fill:none\" points=\"\n",
       "  224.866,1486.45 2352.76,1486.45 \n",
       "  \"/>\n",
       "<polyline clip-path=\"url(#clip340)\" style=\"stroke:#000000; stroke-width:4; stroke-opacity:1; fill:none\" points=\"\n",
       "  224.866,1486.45 224.866,47.2441 \n",
       "  \"/>\n",
       "<polyline clip-path=\"url(#clip340)\" style=\"stroke:#000000; stroke-width:4; stroke-opacity:1; fill:none\" points=\"\n",
       "  536.02,1486.45 536.02,1469.18 \n",
       "  \"/>\n",
       "<polyline clip-path=\"url(#clip340)\" style=\"stroke:#000000; stroke-width:4; stroke-opacity:1; fill:none\" points=\"\n",
       "  954.237,1486.45 954.237,1469.18 \n",
       "  \"/>\n",
       "<polyline clip-path=\"url(#clip340)\" style=\"stroke:#000000; stroke-width:4; stroke-opacity:1; fill:none\" points=\"\n",
       "  1372.45,1486.45 1372.45,1469.18 \n",
       "  \"/>\n",
       "<polyline clip-path=\"url(#clip340)\" style=\"stroke:#000000; stroke-width:4; stroke-opacity:1; fill:none\" points=\"\n",
       "  1790.67,1486.45 1790.67,1469.18 \n",
       "  \"/>\n",
       "<polyline clip-path=\"url(#clip340)\" style=\"stroke:#000000; stroke-width:4; stroke-opacity:1; fill:none\" points=\"\n",
       "  2208.89,1486.45 2208.89,1469.18 \n",
       "  \"/>\n",
       "<polyline clip-path=\"url(#clip340)\" style=\"stroke:#000000; stroke-width:4; stroke-opacity:1; fill:none\" points=\"\n",
       "  224.866,1486.45 250.401,1486.45 \n",
       "  \"/>\n",
       "<polyline clip-path=\"url(#clip340)\" style=\"stroke:#000000; stroke-width:4; stroke-opacity:1; fill:none\" points=\"\n",
       "  224.866,1246.58 250.401,1246.58 \n",
       "  \"/>\n",
       "<polyline clip-path=\"url(#clip340)\" style=\"stroke:#000000; stroke-width:4; stroke-opacity:1; fill:none\" points=\"\n",
       "  224.866,1006.71 250.401,1006.71 \n",
       "  \"/>\n",
       "<polyline clip-path=\"url(#clip340)\" style=\"stroke:#000000; stroke-width:4; stroke-opacity:1; fill:none\" points=\"\n",
       "  224.866,766.846 250.401,766.846 \n",
       "  \"/>\n",
       "<polyline clip-path=\"url(#clip340)\" style=\"stroke:#000000; stroke-width:4; stroke-opacity:1; fill:none\" points=\"\n",
       "  224.866,526.979 250.401,526.979 \n",
       "  \"/>\n",
       "<polyline clip-path=\"url(#clip340)\" style=\"stroke:#000000; stroke-width:4; stroke-opacity:1; fill:none\" points=\"\n",
       "  224.866,287.111 250.401,287.111 \n",
       "  \"/>\n",
       "<polyline clip-path=\"url(#clip340)\" style=\"stroke:#000000; stroke-width:4; stroke-opacity:1; fill:none\" points=\"\n",
       "  224.866,47.2441 250.401,47.2441 \n",
       "  \"/>\n",
       "<path clip-path=\"url(#clip340)\" d=\"M 0 0 M512.687 1535.98 L529.006 1535.98 L529.006 1539.92 L507.062 1539.92 L507.062 1535.98 Q509.724 1533.23 514.307 1528.6 Q518.914 1523.95 520.094 1522.61 Q522.339 1520.08 523.219 1518.35 Q524.122 1516.59 524.122 1514.9 Q524.122 1512.14 522.177 1510.41 Q520.256 1508.67 517.154 1508.67 Q514.955 1508.67 512.502 1509.43 Q510.071 1510.2 507.293 1511.75 L507.293 1507.03 Q510.117 1505.89 512.571 1505.31 Q515.025 1504.73 517.062 1504.73 Q522.432 1504.73 525.626 1507.42 Q528.821 1510.11 528.821 1514.6 Q528.821 1516.73 528.011 1518.65 Q527.224 1520.54 525.117 1523.14 Q524.538 1523.81 521.437 1527.03 Q518.335 1530.22 512.687 1535.98 Z\" fill=\"#000000\" fill-rule=\"evenodd\" fill-opacity=\"1\" /><path clip-path=\"url(#clip340)\" d=\"M 0 0 M534.075 1534.04 L538.96 1534.04 L538.96 1539.92 L534.075 1539.92 L534.075 1534.04 Z\" fill=\"#000000\" fill-rule=\"evenodd\" fill-opacity=\"1\" /><path clip-path=\"url(#clip340)\" d=\"M 0 0 M544.075 1505.36 L562.432 1505.36 L562.432 1509.3 L548.358 1509.3 L548.358 1517.77 Q549.376 1517.42 550.395 1517.26 Q551.413 1517.07 552.432 1517.07 Q558.219 1517.07 561.598 1520.24 Q564.978 1523.42 564.978 1528.83 Q564.978 1534.41 561.506 1537.51 Q558.034 1540.59 551.714 1540.59 Q549.538 1540.59 547.27 1540.22 Q545.024 1539.85 542.617 1539.11 L542.617 1534.41 Q544.7 1535.54 546.923 1536.1 Q549.145 1536.66 551.622 1536.66 Q555.626 1536.66 557.964 1534.55 Q560.302 1532.44 560.302 1528.83 Q560.302 1525.22 557.964 1523.11 Q555.626 1521.01 551.622 1521.01 Q549.747 1521.01 547.872 1521.42 Q546.02 1521.84 544.075 1522.72 L544.075 1505.36 Z\" fill=\"#000000\" fill-rule=\"evenodd\" fill-opacity=\"1\" /><path clip-path=\"url(#clip340)\" d=\"M 0 0 M926.031 1505.36 L944.388 1505.36 L944.388 1509.3 L930.314 1509.3 L930.314 1517.77 Q931.332 1517.42 932.351 1517.26 Q933.369 1517.07 934.388 1517.07 Q940.175 1517.07 943.554 1520.24 Q946.934 1523.42 946.934 1528.83 Q946.934 1534.41 943.462 1537.51 Q939.99 1540.59 933.67 1540.59 Q931.494 1540.59 929.226 1540.22 Q926.98 1539.85 924.573 1539.11 L924.573 1534.41 Q926.656 1535.54 928.879 1536.1 Q931.101 1536.66 933.578 1536.66 Q937.582 1536.66 939.92 1534.55 Q942.258 1532.44 942.258 1528.83 Q942.258 1525.22 939.92 1523.11 Q937.582 1521.01 933.578 1521.01 Q931.703 1521.01 929.828 1521.42 Q927.976 1521.84 926.031 1522.72 L926.031 1505.36 Z\" fill=\"#000000\" fill-rule=\"evenodd\" fill-opacity=\"1\" /><path clip-path=\"url(#clip340)\" d=\"M 0 0 M952.003 1534.04 L956.888 1534.04 L956.888 1539.92 L952.003 1539.92 L952.003 1534.04 Z\" fill=\"#000000\" fill-rule=\"evenodd\" fill-opacity=\"1\" /><path clip-path=\"url(#clip340)\" d=\"M 0 0 M971.957 1508.44 Q968.346 1508.44 966.517 1512 Q964.712 1515.55 964.712 1522.67 Q964.712 1529.78 966.517 1533.35 Q968.346 1536.89 971.957 1536.89 Q975.591 1536.89 977.397 1533.35 Q979.226 1529.78 979.226 1522.67 Q979.226 1515.55 977.397 1512 Q975.591 1508.44 971.957 1508.44 M971.957 1504.73 Q977.767 1504.73 980.823 1509.34 Q983.901 1513.92 983.901 1522.67 Q983.901 1531.4 980.823 1536.01 Q977.767 1540.59 971.957 1540.59 Q966.147 1540.59 963.068 1536.01 Q960.013 1531.4 960.013 1522.67 Q960.013 1513.92 963.068 1509.34 Q966.147 1504.73 971.957 1504.73 Z\" fill=\"#000000\" fill-rule=\"evenodd\" fill-opacity=\"1\" /><path clip-path=\"url(#clip340)\" d=\"M 0 0 M1343.36 1505.36 L1365.58 1505.36 L1365.58 1507.35 L1353.03 1539.92 L1348.15 1539.92 L1359.95 1509.3 L1343.36 1509.3 L1343.36 1505.36 Z\" fill=\"#000000\" fill-rule=\"evenodd\" fill-opacity=\"1\" /><path clip-path=\"url(#clip340)\" d=\"M 0 0 M1370.65 1534.04 L1375.53 1534.04 L1375.53 1539.92 L1370.65 1539.92 L1370.65 1534.04 Z\" fill=\"#000000\" fill-rule=\"evenodd\" fill-opacity=\"1\" /><path clip-path=\"url(#clip340)\" d=\"M 0 0 M1380.65 1505.36 L1399.01 1505.36 L1399.01 1509.3 L1384.93 1509.3 L1384.93 1517.77 Q1385.95 1517.42 1386.97 1517.26 Q1387.99 1517.07 1389.01 1517.07 Q1394.79 1517.07 1398.17 1520.24 Q1401.55 1523.42 1401.55 1528.83 Q1401.55 1534.41 1398.08 1537.51 Q1394.61 1540.59 1388.29 1540.59 Q1386.11 1540.59 1383.84 1540.22 Q1381.6 1539.85 1379.19 1539.11 L1379.19 1534.41 Q1381.27 1535.54 1383.5 1536.1 Q1385.72 1536.66 1388.2 1536.66 Q1392.2 1536.66 1394.54 1534.55 Q1396.88 1532.44 1396.88 1528.83 Q1396.88 1525.22 1394.54 1523.11 Q1392.2 1521.01 1388.2 1521.01 Q1386.32 1521.01 1384.45 1521.42 Q1382.59 1521.84 1380.65 1522.72 L1380.65 1505.36 Z\" fill=\"#000000\" fill-rule=\"evenodd\" fill-opacity=\"1\" /><path clip-path=\"url(#clip340)\" d=\"M 0 0 M1749.06 1535.98 L1756.7 1535.98 L1756.7 1509.62 L1748.39 1511.29 L1748.39 1507.03 L1756.66 1505.36 L1761.33 1505.36 L1761.33 1535.98 L1768.97 1535.98 L1768.97 1539.92 L1749.06 1539.92 L1749.06 1535.98 Z\" fill=\"#000000\" fill-rule=\"evenodd\" fill-opacity=\"1\" /><path clip-path=\"url(#clip340)\" d=\"M 0 0 M1784.04 1508.44 Q1780.43 1508.44 1778.6 1512 Q1776.79 1515.55 1776.79 1522.67 Q1776.79 1529.78 1778.6 1533.35 Q1780.43 1536.89 1784.04 1536.89 Q1787.67 1536.89 1789.48 1533.35 Q1791.31 1529.78 1791.31 1522.67 Q1791.31 1515.55 1789.48 1512 Q1787.67 1508.44 1784.04 1508.44 M1784.04 1504.73 Q1789.85 1504.73 1792.91 1509.34 Q1795.98 1513.92 1795.98 1522.67 Q1795.98 1531.4 1792.91 1536.01 Q1789.85 1540.59 1784.04 1540.59 Q1778.23 1540.59 1775.15 1536.01 Q1772.1 1531.4 1772.1 1522.67 Q1772.1 1513.92 1775.15 1509.34 Q1778.23 1504.73 1784.04 1504.73 Z\" fill=\"#000000\" fill-rule=\"evenodd\" fill-opacity=\"1\" /><path clip-path=\"url(#clip340)\" d=\"M 0 0 M1801.05 1534.04 L1805.94 1534.04 L1805.94 1539.92 L1801.05 1539.92 L1801.05 1534.04 Z\" fill=\"#000000\" fill-rule=\"evenodd\" fill-opacity=\"1\" /><path clip-path=\"url(#clip340)\" d=\"M 0 0 M1821.01 1508.44 Q1817.4 1508.44 1815.57 1512 Q1813.76 1515.55 1813.76 1522.67 Q1813.76 1529.78 1815.57 1533.35 Q1817.4 1536.89 1821.01 1536.89 Q1824.64 1536.89 1826.45 1533.35 Q1828.28 1529.78 1828.28 1522.67 Q1828.28 1515.55 1826.45 1512 Q1824.64 1508.44 1821.01 1508.44 M1821.01 1504.73 Q1826.82 1504.73 1829.87 1509.34 Q1832.95 1513.92 1832.95 1522.67 Q1832.95 1531.4 1829.87 1536.01 Q1826.82 1540.59 1821.01 1540.59 Q1815.2 1540.59 1812.12 1536.01 Q1809.06 1531.4 1809.06 1522.67 Q1809.06 1513.92 1812.12 1509.34 Q1815.2 1504.73 1821.01 1504.73 Z\" fill=\"#000000\" fill-rule=\"evenodd\" fill-opacity=\"1\" /><path clip-path=\"url(#clip340)\" d=\"M 0 0 M2168.58 1535.98 L2176.22 1535.98 L2176.22 1509.62 L2167.91 1511.29 L2167.91 1507.03 L2176.17 1505.36 L2180.85 1505.36 L2180.85 1535.98 L2188.48 1535.98 L2188.48 1539.92 L2168.58 1539.92 L2168.58 1535.98 Z\" fill=\"#000000\" fill-rule=\"evenodd\" fill-opacity=\"1\" /><path clip-path=\"url(#clip340)\" d=\"M 0 0 M2197.58 1535.98 L2213.9 1535.98 L2213.9 1539.92 L2191.96 1539.92 L2191.96 1535.98 Q2194.62 1533.23 2199.2 1528.6 Q2203.81 1523.95 2204.99 1522.61 Q2207.23 1520.08 2208.11 1518.35 Q2209.02 1516.59 2209.02 1514.9 Q2209.02 1512.14 2207.07 1510.41 Q2205.15 1508.67 2202.05 1508.67 Q2199.85 1508.67 2197.4 1509.43 Q2194.97 1510.2 2192.19 1511.75 L2192.19 1507.03 Q2195.01 1505.89 2197.47 1505.31 Q2199.92 1504.73 2201.96 1504.73 Q2207.33 1504.73 2210.52 1507.42 Q2213.72 1510.11 2213.72 1514.6 Q2213.72 1516.73 2212.91 1518.65 Q2212.12 1520.54 2210.01 1523.14 Q2209.43 1523.81 2206.33 1527.03 Q2203.23 1530.22 2197.58 1535.98 Z\" fill=\"#000000\" fill-rule=\"evenodd\" fill-opacity=\"1\" /><path clip-path=\"url(#clip340)\" d=\"M 0 0 M2218.97 1534.04 L2223.85 1534.04 L2223.85 1539.92 L2218.97 1539.92 L2218.97 1534.04 Z\" fill=\"#000000\" fill-rule=\"evenodd\" fill-opacity=\"1\" /><path clip-path=\"url(#clip340)\" d=\"M 0 0 M2228.97 1505.36 L2247.33 1505.36 L2247.33 1509.3 L2233.25 1509.3 L2233.25 1517.77 Q2234.27 1517.42 2235.29 1517.26 Q2236.31 1517.07 2237.33 1517.07 Q2243.11 1517.07 2246.49 1520.24 Q2249.87 1523.42 2249.87 1528.83 Q2249.87 1534.41 2246.4 1537.51 Q2242.93 1540.59 2236.61 1540.59 Q2234.43 1540.59 2232.16 1540.22 Q2229.92 1539.85 2227.51 1539.11 L2227.51 1534.41 Q2229.6 1535.54 2231.82 1536.1 Q2234.04 1536.66 2236.52 1536.66 Q2240.52 1536.66 2242.86 1534.55 Q2245.2 1532.44 2245.2 1528.83 Q2245.2 1525.22 2242.86 1523.11 Q2240.52 1521.01 2236.52 1521.01 Q2234.64 1521.01 2232.77 1521.42 Q2230.91 1521.84 2228.97 1522.72 L2228.97 1505.36 Z\" fill=\"#000000\" fill-rule=\"evenodd\" fill-opacity=\"1\" /><path clip-path=\"url(#clip340)\" d=\"M 0 0 M152.626 1469.17 L174.848 1469.17 L174.848 1471.16 L162.302 1503.73 L157.417 1503.73 L169.223 1473.1 L152.626 1473.1 L152.626 1469.17 Z\" fill=\"#000000\" fill-rule=\"evenodd\" fill-opacity=\"1\" /><path clip-path=\"url(#clip340)\" d=\"M 0 0 M179.964 1469.17 L198.32 1469.17 L198.32 1473.1 L184.246 1473.1 L184.246 1481.58 Q185.264 1481.23 186.283 1481.07 Q187.301 1480.88 188.32 1480.88 Q194.107 1480.88 197.487 1484.05 Q200.866 1487.22 200.866 1492.64 Q200.866 1498.22 197.394 1501.32 Q193.922 1504.4 187.602 1504.4 Q185.427 1504.4 183.158 1504.03 Q180.913 1503.66 178.505 1502.92 L178.505 1498.22 Q180.589 1499.35 182.811 1499.91 Q185.033 1500.46 187.51 1500.46 Q191.514 1500.46 193.852 1498.36 Q196.19 1496.25 196.19 1492.64 Q196.19 1489.03 193.852 1486.92 Q191.514 1484.82 187.51 1484.82 Q185.635 1484.82 183.76 1485.23 Q181.908 1485.65 179.964 1486.53 L179.964 1469.17 Z\" fill=\"#000000\" fill-rule=\"evenodd\" fill-opacity=\"1\" /><path clip-path=\"url(#clip340)\" d=\"M 0 0 M162.001 1247.45 Q158.667 1247.45 156.746 1249.23 Q154.848 1251.01 154.848 1254.14 Q154.848 1257.26 156.746 1259.05 Q158.667 1260.83 162.001 1260.83 Q165.334 1260.83 167.255 1259.05 Q169.177 1257.24 169.177 1254.14 Q169.177 1251.01 167.255 1249.23 Q165.357 1247.45 162.001 1247.45 M157.325 1245.46 Q154.316 1244.72 152.626 1242.66 Q150.959 1240.6 150.959 1237.63 Q150.959 1233.49 153.899 1231.08 Q156.862 1228.68 162.001 1228.68 Q167.163 1228.68 170.103 1231.08 Q173.042 1233.49 173.042 1237.63 Q173.042 1240.6 171.353 1242.66 Q169.686 1244.72 166.7 1245.46 Q170.079 1246.24 171.954 1248.54 Q173.852 1250.83 173.852 1254.14 Q173.852 1259.16 170.774 1261.85 Q167.718 1264.53 162.001 1264.53 Q156.283 1264.53 153.204 1261.85 Q150.149 1259.16 150.149 1254.14 Q150.149 1250.83 152.047 1248.54 Q153.945 1246.24 157.325 1245.46 M155.612 1238.07 Q155.612 1240.76 157.279 1242.26 Q158.968 1243.77 162.001 1243.77 Q165.01 1243.77 166.7 1242.26 Q168.413 1240.76 168.413 1238.07 Q168.413 1235.39 166.7 1233.88 Q165.01 1232.38 162.001 1232.38 Q158.968 1232.38 157.279 1233.88 Q155.612 1235.39 155.612 1238.07 Z\" fill=\"#000000\" fill-rule=\"evenodd\" fill-opacity=\"1\" /><path clip-path=\"url(#clip340)\" d=\"M 0 0 M188.922 1232.38 Q185.311 1232.38 183.482 1235.94 Q181.677 1239.49 181.677 1246.62 Q181.677 1253.72 183.482 1257.29 Q185.311 1260.83 188.922 1260.83 Q192.556 1260.83 194.362 1257.29 Q196.19 1253.72 196.19 1246.62 Q196.19 1239.49 194.362 1235.94 Q192.556 1232.38 188.922 1232.38 M188.922 1228.68 Q194.732 1228.68 197.788 1233.28 Q200.866 1237.87 200.866 1246.62 Q200.866 1255.34 197.788 1259.95 Q194.732 1264.53 188.922 1264.53 Q183.112 1264.53 180.033 1259.95 Q176.977 1255.34 176.977 1246.62 Q176.977 1237.87 180.033 1233.28 Q183.112 1228.68 188.922 1228.68 Z\" fill=\"#000000\" fill-rule=\"evenodd\" fill-opacity=\"1\" /><path clip-path=\"url(#clip340)\" d=\"M 0 0 M162.996 1007.58 Q159.663 1007.58 157.741 1009.36 Q155.843 1011.15 155.843 1014.27 Q155.843 1017.4 157.741 1019.18 Q159.663 1020.96 162.996 1020.96 Q166.329 1020.96 168.251 1019.18 Q170.172 1017.37 170.172 1014.27 Q170.172 1011.15 168.251 1009.36 Q166.353 1007.58 162.996 1007.58 M158.32 1005.59 Q155.311 1004.85 153.621 1002.79 Q151.954 1000.73 151.954 997.767 Q151.954 993.623 154.894 991.216 Q157.857 988.808 162.996 988.808 Q168.158 988.808 171.098 991.216 Q174.038 993.623 174.038 997.767 Q174.038 1000.73 172.348 1002.79 Q170.681 1004.85 167.695 1005.59 Q171.075 1006.38 172.95 1008.67 Q174.848 1010.96 174.848 1014.27 Q174.848 1019.29 171.769 1021.98 Q168.714 1024.66 162.996 1024.66 Q157.279 1024.66 154.2 1021.98 Q151.144 1019.29 151.144 1014.27 Q151.144 1010.96 153.042 1008.67 Q154.941 1006.38 158.32 1005.59 M156.607 998.206 Q156.607 1000.89 158.274 1002.4 Q159.964 1003.9 162.996 1003.9 Q166.005 1003.9 167.695 1002.4 Q169.408 1000.89 169.408 998.206 Q169.408 995.521 167.695 994.017 Q166.005 992.512 162.996 992.512 Q159.964 992.512 158.274 994.017 Q156.607 995.521 156.607 998.206 Z\" fill=\"#000000\" fill-rule=\"evenodd\" fill-opacity=\"1\" /><path clip-path=\"url(#clip340)\" d=\"M 0 0 M179.964 989.433 L198.32 989.433 L198.32 993.368 L184.246 993.368 L184.246 1001.84 Q185.264 1001.49 186.283 1001.33 Q187.301 1001.15 188.32 1001.15 Q194.107 1001.15 197.487 1004.32 Q200.866 1007.49 200.866 1012.91 Q200.866 1018.48 197.394 1021.59 Q193.922 1024.66 187.602 1024.66 Q185.427 1024.66 183.158 1024.29 Q180.913 1023.92 178.505 1023.18 L178.505 1018.48 Q180.589 1019.62 182.811 1020.17 Q185.033 1020.73 187.51 1020.73 Q191.514 1020.73 193.852 1018.62 Q196.19 1016.52 196.19 1012.91 Q196.19 1009.29 193.852 1007.19 Q191.514 1005.08 187.51 1005.08 Q185.635 1005.08 183.76 1005.5 Q181.908 1005.91 179.964 1006.79 L179.964 989.433 Z\" fill=\"#000000\" fill-rule=\"evenodd\" fill-opacity=\"1\" /><path clip-path=\"url(#clip340)\" d=\"M 0 0 M152.232 783.408 L152.232 779.149 Q153.991 779.982 155.797 780.422 Q157.603 780.862 159.339 780.862 Q163.968 780.862 166.399 777.76 Q168.853 774.635 169.2 768.293 Q167.857 770.283 165.797 771.348 Q163.737 772.413 161.237 772.413 Q156.052 772.413 153.019 769.288 Q150.01 766.14 150.01 760.7 Q150.01 755.376 153.158 752.159 Q156.306 748.941 161.538 748.941 Q167.533 748.941 170.681 753.547 Q173.852 758.131 173.852 766.881 Q173.852 775.052 169.964 779.936 Q166.098 784.797 159.547 784.797 Q157.788 784.797 155.982 784.45 Q154.177 784.103 152.232 783.408 M161.538 768.756 Q164.686 768.756 166.515 766.603 Q168.366 764.45 168.366 760.7 Q168.366 756.973 166.515 754.821 Q164.686 752.645 161.538 752.645 Q158.39 752.645 156.538 754.821 Q154.709 756.973 154.709 760.7 Q154.709 764.45 156.538 766.603 Q158.39 768.756 161.538 768.756 Z\" fill=\"#000000\" fill-rule=\"evenodd\" fill-opacity=\"1\" /><path clip-path=\"url(#clip340)\" d=\"M 0 0 M188.922 752.645 Q185.311 752.645 183.482 756.209 Q181.677 759.751 181.677 766.881 Q181.677 773.987 183.482 777.552 Q185.311 781.094 188.922 781.094 Q192.556 781.094 194.362 777.552 Q196.19 773.987 196.19 766.881 Q196.19 759.751 194.362 756.209 Q192.556 752.645 188.922 752.645 M188.922 748.941 Q194.732 748.941 197.788 753.547 Q200.866 758.131 200.866 766.881 Q200.866 775.608 197.788 780.214 Q194.732 784.797 188.922 784.797 Q183.112 784.797 180.033 780.214 Q176.977 775.608 176.977 766.881 Q176.977 758.131 180.033 753.547 Q183.112 748.941 188.922 748.941 Z\" fill=\"#000000\" fill-rule=\"evenodd\" fill-opacity=\"1\" /><path clip-path=\"url(#clip340)\" d=\"M 0 0 M153.228 543.541 L153.228 539.282 Q154.987 540.115 156.792 540.555 Q158.598 540.995 160.334 540.995 Q164.964 540.995 167.394 537.893 Q169.848 534.768 170.195 528.425 Q168.853 530.416 166.792 531.481 Q164.732 532.546 162.232 532.546 Q157.047 532.546 154.015 529.421 Q151.005 526.273 151.005 520.833 Q151.005 515.509 154.154 512.291 Q157.302 509.074 162.533 509.074 Q168.528 509.074 171.677 513.68 Q174.848 518.263 174.848 527.013 Q174.848 535.185 170.959 540.069 Q167.093 544.93 160.542 544.93 Q158.783 544.93 156.978 544.583 Q155.172 544.236 153.228 543.541 M162.533 528.888 Q165.681 528.888 167.51 526.736 Q169.362 524.583 169.362 520.833 Q169.362 517.106 167.51 514.953 Q165.681 512.777 162.533 512.777 Q159.385 512.777 157.533 514.953 Q155.704 517.106 155.704 520.833 Q155.704 524.583 157.533 526.736 Q159.385 528.888 162.533 528.888 Z\" fill=\"#000000\" fill-rule=\"evenodd\" fill-opacity=\"1\" /><path clip-path=\"url(#clip340)\" d=\"M 0 0 M179.964 509.699 L198.32 509.699 L198.32 513.634 L184.246 513.634 L184.246 522.106 Q185.264 521.759 186.283 521.597 Q187.301 521.412 188.32 521.412 Q194.107 521.412 197.487 524.583 Q200.866 527.754 200.866 533.171 Q200.866 538.749 197.394 541.851 Q193.922 544.93 187.602 544.93 Q185.427 544.93 183.158 544.56 Q180.913 544.189 178.505 543.449 L178.505 538.749 Q180.589 539.884 182.811 540.439 Q185.033 540.995 187.51 540.995 Q191.514 540.995 193.852 538.888 Q196.19 536.782 196.19 533.171 Q196.19 529.56 193.852 527.453 Q191.514 525.347 187.51 525.347 Q185.635 525.347 183.76 525.763 Q181.908 526.18 179.964 527.06 L179.964 509.699 Z\" fill=\"#000000\" fill-rule=\"evenodd\" fill-opacity=\"1\" /><path clip-path=\"url(#clip340)\" d=\"M 0 0 M126.931 300.456 L134.57 300.456 L134.57 274.091 L126.26 275.757 L126.26 271.498 L134.524 269.831 L139.2 269.831 L139.2 300.456 L146.839 300.456 L146.839 304.391 L126.931 304.391 L126.931 300.456 Z\" fill=\"#000000\" fill-rule=\"evenodd\" fill-opacity=\"1\" /><path clip-path=\"url(#clip340)\" d=\"M 0 0 M161.908 272.91 Q158.297 272.91 156.468 276.475 Q154.663 280.017 154.663 287.146 Q154.663 294.253 156.468 297.817 Q158.297 301.359 161.908 301.359 Q165.542 301.359 167.348 297.817 Q169.177 294.253 169.177 287.146 Q169.177 280.017 167.348 276.475 Q165.542 272.91 161.908 272.91 M161.908 269.206 Q167.718 269.206 170.774 273.813 Q173.852 278.396 173.852 287.146 Q173.852 295.873 170.774 300.479 Q167.718 305.063 161.908 305.063 Q156.098 305.063 153.019 300.479 Q149.964 295.873 149.964 287.146 Q149.964 278.396 153.019 273.813 Q156.098 269.206 161.908 269.206 Z\" fill=\"#000000\" fill-rule=\"evenodd\" fill-opacity=\"1\" /><path clip-path=\"url(#clip340)\" d=\"M 0 0 M188.922 272.91 Q185.311 272.91 183.482 276.475 Q181.677 280.017 181.677 287.146 Q181.677 294.253 183.482 297.817 Q185.311 301.359 188.922 301.359 Q192.556 301.359 194.362 297.817 Q196.19 294.253 196.19 287.146 Q196.19 280.017 194.362 276.475 Q192.556 272.91 188.922 272.91 M188.922 269.206 Q194.732 269.206 197.788 273.813 Q200.866 278.396 200.866 287.146 Q200.866 295.873 197.788 300.479 Q194.732 305.063 188.922 305.063 Q183.112 305.063 180.033 300.479 Q176.977 295.873 176.977 287.146 Q176.977 278.396 180.033 273.813 Q183.112 269.206 188.922 269.206 Z\" fill=\"#000000\" fill-rule=\"evenodd\" fill-opacity=\"1\" /><path clip-path=\"url(#clip340)\" d=\"M 0 0 M127.927 60.5889 L135.566 60.5889 L135.566 34.2233 L127.256 35.89 L127.256 31.6308 L135.519 29.9641 L140.195 29.9641 L140.195 60.5889 L147.834 60.5889 L147.834 64.5241 L127.927 64.5241 L127.927 60.5889 Z\" fill=\"#000000\" fill-rule=\"evenodd\" fill-opacity=\"1\" /><path clip-path=\"url(#clip340)\" d=\"M 0 0 M162.903 33.0428 Q159.292 33.0428 157.464 36.6076 Q155.658 40.1492 155.658 47.2788 Q155.658 54.3853 157.464 57.9501 Q159.292 61.4917 162.903 61.4917 Q166.538 61.4917 168.343 57.9501 Q170.172 54.3853 170.172 47.2788 Q170.172 40.1492 168.343 36.6076 Q166.538 33.0428 162.903 33.0428 M162.903 29.3391 Q168.714 29.3391 171.769 33.9456 Q174.848 38.5289 174.848 47.2788 Q174.848 56.0056 171.769 60.6121 Q168.714 65.1954 162.903 65.1954 Q157.093 65.1954 154.015 60.6121 Q150.959 56.0056 150.959 47.2788 Q150.959 38.5289 154.015 33.9456 Q157.093 29.3391 162.903 29.3391 Z\" fill=\"#000000\" fill-rule=\"evenodd\" fill-opacity=\"1\" /><path clip-path=\"url(#clip340)\" d=\"M 0 0 M179.964 29.9641 L198.32 29.9641 L198.32 33.8993 L184.246 33.8993 L184.246 42.3714 Q185.264 42.0242 186.283 41.8622 Q187.301 41.677 188.32 41.677 Q194.107 41.677 197.487 44.8483 Q200.866 48.0196 200.866 53.4362 Q200.866 59.0149 197.394 62.1167 Q193.922 65.1954 187.602 65.1954 Q185.427 65.1954 183.158 64.825 Q180.913 64.4547 178.505 63.7139 L178.505 59.0149 Q180.589 60.1491 182.811 60.7047 Q185.033 61.2602 187.51 61.2602 Q191.514 61.2602 193.852 59.1538 Q196.19 57.0473 196.19 53.4362 Q196.19 49.8251 193.852 47.7186 Q191.514 45.6122 187.51 45.6122 Q185.635 45.6122 183.76 46.0288 Q181.908 46.4455 179.964 47.3251 L179.964 29.9641 Z\" fill=\"#000000\" fill-rule=\"evenodd\" fill-opacity=\"1\" /><path clip-path=\"url(#clip340)\" d=\"M 0 0 M42.2347 943.415 L52.3562 943.415 L52.3562 931.352 L56.9077 931.352 L56.9077 943.415 L76.2594 943.415 Q80.6199 943.415 81.8613 942.237 Q83.1026 941.028 83.1026 937.367 L83.1026 931.352 L88.0042 931.352 L88.0042 937.367 Q88.0042 944.147 85.4897 946.725 Q82.9434 949.303 76.2594 949.303 L56.9077 949.303 L56.9077 953.6 L52.3562 953.6 L52.3562 949.303 L42.2347 949.303 L42.2347 943.415 Z\" fill=\"#000000\" fill-rule=\"evenodd\" fill-opacity=\"1\" /><path clip-path=\"url(#clip340)\" d=\"M 0 0 M68.7161 894.717 L71.5806 894.717 L71.5806 921.644 Q77.6281 921.262 80.8109 918.016 Q83.9619 914.737 83.9619 908.913 Q83.9619 905.539 83.1344 902.388 Q82.3069 899.205 80.6518 896.086 L86.1899 896.086 Q87.5267 899.237 88.227 902.547 Q88.9272 905.857 88.9272 909.263 Q88.9272 917.793 83.9619 922.79 Q78.9967 927.755 70.5303 927.755 Q61.7774 927.755 56.6531 923.045 Q51.4968 918.302 51.4968 910.281 Q51.4968 903.088 56.1438 898.918 Q60.7589 894.717 68.7161 894.717 M66.9973 900.574 Q62.1912 900.637 59.3266 903.279 Q56.4621 905.889 56.4621 910.218 Q56.4621 915.119 59.2312 918.079 Q62.0002 921.007 67.0292 921.453 L66.9973 900.574 Z\" fill=\"#000000\" fill-rule=\"evenodd\" fill-opacity=\"1\" /><path clip-path=\"url(#clip340)\" d=\"M 0 0 M59.1993 860.82 Q55.2526 858.624 53.3747 855.568 Q51.4968 852.512 51.4968 848.375 Q51.4968 842.805 55.4117 839.781 Q59.2948 836.757 66.4881 836.757 L88.0042 836.757 L88.0042 842.646 L66.679 842.646 Q61.5546 842.646 59.072 844.46 Q56.5894 846.274 56.5894 849.998 Q56.5894 854.55 59.6131 857.191 Q62.6368 859.833 67.8567 859.833 L88.0042 859.833 L88.0042 865.721 L66.679 865.721 Q61.5228 865.721 59.072 867.536 Q56.5894 869.35 56.5894 873.137 Q56.5894 877.625 59.6449 880.267 Q62.6686 882.909 67.8567 882.909 L88.0042 882.909 L88.0042 888.797 L52.3562 888.797 L52.3562 882.909 L57.8944 882.909 Q54.616 880.904 53.0564 878.103 Q51.4968 875.302 51.4968 871.45 Q51.4968 867.567 53.4702 864.862 Q55.4436 862.125 59.1993 860.82 Z\" fill=\"#000000\" fill-rule=\"evenodd\" fill-opacity=\"1\" /><path clip-path=\"url(#clip340)\" d=\"M 0 0 M82.657 824.949 L101.563 824.949 L101.563 830.837 L52.3562 830.837 L52.3562 824.949 L57.7671 824.949 Q54.5842 823.103 53.0564 820.302 Q51.4968 817.469 51.4968 813.554 Q51.4968 807.061 56.6531 803.019 Q61.8093 798.945 70.212 798.945 Q78.6147 798.945 83.771 803.019 Q88.9272 807.061 88.9272 813.554 Q88.9272 817.469 87.3994 820.302 Q85.8398 823.103 82.657 824.949 M70.212 805.024 Q63.7508 805.024 60.0905 807.698 Q56.3984 810.34 56.3984 814.987 Q56.3984 819.634 60.0905 822.307 Q63.7508 824.949 70.212 824.949 Q76.6732 824.949 80.3653 822.307 Q84.0256 819.634 84.0256 814.987 Q84.0256 810.34 80.3653 807.698 Q76.6732 805.024 70.212 805.024 Z\" fill=\"#000000\" fill-rule=\"evenodd\" fill-opacity=\"1\" /><path clip-path=\"url(#clip340)\" d=\"M 0 0 M68.7161 762.31 L71.5806 762.31 L71.5806 789.237 Q77.6281 788.855 80.8109 785.609 Q83.9619 782.331 83.9619 776.506 Q83.9619 773.132 83.1344 769.981 Q82.3069 766.798 80.6518 763.679 L86.1899 763.679 Q87.5267 766.83 88.227 770.14 Q88.9272 773.45 88.9272 776.856 Q88.9272 785.386 83.9619 790.383 Q78.9967 795.348 70.5303 795.348 Q61.7774 795.348 56.6531 790.638 Q51.4968 785.895 51.4968 777.875 Q51.4968 770.681 56.1438 766.512 Q60.7589 762.31 68.7161 762.31 M66.9973 768.167 Q62.1912 768.231 59.3266 770.872 Q56.4621 773.482 56.4621 777.811 Q56.4621 782.713 59.2312 785.673 Q62.0002 788.601 67.0292 789.046 L66.9973 768.167 Z\" fill=\"#000000\" fill-rule=\"evenodd\" fill-opacity=\"1\" /><path clip-path=\"url(#clip340)\" d=\"M 0 0 M57.8307 735.511 Q57.2578 736.497 57.0032 737.675 Q56.7167 738.821 56.7167 740.221 Q56.7167 745.187 59.9632 747.86 Q63.1779 750.502 69.2253 750.502 L88.0042 750.502 L88.0042 756.39 L52.3562 756.39 L52.3562 750.502 L57.8944 750.502 Q54.6479 748.656 53.0883 745.696 Q51.4968 742.736 51.4968 738.503 Q51.4968 737.898 51.5923 737.166 Q51.656 736.434 51.8151 735.543 L57.8307 735.511 Z\" fill=\"#000000\" fill-rule=\"evenodd\" fill-opacity=\"1\" /><path clip-path=\"url(#clip340)\" d=\"M 0 0 M70.0847 713.167 Q70.0847 720.265 71.7079 723.002 Q73.3312 725.739 77.2461 725.739 Q80.3653 725.739 82.2114 723.702 Q84.0256 721.634 84.0256 718.101 Q84.0256 713.231 80.5881 710.303 Q77.1188 707.343 71.3897 707.343 L70.0847 707.343 L70.0847 713.167 M67.6657 701.486 L88.0042 701.486 L88.0042 707.343 L82.5933 707.343 Q85.8398 709.348 87.3994 712.34 Q88.9272 715.332 88.9272 719.66 Q88.9272 725.135 85.8716 728.381 Q82.7843 731.596 77.6281 731.596 Q71.6125 731.596 68.5569 727.585 Q65.5014 723.543 65.5014 715.554 L65.5014 707.343 L64.9285 707.343 Q60.8862 707.343 58.6901 710.016 Q56.4621 712.658 56.4621 717.464 Q56.4621 720.52 57.1941 723.416 Q57.9262 726.312 59.3903 728.986 L53.9795 728.986 Q52.7381 725.771 52.1334 722.748 Q51.4968 719.724 51.4968 716.859 Q51.4968 709.125 55.5072 705.306 Q59.5176 701.486 67.6657 701.486 Z\" fill=\"#000000\" fill-rule=\"evenodd\" fill-opacity=\"1\" /><path clip-path=\"url(#clip340)\" d=\"M 0 0 M42.2347 689.55 L52.3562 689.55 L52.3562 677.487 L56.9077 677.487 L56.9077 689.55 L76.2594 689.55 Q80.6199 689.55 81.8613 688.373 Q83.1026 687.163 83.1026 683.503 L83.1026 677.487 L88.0042 677.487 L88.0042 683.503 Q88.0042 690.282 85.4897 692.861 Q82.9434 695.439 76.2594 695.439 L56.9077 695.439 L56.9077 699.736 L52.3562 699.736 L52.3562 695.439 L42.2347 695.439 L42.2347 689.55 Z\" fill=\"#000000\" fill-rule=\"evenodd\" fill-opacity=\"1\" /><path clip-path=\"url(#clip340)\" d=\"M 0 0 M73.9359 671.949 L52.3562 671.949 L52.3562 666.093 L73.7131 666.093 Q78.7739 666.093 81.3202 664.119 Q83.8346 662.146 83.8346 658.199 Q83.8346 653.457 80.8109 650.72 Q77.7872 647.95 72.5673 647.95 L52.3562 647.95 L52.3562 642.094 L88.0042 642.094 L88.0042 647.95 L82.5296 647.95 Q85.7762 650.083 87.3676 652.916 Q88.9272 655.717 88.9272 659.441 Q88.9272 665.584 85.1078 668.766 Q81.2883 671.949 73.9359 671.949 M51.4968 657.213 L51.4968 657.213 Z\" fill=\"#000000\" fill-rule=\"evenodd\" fill-opacity=\"1\" /><path clip-path=\"url(#clip340)\" d=\"M 0 0 M57.8307 615.294 Q57.2578 616.281 57.0032 617.459 Q56.7167 618.605 56.7167 620.005 Q56.7167 624.97 59.9632 627.644 Q63.1779 630.286 69.2253 630.286 L88.0042 630.286 L88.0042 636.174 L52.3562 636.174 L52.3562 630.286 L57.8944 630.286 Q54.6479 628.44 53.0883 625.48 Q51.4968 622.52 51.4968 618.286 Q51.4968 617.682 51.5923 616.95 Q51.656 616.217 51.8151 615.326 L57.8307 615.294 Z\" fill=\"#000000\" fill-rule=\"evenodd\" fill-opacity=\"1\" /><path clip-path=\"url(#clip340)\" d=\"M 0 0 M68.7161 580.092 L71.5806 580.092 L71.5806 607.019 Q77.6281 606.637 80.8109 603.391 Q83.9619 600.112 83.9619 594.288 Q83.9619 590.914 83.1344 587.763 Q82.3069 584.58 80.6518 581.461 L86.1899 581.461 Q87.5267 584.612 88.227 587.922 Q88.9272 591.232 88.9272 594.638 Q88.9272 603.168 83.9619 608.165 Q78.9967 613.13 70.5303 613.13 Q61.7774 613.13 56.6531 608.419 Q51.4968 603.677 51.4968 595.656 Q51.4968 588.463 56.1438 584.293 Q60.7589 580.092 68.7161 580.092 M66.9973 585.949 Q62.1912 586.012 59.3266 588.654 Q56.4621 591.264 56.4621 595.593 Q56.4621 600.494 59.2312 603.454 Q62.0002 606.382 67.0292 606.828 L66.9973 585.949 Z\" fill=\"#000000\" fill-rule=\"evenodd\" fill-opacity=\"1\" /><polyline clip-path=\"url(#clip342)\" style=\"stroke:#009af9; stroke-width:4; stroke-opacity:1; fill:none\" points=\"\n",
       "  285.09,287.111 452.376,1390.5 619.663,335.085 786.95,1438.47 954.237,143.191 1121.52,1438.47 1288.81,95.2176 1456.1,1438.47 1623.38,191.164 1790.67,1438.47 \n",
       "  1957.96,239.138 2125.25,1438.47 2292.53,335.085 \n",
       "  \"/>\n",
       "<path clip-path=\"url(#clip340)\" d=\"\n",
       "M1994.38 216.178 L2281.83 216.178 L2281.83 95.2176 L1994.38 95.2176  Z\n",
       "  \" fill=\"#ffffff\" fill-rule=\"evenodd\" fill-opacity=\"1\"/>\n",
       "<polyline clip-path=\"url(#clip340)\" style=\"stroke:#000000; stroke-width:4; stroke-opacity:1; fill:none\" points=\"\n",
       "  1994.38,216.178 2281.83,216.178 2281.83,95.2176 1994.38,95.2176 1994.38,216.178 \n",
       "  \"/>\n",
       "<polyline clip-path=\"url(#clip340)\" style=\"stroke:#009af9; stroke-width:4; stroke-opacity:1; fill:none\" points=\"\n",
       "  2018.02,155.698 2159.88,155.698 \n",
       "  \"/>\n",
       "<path clip-path=\"url(#clip340)\" d=\"M 0 0 M2197.36 175.385 Q2195.56 180.015 2193.85 181.427 Q2192.13 182.839 2189.26 182.839 L2185.86 182.839 L2185.86 179.274 L2188.36 179.274 Q2190.12 179.274 2191.09 178.44 Q2192.06 177.607 2193.24 174.505 L2194.01 172.561 L2183.52 147.052 L2188.04 147.052 L2196.14 167.329 L2204.24 147.052 L2208.75 147.052 L2197.36 175.385 Z\" fill=\"#000000\" fill-rule=\"evenodd\" fill-opacity=\"1\" /><path clip-path=\"url(#clip340)\" d=\"M 0 0 M2214.63 169.042 L2222.27 169.042 L2222.27 142.677 L2213.96 144.343 L2213.96 140.084 L2222.23 138.418 L2226.9 138.418 L2226.9 169.042 L2234.54 169.042 L2234.54 172.978 L2214.63 172.978 L2214.63 169.042 Z\" fill=\"#000000\" fill-rule=\"evenodd\" fill-opacity=\"1\" /></svg>\n"
      ]
     },
     "execution_count": 56,
     "metadata": {},
     "output_type": "execute_result"
    }
   ],
   "source": [
    "# plot temperature data\n",
    "plot(parse.(Int, data[\"data\"][\"temperature\"]), yaxis=(\"temperature\", (75,105)))"
   ]
  },
  {
   "cell_type": "markdown",
   "metadata": {},
   "source": [
    "## Homework\n",
    "\n",
    "There's actually no homework! Today's lecture was just mostly for fun, and next lecture is challenge day. If you're itching for something to do, then go have some fun solving Euler problems.  Otherwise, sit back, relax, ask questions, and get ready for next week!"
   ]
  }
 ],
 "metadata": {
  "kernelspec": {
   "display_name": "Julia 1.4.2",
   "language": "julia",
   "name": "julia-1.4"
  },
  "language_info": {
   "file_extension": ".jl",
   "mimetype": "application/julia",
   "name": "julia",
   "version": "1.4.2"
  }
 },
 "nbformat": 4,
 "nbformat_minor": 4
}
