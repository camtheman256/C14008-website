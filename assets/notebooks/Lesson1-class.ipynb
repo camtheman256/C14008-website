{
 "cells": [
  {
   "cell_type": "markdown",
   "metadata": {
    "slideshow": {
     "slide_type": "slide"
    }
   },
   "source": [
    "# C14008: Introduction to Being a Code Ninja in Julia"
   ]
  },
  {
   "cell_type": "markdown",
   "metadata": {},
   "source": [
    "Christian decided he didn't want to teach the class today (or ever), so I have included this picture of him for your reference:\n",
    "\n",
    "![](https://pbs.twimg.com/profile_images/878778006663311360/t_ykFCWT.jpg)"
   ]
  },
  {
   "cell_type": "markdown",
   "metadata": {},
   "source": [
    "## Lesson 1: The Basics\n",
    "\n",
    "## Motivation: Why study Julia?\n",
    "There's a couple reasons we have identified to motivate studying Julia.\n",
    "\n",
    "1. Julia is **_fast_**. It offers a notable speed improvement from interpreted languages like Python.\n",
    "2. Julia is **intuitive**. It's familiar to languages you might have dealt with before and its syntax is easy to pick up and learn.\n",
    "3. Julia is **predictable**. You can define types (that are actually enforced, cough cough... _Python_), and the language operates off of a set of base functions that can be modified or extended through multiple dispatch.\n",
    "4. Julia is the **future**. It's flexible and fun to write. There's a growing programmer community around the language. It can be integrated into other languages and other languages can be integrated into Julia. Expect to see at as part of more projects in the future."
   ]
  },
  {
   "cell_type": "markdown",
   "metadata": {
    "slideshow": {
     "slide_type": "slide"
    }
   },
   "source": [
    "## Speaking of Julia being fast...\n",
    "\n",
    "Let's try and solve a really big problem with Julia, such as this one from [Project Euler Problem 99](https://projecteuler.net/problem=99)!\n",
    "\n",
    "Here's the problem restated.\n",
    "\n",
    "\n",
    "> Comparing two numbers written in index form like $2^{11}$ and $3^{7}$ is not difficult, as any calculator would confirm that $2^{11} = 2048 < 3^7 = 2187$.\n",
    ">\n",
    "> However, confirming that $$632382^{518061} > 519432^{525806}$$ would be much more difficult, as both numbers contain over three million digits.\n",
    ">\n",
    "> Using [base_exp.txt](https://projecteuler.net/project/resources/p099_base_exp.txt) (right click and 'Save Link/Target As...'), a 22K text file containing one thousand lines with a base/exponent pair on each line, determine which line number has the greatest numerical value.\n",
    ">\n",
    "> NOTE: The first two lines in the file represent the numbers in the example given above."
   ]
  },
  {
   "cell_type": "code",
   "execution_count": 7,
   "metadata": {
    "collapsed": false,
    "jupyter": {
     "outputs_hidden": false
    },
    "slideshow": {
     "slide_type": "fragment"
    }
   },
   "outputs": [
    {
     "name": "stdout",
     "output_type": "stream",
     "text": [
      "1\n",
      "2\n",
      "3\n",
      "5\n",
      "6\n",
      "8\n",
      "21\n",
      "92\n",
      "110\n",
      "172\n",
      "709\n"
     ]
    }
   ],
   "source": [
    "# I'll write my solution here\n",
    "text_lines = readlines(\"p099_base_exp.txt\")\n",
    "split_lines = split.(text_lines, \",\")\n",
    "numbers_lines = map(line -> parse.(BigInt, line), split_lines)\n",
    "\n",
    "largest = BigInt(0)\n",
    "\n",
    "for count in 1:1000\n",
    "    if (new_num = log(numbers_lines[count][1])*numbers_lines[count][2]) > largest\n",
    "        largest = new_num\n",
    "        println(count)\n",
    "    end\n",
    "end"
   ]
  },
  {
   "cell_type": "markdown",
   "metadata": {
    "slideshow": {
     "slide_type": "slide"
    }
   },
   "source": [
    "## So let's get started!\n",
    "\n",
    "### Hello World\n",
    "Of course, we have to start with a Hello World example. Julia actually has two types of print statements, `print()` and `println()`. `println()` adds a newline character after the arguments. They can take multiple arguments too, like `println(\"Hello\", \" \", \"World\")`. Here's an example:"
   ]
  },
  {
   "cell_type": "code",
   "execution_count": 8,
   "metadata": {
    "slideshow": {
     "slide_type": "fragment"
    }
   },
   "outputs": [
    {
     "name": "stdout",
     "output_type": "stream",
     "text": [
      "Hello Julia!\n"
     ]
    }
   ],
   "source": [
    "println(\"Hello Julia!\")"
   ]
  },
  {
   "cell_type": "markdown",
   "metadata": {
    "slideshow": {
     "slide_type": "subslide"
    }
   },
   "source": [
    "#### Strings and comments in Julia\n",
    "Unlike Python, strings in Julia have double quotes `\"like this\"`, while there is a special character type for characters if you use single quotes like this: `'a'` `'b'` and `'c'`.\n",
    "For multiline strings, you can use triple quotes, demonstrated below.\n",
    "\n",
    "Comments are the same as Python, with the hash character `#` for a single line comment. Unlike Python, Julia can do multiline comments. `#=` starts a multiline comment and `=#` ends a multiline comment.\n",
    "\n",
    "Also like Python, we can use the builtin function `typeof()` to tell us which type the variables are."
   ]
  },
  {
   "cell_type": "code",
   "execution_count": null,
   "metadata": {
    "collapsed": false,
    "jupyter": {
     "outputs_hidden": false
    },
    "slideshow": {
     "slide_type": "fragment"
    }
   },
   "outputs": [],
   "source": [
    "# Some strings\n",
    "println(\"Hello World!\")\n",
    "println(typeof(\"Hello World!\"))\n",
    "\n",
    "println()\n",
    "\n",
    "# Some characters\n",
    "println('a', 'b', 'c')\n",
    "println(typeof('a'))\n",
    "\n",
    "println()\n",
    "\n",
    "# A multiline string\n",
    "println(\"\"\"\n",
    "Hi I'm a multiline String.\n",
    "I have multiple lines!\n",
    "\"\"\")\n",
    "\n",
    "# Some comments\n",
    "#=\n",
    "Hi I'm a multiline comment\n",
    "=#\n"
   ]
  },
  {
   "cell_type": "markdown",
   "metadata": {
    "slideshow": {
     "slide_type": "subslide"
    }
   },
   "source": [
    "## Variables in Julia\n",
    "Variables in Julia look like variables in any other language you might be used to. Let's set the variable `🤠` equal to `\"yeehaw!\"`. That's right! Julia has native Unicode support, so you can make your variables emojis. We'll see later that Unicode operators like `≤` and `≈` are actual operations in Julia."
   ]
  },
  {
   "cell_type": "code",
   "execution_count": 9,
   "metadata": {
    "collapsed": false,
    "jupyter": {
     "outputs_hidden": false
    },
    "slideshow": {
     "slide_type": "fragment"
    }
   },
   "outputs": [
    {
     "name": "stdout",
     "output_type": "stream",
     "text": [
      "yeehaw!\n"
     ]
    }
   ],
   "source": [
    "# Unicode variables\n",
    "🤠 = \"yeehaw!\"\n",
    "\n",
    "println(🤠)"
   ]
  },
  {
   "cell_type": "markdown",
   "metadata": {
    "slideshow": {
     "slide_type": "fragment"
    }
   },
   "source": [
    "We can actually reference Julia code inside of our variables if we want to through a process called _string interpolation_. We use the dollar sign to do this. If we want to reference a variable, we can put `$variable_name` inside of a string. \n",
    "\n",
    "If we want to type an expression, we can instead write `$(5 + 5)` in the string."
   ]
  },
  {
   "cell_type": "code",
   "execution_count": 10,
   "metadata": {
    "collapsed": false,
    "jupyter": {
     "outputs_hidden": false
    },
    "slideshow": {
     "slide_type": "fragment"
    }
   },
   "outputs": [
    {
     "name": "stdout",
     "output_type": "stream",
     "text": [
      "The cowboy goes yeehaw!\n",
      "5 + 5 is equal to 10\n"
     ]
    }
   ],
   "source": [
    "# String replacement\n",
    "println(\"The cowboy goes $🤠\")\n",
    "println(\"5 + 5 is equal to $(5 + 5)\")"
   ]
  },
  {
   "cell_type": "markdown",
   "metadata": {},
   "source": [
    "## Operators in Julia\n",
    "Julia supports all the operators you would expect."
   ]
  },
  {
   "cell_type": "code",
   "execution_count": 13,
   "metadata": {
    "collapsed": false,
    "jupyter": {
     "outputs_hidden": false
    }
   },
   "outputs": [
    {
     "data": {
      "text/plain": [
       "1//1"
      ]
     },
     "execution_count": 13,
     "metadata": {},
     "output_type": "execute_result"
    }
   ],
   "source": [
    "x = 5\n",
    "y = 5\n",
    "\n",
    "# operators in Julia, add, sub, mult, div, pow, mod\n",
    "addition = x + y\n",
    "subtraction = x - y\n",
    "multiplication = x * y\n",
    "division = x/y\n",
    "@assert typeof(division) == Float64 # division will be a float (decimal), despite x and y being integers\n",
    "\n",
    "power = x ^ y\n",
    "modulous = x % y\n",
    "\n",
    "# rationals\n",
    "rational = x//y"
   ]
  },
  {
   "cell_type": "markdown",
   "metadata": {},
   "source": [
    "Some operators don't strictly apply to numbers. For example, we can use the `*` and `^` operators on strings to preform various functions."
   ]
  },
  {
   "cell_type": "code",
   "execution_count": 14,
   "metadata": {
    "collapsed": false,
    "jupyter": {
     "outputs_hidden": false
    }
   },
   "outputs": [
    {
     "name": "stdout",
     "output_type": "stream",
     "text": [
      "Road work ahead? Uh yeah, I sure hope it does.\n",
      "Uh yeah, I sure hope it does.Uh yeah, I sure hope it does.Uh yeah, I sure hope it does.Uh yeah, I sure hope it does.Uh yeah, I sure hope it does.\n"
     ]
    }
   ],
   "source": [
    "s1 = \"Road work ahead? \"\n",
    "s2 = \"Uh yeah, I sure hope it does.\"\n",
    "\n",
    "# * can be used to concatenate these two strings\n",
    "println(s1 * s2)\n",
    "\n",
    "# the ^ also has a function, I'll leave it up to y'all to figure out when this would ever come in handy.\n",
    "println(s2 ^ 5)"
   ]
  },
  {
   "cell_type": "markdown",
   "metadata": {},
   "source": [
    "The equality operator can be used in some special ways, such as assigning two values to the same variable. You can also assign two variables at the same time, with this tuple syntax."
   ]
  },
  {
   "cell_type": "code",
   "execution_count": 15,
   "metadata": {},
   "outputs": [
    {
     "name": "stdout",
     "output_type": "stream",
     "text": [
      "a is 10, b is 10, c is 15, and d is 20"
     ]
    }
   ],
   "source": [
    "# double assignment and tuple assignment\n",
    "a = b = 10\n",
    "c, d = 15, 20\n",
    "\n",
    "print(\"a is $(a), b is $(b), c is $(c), and d is $(d)\")"
   ]
  },
  {
   "cell_type": "markdown",
   "metadata": {},
   "source": [
    "## Datatypes in Julia\n",
    "### Basic data types\n",
    "Julia has most of the data types you have run across in different languages, plus some. The types are capitalized and sometimes have a number after them to represent the number of bits stored (`Int64` is a 64 bit integer), however when referencing a type you will be able to get away without the number (just `Int`). When defining a variable, Julia does a very good job of determining what type of variable you want and automatically assigns a type to it for you. This is great, but it does mean you need to be careful about type errors arising in your code."
   ]
  },
  {
   "cell_type": "code",
   "execution_count": 16,
   "metadata": {
    "collapsed": false,
    "jupyter": {
     "outputs_hidden": false
    }
   },
   "outputs": [
    {
     "name": "stdout",
     "output_type": "stream",
     "text": [
      "Int64\n"
     ]
    }
   ],
   "source": [
    "integer = 15 # My (Christian's) baseball number\n",
    "# Will return \"Int64\"\n",
    "println(typeof(integer))"
   ]
  },
  {
   "cell_type": "code",
   "execution_count": 17,
   "metadata": {
    "collapsed": false,
    "jupyter": {
     "outputs_hidden": false
    }
   },
   "outputs": [
    {
     "name": "stdout",
     "output_type": "stream",
     "text": [
      "Float64\n"
     ]
    }
   ],
   "source": [
    "float = 15.0 # A float is any number with a decimal in it.\n",
    "# Returns \"Float64\"\n",
    "println(typeof(float))"
   ]
  },
  {
   "cell_type": "code",
   "execution_count": 18,
   "metadata": {
    "collapsed": false,
    "jupyter": {
     "outputs_hidden": false
    }
   },
   "outputs": [
    {
     "name": "stdout",
     "output_type": "stream",
     "text": [
      "Bool\n"
     ]
    }
   ],
   "source": [
    "boolean = true # Notice that \"true\" is NOT capitalized\n",
    "println(typeof(boolean))"
   ]
  },
  {
   "cell_type": "code",
   "execution_count": 19,
   "metadata": {
    "collapsed": false,
    "jupyter": {
     "outputs_hidden": false
    }
   },
   "outputs": [
    {
     "name": "stdout",
     "output_type": "stream",
     "text": [
      "Char\n"
     ]
    }
   ],
   "source": [
    "char = 'e' # Notice the use of single quotes\n",
    "println(typeof(char))"
   ]
  },
  {
   "cell_type": "code",
   "execution_count": 22,
   "metadata": {
    "collapsed": false,
    "jupyter": {
     "outputs_hidden": false
    }
   },
   "outputs": [
    {
     "name": "stdout",
     "output_type": "stream",
     "text": [
      "Complex{Float64}\n"
     ]
    }
   ],
   "source": [
    "complex_num = 15.2im # im is tied to the imaginary number i\n",
    "println(typeof(complex_num)) # no more coding an extra if statement into your quadratic formula function to account for imaginary numbers!"
   ]
  },
  {
   "cell_type": "code",
   "execution_count": 23,
   "metadata": {
    "collapsed": false,
    "jupyter": {
     "outputs_hidden": false
    }
   },
   "outputs": [
    {
     "name": "stdout",
     "output_type": "stream",
     "text": [
      "Int64\n",
      "0\n"
     ]
    }
   ],
   "source": [
    "big = 68^476\n",
    "println(typeof(big))\n",
    "println(big)"
   ]
  },
  {
   "cell_type": "markdown",
   "metadata": {},
   "source": [
    "Woah, that last one didn't work. It took our big variable and stored it as zero since the number was too large. Sometimes this will happen. Thankfully there are other datatypes to help deal with these fringe cases, like `BigInt` (a datatype that can store infinitely many digits). Julia will not automatically convert to this datatype, however, so you must do it yourself (#DIY) using the `convert` function. To convert from one type to another try `convert(type, var)`. So in our case:"
   ]
  },
  {
   "cell_type": "code",
   "execution_count": 24,
   "metadata": {
    "collapsed": false,
    "jupyter": {
     "outputs_hidden": false
    }
   },
   "outputs": [
    {
     "name": "stdout",
     "output_type": "stream",
     "text": [
      "BigInt\n",
      "188036625248407132637222801527003252485547364886698418367698846937835206600048396133299947551429864654002237724234967482696308604511429691655876558993741342143051304130422777813294692657318463042134646529962059220020009694425077713314814178259050251695531027516644578937869017528744234757342763465310155761945112066829963430090848777880784103593277502962793601342170439209960927208043893939010943524320341855852009795542244722468977890043809231124117195123169604331192956692165663968388567440792005137409124389239516272281213885273004453027181981676839128911763134961725641689477739193590005661738148476078712938480089697257500003106303686326823806534698672765539510988709457076536430484916728549530769378563887241799571291100547019182880210358932010817376273744455474297391612051295309669057613355574534556405577450519770558960226809111091366897057669707386814283829477376\n"
     ]
    }
   ],
   "source": [
    "big = convert(BigInt, 68)^convert(BigInt,476)\n",
    "println(typeof(big))\n",
    "println(big)"
   ]
  },
  {
   "cell_type": "markdown",
   "metadata": {},
   "source": [
    "### Bigboy Datatypes"
   ]
  },
  {
   "cell_type": "markdown",
   "metadata": {},
   "source": [
    "Obviously you have your `int`s and your `char`s, but Julia also provides larger datatypes. Today we will cover dictionary, tuples, and arrays."
   ]
  },
  {
   "cell_type": "markdown",
   "metadata": {},
   "source": [
    "### Dictionarys\n",
    "Like Python and Java (and also probably every other language), dictionaries are essentially an unordered list that maps unique keys to values. To create a dictionary in Julia, use the function `Dict`."
   ]
  },
  {
   "cell_type": "code",
   "execution_count": 25,
   "metadata": {
    "collapsed": false,
    "jupyter": {
     "outputs_hidden": false
    }
   },
   "outputs": [
    {
     "data": {
      "text/plain": [
       "Dict{String,String} with 3 entries:\n",
       "  \"Sweet Baby Brother\" => \"Griffin McElroy\"\n",
       "  \"Oldest Brother\"     => \"Justin McElroy\"\n",
       "  \"Middlest Brother\"   => \"Travis McElroy\""
      ]
     },
     "execution_count": 25,
     "metadata": {},
     "output_type": "execute_result"
    }
   ],
   "source": [
    "mbmbam = Dict(\"Oldest Brother\" => \"Justin McElroy\", \"Middlest Brother\" => \"Travis McElroy\", \"Sweet Baby Brother\" => \"Griffin McElroy\")"
   ]
  },
  {
   "cell_type": "markdown",
   "metadata": {},
   "source": [
    "Notice the use of `=>` instead of a `:` to assign a value to a key. The syntax to access a value, change a value, and add a key-value pair is the same as it is in Python or Java."
   ]
  },
  {
   "cell_type": "code",
   "execution_count": 26,
   "metadata": {
    "collapsed": false,
    "jupyter": {
     "outputs_hidden": false
    }
   },
   "outputs": [
    {
     "name": "stdout",
     "output_type": "stream",
     "text": [
      "Travis McElroy\n",
      "Dict(\"30 Under 30 Media Luminary\" => \"Griffin McElroy\",\"Sweet Baby Brother\" => \"Griffin McElroy\",\"Oldest Brother\" => \"Justin 'Juice' McElroy\",\"Middlest Brother\" => \"Travis McElroy\")\n"
     ]
    }
   ],
   "source": [
    "# Acessing a value\n",
    "println(mbmbam[\"Middlest Brother\"])\n",
    "\n",
    "# Changing a value\n",
    "mbmbam[\"Oldest Brother\"] = \"Justin 'Juice' McElroy\"\n",
    "\n",
    "# Adding a key-value pair\n",
    "mbmbam[\"30 Under 30 Media Luminary\"] = \"Griffin McElroy\"\n",
    "\n",
    "println(mbmbam)"
   ]
  },
  {
   "cell_type": "markdown",
   "metadata": {
    "jupyter": {
     "outputs_hidden": false
    }
   },
   "source": [
    "We can assign two unique keys to the same value (ie. Griffin McElroy is both our sweet baby brother AND our 30 under 30 media luminary), but every key must be unique. This is the same behavior in Python and many other languages."
   ]
  },
  {
   "cell_type": "markdown",
   "metadata": {},
   "source": [
    "### Tuples\n",
    "Tuples are basically an ordered collection of elements. Their most common application in my experience is as coordinates or an index for a higher dimensional array (we will get to this later). To create one, simply enclose data in parentheses."
   ]
  },
  {
   "cell_type": "code",
   "execution_count": 27,
   "metadata": {
    "collapsed": false,
    "jupyter": {
     "outputs_hidden": false
    }
   },
   "outputs": [
    {
     "data": {
      "text/plain": [
       "(\"One Fish\", \"Two Fish\", \"Red Fish\", \"Blue Fish\")"
      ]
     },
     "execution_count": 27,
     "metadata": {},
     "output_type": "execute_result"
    }
   ],
   "source": [
    "fish = (\"One Fish\", \"Two Fish\", \"Red Fish\", \"Blue Fish\")"
   ]
  },
  {
   "cell_type": "markdown",
   "metadata": {},
   "source": [
    "To access an element in the tuple, we would (again) do it simililarly to Python or Java (using brackets) except one major difference. ***Julia is a one indexed language***. This means that in order to access the first element in the tuple we would need to write `fish[1]` *NOT* `fish[0]`. It seems like it would be incredibly annoying to adjust to this, but in my experience it isn't that bad."
   ]
  },
  {
   "cell_type": "code",
   "execution_count": 28,
   "metadata": {
    "collapsed": false,
    "jupyter": {
     "outputs_hidden": false
    }
   },
   "outputs": [
    {
     "name": "stdout",
     "output_type": "stream",
     "text": [
      "Red Fish\n"
     ]
    },
    {
     "ename": "BoundsError",
     "evalue": "BoundsError: attempt to access (\"One Fish\", \"Two Fish\", \"Red Fish\", \"Blue Fish\")\n  at index [0]",
     "output_type": "error",
     "traceback": [
      "BoundsError: attempt to access (\"One Fish\", \"Two Fish\", \"Red Fish\", \"Blue Fish\")\n  at index [0]",
      "",
      "Stacktrace:",
      " [1] getindex(::Tuple, ::Int64) at ./tuple.jl:24",
      " [2] top-level scope at In[28]:3"
     ]
    }
   ],
   "source": [
    "# Prints \"Red Fish\"\n",
    "println(fish[3])\n",
    "\n",
    "# Throws bounds error\n",
    "println(fish[0])"
   ]
  },
  {
   "cell_type": "markdown",
   "metadata": {},
   "source": [
    "Missing dictionaries? Well miss no more because we can do a very similar thing using _named tuples_. With named tuples you can assign a variable to each item in the tuple via a `=`. To access an element of this named tuple, we use a `.` followed by the variable name."
   ]
  },
  {
   "cell_type": "code",
   "execution_count": 29,
   "metadata": {
    "collapsed": false,
    "jupyter": {
     "outputs_hidden": false
    }
   },
   "outputs": [
    {
     "name": "stdout",
     "output_type": "stream",
     "text": [
      "Browne\n",
      "Ava\n"
     ]
    }
   ],
   "source": [
    "fishNames = (oneFish = \"Ava\", twoFish = \"Browne\", redFish = \"Carmen\", blueFish = \"Daniel\")\n",
    "println(fishNames.twoFish)\n",
    "\n",
    "# Accessing by index still works, though\n",
    "println(fishNames[1])"
   ]
  },
  {
   "cell_type": "markdown",
   "metadata": {},
   "source": [
    "### Arrays\n",
    "Although they may be considered one of the simpler datatypes in other languages, Julia is built to handle complex arrays, and what we cover today will only being to scratch the surface. In linear algebra, there are things called matrices, which are like 2-D arrays for math. A 1-D matrix (only one column) is called a vector, and are the type of arrays you are probably most comfortable with. There will be a more in depth crash course on linear algebra on a future date, so don't worry if you don't know much about matrices yet.\n",
    "We will start with vectors (1D arrays). There are several ways to make arrays, we will start with the simplest."
   ]
  },
  {
   "cell_type": "code",
   "execution_count": 30,
   "metadata": {
    "collapsed": false,
    "jupyter": {
     "outputs_hidden": false
    }
   },
   "outputs": [
    {
     "data": {
      "text/plain": [
       "3-element Array{String,1}:\n",
       " \"Spongebob\"\n",
       " \"Squidward\"\n",
       " \"Mr. Krabs\""
      ]
     },
     "execution_count": 30,
     "metadata": {},
     "output_type": "execute_result"
    }
   ],
   "source": [
    "staff = [\"Spongebob\", \"Squidward\", \"Mr. Krabs\"]"
   ]
  },
  {
   "cell_type": "markdown",
   "metadata": {},
   "source": [
    "Notice how the type is Array{String, 1}. This tells us this is a 1 dimensional array of Strings. If we were to add an element that is not a string, say the number 15, we would see the type is Array{Any, 1} (you can try it on your own if you don't trust me).\n",
    "Let's access the first element, we can do so just as we do with a tuple."
   ]
  },
  {
   "cell_type": "code",
   "execution_count": 32,
   "metadata": {
    "collapsed": false,
    "jupyter": {
     "outputs_hidden": false
    }
   },
   "outputs": [
    {
     "data": {
      "text/plain": [
       "\"Mr. Krabs\""
      ]
     },
     "execution_count": 32,
     "metadata": {},
     "output_type": "execute_result"
    }
   ],
   "source": [
    "staff[3]"
   ]
  },
  {
   "cell_type": "markdown",
   "metadata": {},
   "source": [
    "The main two functions used with arrays are `pop!` and `push!`. The `!` denotes that calling the function will change the array it is called on. `pop!` returns the last element in the array while removing it from the array. `push!` adds an element to the end of the array. "
   ]
  },
  {
   "cell_type": "code",
   "execution_count": 33,
   "metadata": {
    "collapsed": false,
    "jupyter": {
     "outputs_hidden": false
    }
   },
   "outputs": [
    {
     "name": "stdout",
     "output_type": "stream",
     "text": [
      "[\"Spongebob\", \"Squidward\"]\n",
      "[\"Spongebob\", \"Squidward\", \"Mr. Krabs\"]\n"
     ]
    }
   ],
   "source": [
    "staff = [\"Spongebob\", \"Squidward\", \"Mr. Krabs\"] # reset the array\n",
    "# pop! the array\n",
    "pop!(staff)\n",
    "println(staff) # see how the array has changed\n",
    "\n",
    "push!(staff, \"Mr. Krabs\") #push!(array name, element to add)\n",
    "println(staff) # added Mr. Krabs back to the end of the array."
   ]
  },
  {
   "cell_type": "markdown",
   "metadata": {},
   "source": [
    "Now, let's talk about the other ways to initialize arrays, ones that support higher dimensions. We can initialize an undefined array by using `Array{T,N}(undef,x,y,...,z)` where `T` denotes the type of the array, `N` denotes the dimensions, and `x,y,...,z` represent the size. So for example, if we want a 2 dimensional array of strings with a size 3x4, we do:"
   ]
  },
  {
   "cell_type": "code",
   "execution_count": 34,
   "metadata": {
    "collapsed": false,
    "jupyter": {
     "outputs_hidden": false
    }
   },
   "outputs": [
    {
     "data": {
      "text/plain": [
       "3×4 Array{String,2}:\n",
       " #undef  #undef  #undef  #undef\n",
       " #undef  #undef  #undef  #undef\n",
       " #undef  #undef  #undef  #undef"
      ]
     },
     "execution_count": 34,
     "metadata": {},
     "output_type": "execute_result"
    }
   ],
   "source": [
    "nums = Array{String,2}(undef, 3,4)"
   ]
  },
  {
   "cell_type": "markdown",
   "metadata": {},
   "source": [
    "There are other tricks too. We will see two of them here and will get to another (my favorite one) in the `for` loop section."
   ]
  },
  {
   "cell_type": "code",
   "execution_count": 35,
   "metadata": {
    "collapsed": false,
    "jupyter": {
     "outputs_hidden": false
    }
   },
   "outputs": [
    {
     "data": {
      "text/plain": [
       "3×4 Array{Float64,2}:\n",
       " 0.970278   0.365292  0.57689    0.865391\n",
       " 0.0301001  0.345353  0.0958836  0.540887\n",
       " 0.0994154  0.976874  0.451911   0.9133"
      ]
     },
     "execution_count": 35,
     "metadata": {},
     "output_type": "execute_result"
    }
   ],
   "source": [
    "# 3x4 matrix filled with random values between 0 and 1\n",
    "rand(3,4)"
   ]
  },
  {
   "cell_type": "code",
   "execution_count": 36,
   "metadata": {
    "collapsed": false,
    "jupyter": {
     "outputs_hidden": false
    }
   },
   "outputs": [
    {
     "data": {
      "text/plain": [
       "3×4 Array{Float64,2}:\n",
       " 0.0  0.0  0.0  0.0\n",
       " 0.0  0.0  0.0  0.0\n",
       " 0.0  0.0  0.0  0.0"
      ]
     },
     "execution_count": 36,
     "metadata": {},
     "output_type": "execute_result"
    }
   ],
   "source": [
    "# 3x4 matrix of zeros\n",
    "zeros(3,4)"
   ]
  },
  {
   "cell_type": "markdown",
   "metadata": {},
   "source": [
    "There are so many ways to initialize and create arrays because Julia is built around matrix manipulation. We will get to cooler functions and applications later, but feel free to do some research on your own, especially during the Euler problems (Hint: if you \"wish\" a function that manipulated an array in a certain way existed, chances are it does, you just need to find it)."
   ]
  },
  {
   "cell_type": "markdown",
   "metadata": {},
   "source": [
    "## Conditionals\n",
    "Julia has `if` statements. They are structured like this:"
   ]
  },
  {
   "cell_type": "code",
   "execution_count": 38,
   "metadata": {
    "collapsed": false,
    "jupyter": {
     "outputs_hidden": false
    }
   },
   "outputs": [
    {
     "name": "stdout",
     "output_type": "stream",
     "text": [
      "15 is equal to 15\n"
     ]
    }
   ],
   "source": [
    "x = 15\n",
    "y = 15\n",
    "\n",
    "if x > y\n",
    "    println(\"$x is greater than $y\")\n",
    "else\n",
    "    println(\"$x is equal to $y\")\n",
    "end"
   ]
  },
  {
   "cell_type": "code",
   "execution_count": 39,
   "metadata": {},
   "outputs": [
    {
     "name": "stdout",
     "output_type": "stream",
     "text": [
      "15 is equal to 15\n"
     ]
    }
   ],
   "source": [
    "x > y ? println(\"$x is greater than $y\") : println(\"$x is equal to $y\")"
   ]
  },
  {
   "cell_type": "markdown",
   "metadata": {},
   "source": [
    "Some major takeaways. First, unlike Python, there is no `:` after the `if`s, `elseif`s or `else`s. This takes some getting used to. Secondly, to end the conditional, we write `end`. This will go for loops and functions as well. Julia also supports the ternary operator. I love the way it looks but it is kind of difficult to use and read, so I do not recommend using it most of the time. Below, we check if the thing before the `?` is true, and if it is, we do the thing to the right of the `?`. If not, we do the thing to the right of the `:`."
   ]
  },
  {
   "cell_type": "code",
   "execution_count": 40,
   "metadata": {
    "collapsed": false,
    "jupyter": {
     "outputs_hidden": false
    }
   },
   "outputs": [
    {
     "name": "stdout",
     "output_type": "stream",
     "text": [
      "a is true\n"
     ]
    }
   ],
   "source": [
    "a = true\n",
    "a ? println(\"a is true\") : println(\"a is false\")"
   ]
  },
  {
   "cell_type": "markdown",
   "metadata": {},
   "source": [
    "## Logic\n",
    "Julia contains mostly the same logic syntax as Java. `&&` denotes and, which only is true if both things on either side of the conditional are true. `||` denotes or, which is true if one or both things on either side of the conditional are true. `!` denotes not, which makes a true statement false and a false statement true. `&&` has a higher precedence in the order of operations than `||` but if you are worried about messing up the order, feel free to use parentheses to denote precedence. It is easy to mess around with them, especially in the space I have provided below :)."
   ]
  },
  {
   "cell_type": "code",
   "execution_count": 41,
   "metadata": {
    "collapsed": false,
    "jupyter": {
     "outputs_hidden": false
    }
   },
   "outputs": [
    {
     "name": "stdout",
     "output_type": "stream",
     "text": [
      "false\n",
      "true\n",
      "true\n"
     ]
    }
   ],
   "source": [
    "# change these to examine their behavior\n",
    "x = true\n",
    "y = true\n",
    "\n",
    "println(!x) # not x\n",
    "\n",
    "println(x && y) # x and y\n",
    "\n",
    "println(x || y) # x or y"
   ]
  },
  {
   "cell_type": "markdown",
   "metadata": {},
   "source": [
    "It can be helpful to know a few equalities as well (play around with the truth values of `x`, `y`, and `z` if you don't believe they will always be true):"
   ]
  },
  {
   "cell_type": "code",
   "execution_count": 42,
   "metadata": {
    "collapsed": false,
    "jupyter": {
     "outputs_hidden": false
    }
   },
   "outputs": [
    {
     "name": "stdout",
     "output_type": "stream",
     "text": [
      "true\n",
      "true\n",
      "true\n",
      "true\n"
     ]
    }
   ],
   "source": [
    "# DeMorgan's Law\n",
    "println(!(x && y) == (!x || !y))\n",
    "println(!(x || y) == (!x && !y))\n",
    "\n",
    "# Distribution of and over or and vice versa\n",
    "z = true\n",
    "println((z && (x || y)) == ((z && x) || (x && y)))\n",
    "println((z || (x && y)) == ((z || x) && (x || y)))"
   ]
  },
  {
   "cell_type": "markdown",
   "metadata": {},
   "source": [
    "There is also a helpful tool called short-circut evaluation. Basically when Julia is presented with an `||`, if the thing to the left is true, it marks the statement as true and doesn't bother evaluating the other side. This means we can avoid the out of bounds error in the following situation:"
   ]
  },
  {
   "cell_type": "code",
   "execution_count": 45,
   "metadata": {
    "collapsed": false,
    "jupyter": {
     "outputs_hidden": false
    }
   },
   "outputs": [
    {
     "name": "stdout",
     "output_type": "stream",
     "text": [
      "false\n"
     ]
    }
   ],
   "source": [
    "arr = [1,2,3]\n",
    "\n",
    "println(length(arr) > 4 && arr[4] == 4) # notice that arr[4] would throw an error"
   ]
  },
  {
   "cell_type": "markdown",
   "metadata": {},
   "source": [
    "## `struct`s and `const`s\n",
    "\n",
    "A `struct` in Julia is a lot like a `struct` in C, if you've seen those before. It's a custom data type with specific properties. Julia actually *isn't* an object-oriented language, so `struct`s are as close as you get to objects in Julia."
   ]
  },
  {
   "cell_type": "code",
   "execution_count": 46,
   "metadata": {},
   "outputs": [],
   "source": [
    "# Run this block once to declare a Person type\n",
    "struct Person{X}\n",
    "    name::String\n",
    "    age::Int\n",
    "    adult::Bool\n",
    "    pocket::X  # we can specify a custom type here and attach it to person\n",
    "end"
   ]
  },
  {
   "cell_type": "code",
   "execution_count": 60,
   "metadata": {},
   "outputs": [
    {
     "ename": "ErrorException",
     "evalue": "error in method definition: function Base.convert must be explicitly imported to be extended",
     "output_type": "error",
     "traceback": [
      "error in method definition: function Base.convert must be explicitly imported to be extended",
      "",
      "Stacktrace:",
      " [1] top-level scope at none:0",
      " [2] top-level scope at In[60]:1"
     ]
    }
   ],
   "source": [
    "function convert(me::Person)\n",
    "    return me.age\n",
    "end"
   ]
  },
  {
   "cell_type": "code",
   "execution_count": 47,
   "metadata": {},
   "outputs": [
    {
     "data": {
      "text/plain": [
       "Person{Rational}(\"Jeff\", 30, true, 7//1)"
      ]
     },
     "execution_count": 47,
     "metadata": {},
     "output_type": "execute_result"
    }
   ],
   "source": [
    "# Now run this block to create our person\n",
    "jeff = Person{Rational}(\"Jeff\", 30, true, 7)"
   ]
  },
  {
   "cell_type": "markdown",
   "metadata": {},
   "source": [
    "Notice how 7 gets coerced into a Rational, because we declared the Person with type Rational. We can access the properties of `jeff` like so:"
   ]
  },
  {
   "cell_type": "code",
   "execution_count": 48,
   "metadata": {},
   "outputs": [
    {
     "name": "stdout",
     "output_type": "stream",
     "text": [
      "Jeff\n",
      "7//1\n"
     ]
    }
   ],
   "source": [
    "println(jeff.name)\n",
    "println(jeff.pocket)"
   ]
  },
  {
   "cell_type": "markdown",
   "metadata": {},
   "source": [
    "A `const` keyword on a variable in Julia just means we can only define the variable once. See below for an example:"
   ]
  },
  {
   "cell_type": "code",
   "execution_count": 49,
   "metadata": {},
   "outputs": [
    {
     "ename": "ErrorException",
     "evalue": "invalid redefinition of constant myConstant",
     "output_type": "error",
     "traceback": [
      "invalid redefinition of constant myConstant",
      "",
      "Stacktrace:",
      " [1] top-level scope at In[49]:2"
     ]
    }
   ],
   "source": [
    "const myConstant = 10\n",
    "\n",
    "myConstant = \"new value\""
   ]
  },
  {
   "cell_type": "markdown",
   "metadata": {},
   "source": [
    "## Loops\n",
    "Let's talk about `for` loops and `while` loops. As you probably know, `for` loops run _for_ every element in the set it is fed. `while` loops run _while_ some condidition is true. For example, if we feed a for loop the range `1:5`.\n",
    "*Note: Ranges are inclusive on both ends in Julia, unlike Python.*"
   ]
  },
  {
   "cell_type": "code",
   "execution_count": 50,
   "metadata": {
    "collapsed": false,
    "jupyter": {
     "outputs_hidden": false
    }
   },
   "outputs": [
    {
     "name": "stdout",
     "output_type": "stream",
     "text": [
      "1\n",
      "2\n",
      "3\n",
      "4\n",
      "5\n"
     ]
    }
   ],
   "source": [
    "# for loops\n",
    "for n in 1:5\n",
    "    println(n)\n",
    "end"
   ]
  },
  {
   "cell_type": "code",
   "execution_count": 51,
   "metadata": {
    "collapsed": false,
    "jupyter": {
     "outputs_hidden": false
    }
   },
   "outputs": [
    {
     "name": "stdout",
     "output_type": "stream",
     "text": [
      "1\n",
      "2\n",
      "3\n",
      "4\n",
      "5\n"
     ]
    }
   ],
   "source": [
    "# while loops\n",
    "n = 1\n",
    "while n <= 5\n",
    "    println(n)\n",
    "    n += 1 # n++ does not work unfortunately\n",
    "end"
   ]
  },
  {
   "cell_type": "markdown",
   "metadata": {},
   "source": [
    "# ***Obligatory <span style=\"color:red\"><ins>LOOPS HAVE THEIR OWN SCOPE</ins></span> announcement***"
   ]
  },
  {
   "cell_type": "markdown",
   "metadata": {},
   "source": [
    "Scope is like the area of a program a variable is acessible in.\n",
    "\n",
    "This one will get ya. If you're writing a Julia script (not in a notebook!), you need to specify if you're using a variable that isn't declared inside the foor loop. To do this, we use the `global` keyword."
   ]
  },
  {
   "cell_type": "code",
   "execution_count": 53,
   "metadata": {},
   "outputs": [
    {
     "name": "stdout",
     "output_type": "stream",
     "text": [
      "6\n"
     ]
    },
    {
     "data": {
      "text/plain": [
       "Process(`\u001b[4mjulia\u001b[24m \u001b[4m-e\u001b[24m \u001b[4m'classes_christian_taught = 0\u001b[24m\n",
       "\u001b[4mfor i in 1:6\u001b[24m\n",
       "\u001b[4m    global classes_christian_taught\u001b[24m\n",
       "\u001b[4m    classes_christian_taught += 1\u001b[24m\n",
       "\u001b[4mend\u001b[24m\n",
       "\u001b[4m    println(classes_christian_taught)'\u001b[24m`, ProcessExited(0))"
      ]
     },
     "execution_count": 53,
     "metadata": {},
     "output_type": "execute_result"
    }
   ],
   "source": [
    "# Code in notebook\n",
    "classes_christian_taught = 0\n",
    "for i in 1:6\n",
    "    classes_christian_taught += 1\n",
    "end\n",
    "\n",
    "# try running it as a script\n",
    "run(`julia -e \"classes_christian_taught = 0\n",
    "for i in 1:6\n",
    "    global classes_christian_taught\n",
    "    classes_christian_taught += 1\n",
    "end\n",
    "    println(classes_christian_taught)\"`)"
   ]
  },
  {
   "cell_type": "markdown",
   "metadata": {},
   "source": [
    "Now for the great way to initialize an array I promised earlier. Julia supports a lot of single line things, especially when it comes to arrays. This is the most \"Julia\" way to initialize an array with the numbers 1 through 5 in it."
   ]
  },
  {
   "cell_type": "code",
   "execution_count": 54,
   "metadata": {
    "collapsed": false,
    "jupyter": {
     "outputs_hidden": false
    }
   },
   "outputs": [
    {
     "data": {
      "text/plain": [
       "5-element Array{Int64,1}:\n",
       " 1\n",
       " 2\n",
       " 3\n",
       " 4\n",
       " 5"
      ]
     },
     "execution_count": 54,
     "metadata": {},
     "output_type": "execute_result"
    }
   ],
   "source": [
    "nums = [n for n in 1:5]"
   ]
  },
  {
   "cell_type": "code",
   "execution_count": 56,
   "metadata": {},
   "outputs": [
    {
     "name": "stdout",
     "output_type": "stream",
     "text": [
      "Any[1, 2, 3, 4, 5]\n"
     ]
    }
   ],
   "source": [
    "nums = []\n",
    "\n",
    "for n in 1:5\n",
    "    push!(nums, n)\n",
    "end\n",
    "println(nums)"
   ]
  },
  {
   "cell_type": "markdown",
   "metadata": {},
   "source": [
    "Another \"hacky\" thing you can do in Julia is single line nested for loops. To illustrate this, lets create a simple mulitplication table represented as a matrix in 3 different ways, getting progressively more \"Julia\"."
   ]
  },
  {
   "cell_type": "code",
   "execution_count": 57,
   "metadata": {
    "collapsed": false,
    "jupyter": {
     "outputs_hidden": false
    }
   },
   "outputs": [
    {
     "data": {
      "text/plain": [
       "12×12 Array{Int64,2}:\n",
       "  1   2   3   4   5   6   7   8    9   10   11   12\n",
       "  2   4   6   8  10  12  14  16   18   20   22   24\n",
       "  3   6   9  12  15  18  21  24   27   30   33   36\n",
       "  4   8  12  16  20  24  28  32   36   40   44   48\n",
       "  5  10  15  20  25  30  35  40   45   50   55   60\n",
       "  6  12  18  24  30  36  42  48   54   60   66   72\n",
       "  7  14  21  28  35  42  49  56   63   70   77   84\n",
       "  8  16  24  32  40  48  56  64   72   80   88   96\n",
       "  9  18  27  36  45  54  63  72   81   90   99  108\n",
       " 10  20  30  40  50  60  70  80   90  100  110  120\n",
       " 11  22  33  44  55  66  77  88   99  110  121  132\n",
       " 12  24  36  48  60  72  84  96  108  120  132  144"
      ]
     },
     "execution_count": 57,
     "metadata": {},
     "output_type": "execute_result"
    }
   ],
   "source": [
    "# Method 1\n",
    "method1 = Array{Int, 2}(undef, 12,12) # start with an undefined 12x12 matrix\n",
    "\n",
    "# use classic nested for loops\n",
    "for row in 1:12\n",
    "    for col in 1:12\n",
    "        method1[row, col] = row * col\n",
    "    end\n",
    "end\n",
    "\n",
    "method1"
   ]
  },
  {
   "cell_type": "code",
   "execution_count": 58,
   "metadata": {
    "collapsed": false,
    "jupyter": {
     "outputs_hidden": false
    }
   },
   "outputs": [
    {
     "data": {
      "text/plain": [
       "12×12 Array{Int64,2}:\n",
       "  1   2   3   4   5   6   7   8    9   10   11   12\n",
       "  2   4   6   8  10  12  14  16   18   20   22   24\n",
       "  3   6   9  12  15  18  21  24   27   30   33   36\n",
       "  4   8  12  16  20  24  28  32   36   40   44   48\n",
       "  5  10  15  20  25  30  35  40   45   50   55   60\n",
       "  6  12  18  24  30  36  42  48   54   60   66   72\n",
       "  7  14  21  28  35  42  49  56   63   70   77   84\n",
       "  8  16  24  32  40  48  56  64   72   80   88   96\n",
       "  9  18  27  36  45  54  63  72   81   90   99  108\n",
       " 10  20  30  40  50  60  70  80   90  100  110  120\n",
       " 11  22  33  44  55  66  77  88   99  110  121  132\n",
       " 12  24  36  48  60  72  84  96  108  120  132  144"
      ]
     },
     "execution_count": 58,
     "metadata": {},
     "output_type": "execute_result"
    }
   ],
   "source": [
    "# Method 2\n",
    "method2 = Array{Int, 2}(undef, 12,12) # start with an undefined 12x12 matrix\n",
    "\n",
    "# use the more Julia, single line nested for loops\n",
    "for row in 1:12, col in 1:12\n",
    "    method2[row, col] = row * col\n",
    "end\n",
    "\n",
    "method2"
   ]
  },
  {
   "cell_type": "code",
   "execution_count": 59,
   "metadata": {
    "collapsed": false,
    "jupyter": {
     "outputs_hidden": false
    }
   },
   "outputs": [
    {
     "data": {
      "text/plain": [
       "12×12 Array{Int64,2}:\n",
       "  1   2   3   4   5   6   7   8    9   10   11   12\n",
       "  2   4   6   8  10  12  14  16   18   20   22   24\n",
       "  3   6   9  12  15  18  21  24   27   30   33   36\n",
       "  4   8  12  16  20  24  28  32   36   40   44   48\n",
       "  5  10  15  20  25  30  35  40   45   50   55   60\n",
       "  6  12  18  24  30  36  42  48   54   60   66   72\n",
       "  7  14  21  28  35  42  49  56   63   70   77   84\n",
       "  8  16  24  32  40  48  56  64   72   80   88   96\n",
       "  9  18  27  36  45  54  63  72   81   90   99  108\n",
       " 10  20  30  40  50  60  70  80   90  100  110  120\n",
       " 11  22  33  44  55  66  77  88   99  110  121  132\n",
       " 12  24  36  48  60  72  84  96  108  120  132  144"
      ]
     },
     "execution_count": 59,
     "metadata": {},
     "output_type": "execute_result"
    }
   ],
   "source": [
    "# Method 3\n",
    "\n",
    "# use the *very* Julia single line array comprehension\n",
    "method3 = [row * col for row in 1:12, col in 1:12] # so clean!"
   ]
  },
  {
   "cell_type": "markdown",
   "metadata": {},
   "source": [
    "Now that's what I call a times table!"
   ]
  },
  {
   "cell_type": "markdown",
   "metadata": {},
   "source": [
    "## Functions\n",
    "> \"Wow! I couldn't _function_ without functions!\" - Cameron, probably.\n",
    "\n",
    "Say we want a function to square things. We would use the keyword `function` to tell Julia we want to write a function, `return` to tell her to return, and `end` to tell her we are done writing the function."
   ]
  },
  {
   "cell_type": "code",
   "execution_count": 61,
   "metadata": {
    "collapsed": false,
    "jupyter": {
     "outputs_hidden": false
    }
   },
   "outputs": [
    {
     "name": "stdout",
     "output_type": "stream",
     "text": [
      "1\n",
      "4\n",
      "25\n"
     ]
    }
   ],
   "source": [
    "# write and test squareMe\n",
    "function squareMe(x)\n",
    "    return x^2\n",
    "end\n",
    "\n",
    "println(squareMe(1))\n",
    "println(squareMe(2))\n",
    "println(squareMe(5))"
   ]
  },
  {
   "cell_type": "markdown",
   "metadata": {},
   "source": [
    "Remember how Julia can square strings? What if we tried to throw in a string?"
   ]
  },
  {
   "cell_type": "code",
   "execution_count": 62,
   "metadata": {
    "collapsed": false,
    "jupyter": {
     "outputs_hidden": false
    }
   },
   "outputs": [
    {
     "data": {
      "text/plain": [
       "\"Big Green TractorBig Green Tractor\""
      ]
     },
     "execution_count": 62,
     "metadata": {},
     "output_type": "execute_result"
    }
   ],
   "source": [
    "# trying a string\n",
    "squareMe(\"Big Green Tractor\")"
   ]
  },
  {
   "cell_type": "markdown",
   "metadata": {},
   "source": [
    "Julia can handle it! If we wanted to specify numbers only, we could add *type definitions* to our function definition. Let's make a method called `squareMeNumbers` and restrict it to numbers only, using Julia's abstract `Number` type."
   ]
  },
  {
   "cell_type": "code",
   "execution_count": 64,
   "metadata": {},
   "outputs": [
    {
     "name": "stdout",
     "output_type": "stream",
     "text": [
      "49\n"
     ]
    },
    {
     "ename": "MethodError",
     "evalue": "MethodError: no method matching squareMeNumbers(::String)\nClosest candidates are:\n  squareMeNumbers(!Matched::Number) at In[64]:3",
     "output_type": "error",
     "traceback": [
      "MethodError: no method matching squareMeNumbers(::String)\nClosest candidates are:\n  squareMeNumbers(!Matched::Number) at In[64]:3",
      "",
      "Stacktrace:",
      " [1] top-level scope at In[64]:7"
     ]
    }
   ],
   "source": [
    "# limit squareMe to numbers only\n",
    "function squareMeNumbers(x::Number)::Number\n",
    "    return x^2\n",
    "end\n",
    "\n",
    "println(squareMeNumbers(7))\n",
    "println(squareMeNumbers(\"Test\"))"
   ]
  },
  {
   "cell_type": "markdown",
   "metadata": {},
   "source": [
    "What's cool about these function definitions is that we can specify the same function multiple times and have it act differently based on what type it's given. Check this out:"
   ]
  },
  {
   "cell_type": "code",
   "execution_count": 65,
   "metadata": {},
   "outputs": [
    {
     "data": {
      "text/plain": [
       "guessNumber (generic function with 2 methods)"
      ]
     },
     "execution_count": 65,
     "metadata": {},
     "output_type": "execute_result"
    }
   ],
   "source": [
    "# write two versions of the same function with multiple dispatch\n",
    "function guessNumber(x::Int)\n",
    "    return x == 69 ? \"Nice!\" : \"Nope that's not it.\"\n",
    "end\n",
    "\n",
    "function guessNumber(x) # generic function without type\n",
    "    return \"That's not a number!\"\n",
    "end"
   ]
  },
  {
   "cell_type": "markdown",
   "metadata": {},
   "source": [
    "Julia figures out what method we want based on our input. This feature is called **multiple dispatch**."
   ]
  },
  {
   "cell_type": "code",
   "execution_count": 66,
   "metadata": {},
   "outputs": [
    {
     "name": "stdout",
     "output_type": "stream",
     "text": [
      "Nice!\n",
      "That's not a number!\n"
     ]
    }
   ],
   "source": [
    "println(guessNumber(69))\n",
    "println(guessNumber(\"abc\"))"
   ]
  },
  {
   "cell_type": "code",
   "execution_count": 67,
   "metadata": {},
   "outputs": [
    {
     "data": {
      "text/plain": [
       "guessNumber (generic function with 2 methods)"
      ]
     },
     "execution_count": 67,
     "metadata": {},
     "output_type": "execute_result"
    }
   ],
   "source": [
    "guessNumber"
   ]
  },
  {
   "cell_type": "markdown",
   "metadata": {},
   "source": [
    "In fact, for many functions, Julia will accept all types of inputs, as long as they make sense."
   ]
  },
  {
   "cell_type": "markdown",
   "metadata": {},
   "source": [
    "### More ways to define functions"
   ]
  },
  {
   "cell_type": "markdown",
   "metadata": {},
   "source": [
    "There are three ways to define functions. Here they are below."
   ]
  },
  {
   "cell_type": "code",
   "execution_count": 68,
   "metadata": {},
   "outputs": [
    {
     "data": {
      "text/plain": [
       "f (generic function with 1 method)"
      ]
     },
     "execution_count": 68,
     "metadata": {},
     "output_type": "execute_result"
    }
   ],
   "source": [
    "function helloWorldNormal()\n",
    "    println(\"Hello, World!\")\n",
    "end\n",
    "\n",
    "helloWorldVariable = () -> println(\"Where is Christian today?\") # anonymous method\n",
    "\n",
    "helloWorldInline() = println(\"Nowhere to be found.\")\n",
    "\n",
    "f(x) = x^2 # mathy way"
   ]
  },
  {
   "cell_type": "code",
   "execution_count": 69,
   "metadata": {},
   "outputs": [
    {
     "name": "stdout",
     "output_type": "stream",
     "text": [
      "Where is Christian today?\n",
      "Nowhere to be found.\n"
     ]
    },
    {
     "data": {
      "text/plain": [
       "25"
      ]
     },
     "execution_count": 69,
     "metadata": {},
     "output_type": "execute_result"
    }
   ],
   "source": [
    "helloWorldVariable()\n",
    "helloWorldInline()\n",
    "\n",
    "f(5)"
   ]
  },
  {
   "cell_type": "markdown",
   "metadata": {},
   "source": [
    "### What the `!` means in Julia"
   ]
  },
  {
   "cell_type": "markdown",
   "metadata": {},
   "source": [
    "Remember how `!` denote that a function will change the array it is inputed? Here is a great example."
   ]
  },
  {
   "cell_type": "code",
   "execution_count": 70,
   "metadata": {
    "collapsed": false,
    "jupyter": {
     "outputs_hidden": false
    }
   },
   "outputs": [
    {
     "name": "stdout",
     "output_type": "stream",
     "text": [
      "[2, 5, 7]\n"
     ]
    },
    {
     "data": {
      "text/plain": [
       "3-element Array{Int64,1}:\n",
       " 5\n",
       " 2\n",
       " 7"
      ]
     },
     "execution_count": 70,
     "metadata": {},
     "output_type": "execute_result"
    }
   ],
   "source": [
    "toSort = [5, 2, 7]\n",
    "\n",
    "println(sort(toSort))\n",
    "\n",
    "toSort"
   ]
  },
  {
   "cell_type": "markdown",
   "metadata": {},
   "source": [
    "Notice how the array was sorted when it was returned, but the array itself was not altered. Compare that to `sort!`."
   ]
  },
  {
   "cell_type": "code",
   "execution_count": 71,
   "metadata": {
    "collapsed": false,
    "jupyter": {
     "outputs_hidden": false
    }
   },
   "outputs": [
    {
     "name": "stdout",
     "output_type": "stream",
     "text": [
      "[2, 5, 7]\n"
     ]
    },
    {
     "data": {
      "text/plain": [
       "3-element Array{Int64,1}:\n",
       " 2\n",
       " 5\n",
       " 7"
      ]
     },
     "execution_count": 71,
     "metadata": {},
     "output_type": "execute_result"
    }
   ],
   "source": [
    "toSort = [5, 2, 7]\n",
    "\n",
    "println(sort!(toSort))\n",
    "\n",
    "toSort"
   ]
  },
  {
   "cell_type": "markdown",
   "metadata": {},
   "source": [
    "The array is actually sorted now. Something to keep in mind while coding. "
   ]
  },
  {
   "cell_type": "markdown",
   "metadata": {},
   "source": [
    "# Euler Homework Problems\n",
    "\n",
    "Attempt these problems for extra Julia practice for homework. After each problem, you're provided with a code cell to work on your code. You might be able to present your solutions in class."
   ]
  },
  {
   "cell_type": "markdown",
   "metadata": {},
   "source": [
    "### Euler 1 (Multiples of 3 and 5)\n",
    "https://projecteuler.net/problem=1"
   ]
  },
  {
   "cell_type": "code",
   "execution_count": null,
   "metadata": {},
   "outputs": [],
   "source": []
  },
  {
   "cell_type": "markdown",
   "metadata": {},
   "source": [
    "### Euler 2 (Even Fibonacci numbers)\n",
    "https://projecteuler.net/problem=2"
   ]
  },
  {
   "cell_type": "code",
   "execution_count": null,
   "metadata": {},
   "outputs": [],
   "source": []
  },
  {
   "cell_type": "markdown",
   "metadata": {},
   "source": [
    "### Euler 4 (Largest palindrome product)\n",
    "https://projecteuler.net/problem=4\n",
    "\n",
    "_Hint: use the `digits()` function_"
   ]
  },
  {
   "cell_type": "code",
   "execution_count": null,
   "metadata": {},
   "outputs": [],
   "source": []
  },
  {
   "cell_type": "markdown",
   "metadata": {},
   "source": [
    "### Euler 6 (Sum square difference)\n",
    "https://projecteuler.net/problem=6"
   ]
  },
  {
   "cell_type": "code",
   "execution_count": null,
   "metadata": {},
   "outputs": [],
   "source": []
  },
  {
   "cell_type": "markdown",
   "metadata": {},
   "source": [
    "### Euler 8 (Largest product in a series)\n",
    "https://projecteuler.net/problem=8"
   ]
  },
  {
   "cell_type": "code",
   "execution_count": null,
   "metadata": {},
   "outputs": [],
   "source": []
  },
  {
   "cell_type": "markdown",
   "metadata": {},
   "source": [
    "### Euler 9 (Special Pythagorean triplet)\n",
    "https://projecteuler.net/problem=9\n",
    "\n",
    "_Hint: Julia is fast! Just brute force this one._"
   ]
  },
  {
   "cell_type": "code",
   "execution_count": null,
   "metadata": {},
   "outputs": [],
   "source": []
  }
 ],
 "metadata": {
  "kernelspec": {
   "display_name": "Julia 1.4.2",
   "language": "julia",
   "name": "julia-1.4"
  },
  "language_info": {
   "file_extension": ".jl",
   "mimetype": "application/julia",
   "name": "julia",
   "version": "1.4.2"
  }
 },
 "nbformat": 4,
 "nbformat_minor": 4
}
